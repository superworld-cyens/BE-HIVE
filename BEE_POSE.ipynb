{
 "cells": [
  {
   "cell_type": "markdown",
   "metadata": {},
   "source": [
    "# BEE Pose Estimation"
   ]
  },
  {
   "cell_type": "code",
   "execution_count": 2,
   "metadata": {
    "colab": {},
    "colab_type": "code",
    "id": "jqLZhp7EoEI0"
   },
   "outputs": [
    {
     "name": "stdout",
     "output_type": "stream",
     "text": [
      "Loading DLC 2.2.3...\n"
     ]
    }
   ],
   "source": [
    "import deeplabcut"
   ]
  },
  {
   "cell_type": "code",
   "execution_count": null,
   "metadata": {},
   "outputs": [],
   "source": [
    "path_config_file = './BEEPOSECOUNTING-13122022-bee pose-2022-12-13/config.yaml'"
   ]
  },
  {
   "cell_type": "markdown",
   "metadata": {
    "colab_type": "text",
    "id": "0yXW0bx1oEJA"
   },
   "source": [
    "## Extract frames from videos "
   ]
  },
  {
   "cell_type": "code",
   "execution_count": 27,
   "metadata": {
    "colab": {},
    "colab_type": "code",
    "id": "t1ulumCuoEJC"
   },
   "outputs": [
    {
     "name": "stdout",
     "output_type": "stream",
     "text": [
      "Config file read successfully.\n",
      "Do you want to extract (perhaps additional) frames for video: D:\\Documents\\RL\\PHD\\Project\\BH\\ANALYSIS\\POSEESTIMATION\\DeepLabCut\\DeepLabCut\\examples\\JUPYTER\\BEEPOSEChirag-POSE-2022-11-25\\videos\\video.avi ?\n",
      "yes/noNO\n",
      "Frames were successfully extracted, for the videos listed in the config.yaml file.\n",
      "\n",
      "You can now label the frames using the function 'label_frames' (Note, you should label frames extracted from diverse videos (and many videos; we do not recommend training on single videos!)).\n"
     ]
    }
   ],
   "source": [
    "deeplabcut.extract_frames(path_config_file, algo=\"kmean\") "
   ]
  },
  {
   "cell_type": "code",
   "execution_count": 23,
   "metadata": {},
   "outputs": [],
   "source": [
    "%gui wx\n",
    "deeplabcut.extract_frames(path_config_file,'manual')"
   ]
  },
  {
   "cell_type": "markdown",
   "metadata": {
    "colab_type": "text",
    "id": "Gjn6ZDonoEJH"
   },
   "source": [
    "## Label the extracted frames"
   ]
  },
  {
   "cell_type": "code",
   "execution_count": 8,
   "metadata": {
    "colab": {},
    "colab_type": "code",
    "id": "iyROSOiEoEJI"
   },
   "outputs": [
    {
     "name": "stdout",
     "output_type": "stream",
     "text": [
      "You can now check the labels, using 'check_labels' before proceeding. Then,  you can use the function 'create_training_dataset' to create the training dataset.\n"
     ]
    }
   ],
   "source": [
    "%gui wx\n",
    "deeplabcut.label_frames(path_config_file)"
   ]
  },
  {
   "cell_type": "markdown",
   "metadata": {
    "colab_type": "text",
    "id": "vim95ZvkPSeN"
   },
   "source": [
    "## Check the labels"
   ]
  },
  {
   "cell_type": "code",
   "execution_count": 28,
   "metadata": {
    "colab": {},
    "colab_type": "code",
    "id": "NwvgPJouPP2O"
   },
   "outputs": [
    {
     "name": "stdout",
     "output_type": "stream",
     "text": [
      "Creating images with labels by POSE.\n"
     ]
    },
    {
     "name": "stderr",
     "output_type": "stream",
     "text": [
      "\n",
      "\n",
      "\n",
      "\n",
      "  0%|                                                             | 0/40 [00:00<?, ?it/s]\u001b[A\u001b[A\u001b[A\u001b[A\n",
      "\n",
      "\n",
      "\n",
      "  5%|██▋                                                  | 2/40 [00:00<00:02, 18.55it/s]\u001b[A\u001b[A\u001b[A\u001b[A\n",
      "\n",
      "\n",
      "\n",
      " 10%|█████▎                                               | 4/40 [00:00<00:01, 19.05it/s]\u001b[A\u001b[A\u001b[A\u001b[A\n",
      "\n",
      "\n",
      "\n",
      " 15%|███████▉                                             | 6/40 [00:00<00:01, 19.21it/s]\u001b[A\u001b[A\u001b[A\u001b[A\n",
      "\n",
      "\n",
      "\n",
      " 22%|███████████▉                                         | 9/40 [00:00<00:01, 18.85it/s]\u001b[A\u001b[A\u001b[A\u001b[A\n",
      "\n",
      "\n",
      "\n",
      " 30%|███████████████▌                                    | 12/40 [00:00<00:01, 19.52it/s]\u001b[A\u001b[A\u001b[A\u001b[A\n",
      "\n",
      "\n",
      "\n",
      " 35%|██████████████████▏                                 | 14/40 [00:00<00:01, 19.62it/s]\u001b[A\u001b[A\u001b[A\u001b[A\n",
      "\n",
      "\n",
      "\n",
      " 40%|████████████████████▊                               | 16/40 [00:00<00:01, 19.61it/s]\u001b[A\u001b[A\u001b[A\u001b[A\n",
      "\n",
      "\n",
      "\n",
      " 45%|███████████████████████▍                            | 18/40 [00:00<00:01, 19.65it/s]\u001b[A\u001b[A\u001b[A\u001b[A\n",
      "\n",
      "\n",
      "\n",
      " 52%|███████████████████████████▎                        | 21/40 [00:01<00:00, 20.73it/s]\u001b[A\u001b[A\u001b[A\u001b[A\n",
      "\n",
      "\n",
      "\n",
      " 60%|███████████████████████████████▏                    | 24/40 [00:01<00:00, 20.76it/s]\u001b[A\u001b[A\u001b[A\u001b[A\n",
      "\n",
      "\n",
      "\n",
      " 68%|███████████████████████████████████                 | 27/40 [00:01<00:00, 20.73it/s]\u001b[A\u001b[A\u001b[A\u001b[A\n",
      "\n",
      "\n",
      "\n",
      " 75%|███████████████████████████████████████             | 30/40 [00:01<00:00, 21.05it/s]\u001b[A\u001b[A\u001b[A\u001b[A\n",
      "\n",
      "\n",
      "\n",
      " 82%|██████████████████████████████████████████▉         | 33/40 [00:01<00:00, 21.41it/s]\u001b[A\u001b[A\u001b[A\u001b[A\n",
      "\n",
      "\n",
      "\n",
      " 90%|██████████████████████████████████████████████▊     | 36/40 [00:01<00:00, 21.18it/s]\u001b[A\u001b[A\u001b[A\u001b[A\n",
      "\n",
      "\n",
      "\n",
      "100%|████████████████████████████████████████████████████| 40/40 [00:01<00:00, 20.36it/s]\u001b[A\u001b[A\u001b[A\u001b[A"
     ]
    },
    {
     "name": "stdout",
     "output_type": "stream",
     "text": [
      "If all the labels are ok, then use the function 'create_training_dataset' to create the training dataset!\n"
     ]
    },
    {
     "name": "stderr",
     "output_type": "stream",
     "text": [
      "\n"
     ]
    }
   ],
   "source": [
    "deeplabcut.check_labels(path_config_file) #this creates a subdirectory with the frames + your labels"
   ]
  },
  {
   "cell_type": "markdown",
   "metadata": {
    "colab_type": "text",
    "id": "xNi9s1dboEJN"
   },
   "source": [
    "## Create a training dataset\n"
   ]
  },
  {
   "cell_type": "code",
   "execution_count": 29,
   "metadata": {
    "colab": {},
    "colab_type": "code",
    "id": "eMeUwgxPoEJP",
    "scrolled": true
   },
   "outputs": [
    {
     "name": "stdout",
     "output_type": "stream",
     "text": [
      "Utilizing the following graph: [[0, 1], [0, 2], [1, 2]]\n",
      "Creating training data for: Shuffle: 1 TrainFraction:  0.95\n"
     ]
    },
    {
     "name": "stderr",
     "output_type": "stream",
     "text": [
      "\n",
      "\n",
      "\n",
      "\n",
      "100%|██████████████████████████████████████████████████| 38/38 [00:00<00:00, 2526.33it/s]\u001b[A\u001b[A\u001b[A\u001b[A"
     ]
    },
    {
     "name": "stdout",
     "output_type": "stream",
     "text": [
      "The training dataset is successfully created. Use the function 'train_network' to start training. Happy training!\n"
     ]
    },
    {
     "name": "stderr",
     "output_type": "stream",
     "text": [
      "\n"
     ]
    }
   ],
   "source": [
    "deeplabcut.create_training_dataset(path_config_file)\n",
    "#remember, there are several networks you can pick, the default is resnet-50!"
   ]
  },
  {
   "cell_type": "markdown",
   "metadata": {
    "colab_type": "text",
    "id": "c4FczXGDoEJU"
   },
   "source": [
    "## Start training:"
   ]
  },
  {
   "cell_type": "code",
   "execution_count": 8,
   "metadata": {
    "colab": {},
    "colab_type": "code",
    "id": "_pOvDq_2oEJW"
   },
   "outputs": [
    {
     "name": "stderr",
     "output_type": "stream",
     "text": [
      "Config:\n",
      "{'all_joints': [[0], [1], [2]],\n",
      " 'all_joints_names': ['Head', 'Abdomen', 'Tail'],\n",
      " 'alpha_r': 0.02,\n",
      " 'apply_prob': 0.5,\n",
      " 'batch_size': 1,\n",
      " 'contrast': {'clahe': True,\n",
      "              'claheratio': 0.1,\n",
      "              'histeq': True,\n",
      "              'histeqratio': 0.1},\n",
      " 'convolution': {'edge': False,\n",
      "                 'emboss': {'alpha': [0.0, 1.0], 'strength': [0.5, 1.5]},\n",
      "                 'embossratio': 0.1,\n",
      "                 'sharpen': False,\n",
      "                 'sharpenratio': 0.3},\n",
      " 'crop_pad': 0,\n",
      " 'cropratio': 0.4,\n",
      " 'dataset': 'training-datasets\\\\iteration-0\\\\UnaugmentedDataSet_POSEESTIMATENov25\\\\POSEESTIMATE_CHI95shuffle1.mat',\n",
      " 'dataset_type': 'default',\n",
      " 'decay_steps': 30000,\n",
      " 'deterministic': False,\n",
      " 'display_iters': 1000,\n",
      " 'fg_fraction': 0.25,\n",
      " 'global_scale': 0.8,\n",
      " 'init_weights': 'C:\\\\Users\\\\chira\\\\miniconda3\\\\envs\\\\tfenv\\\\lib\\\\site-packages\\\\deeplabcut\\\\pose_estimation_tensorflow\\\\models\\\\pretrained\\\\mobilenet_v2_1.0_224.ckpt',\n",
      " 'intermediate_supervision': False,\n",
      " 'intermediate_supervision_layer': 12,\n",
      " 'location_refinement': True,\n",
      " 'locref_huber_loss': True,\n",
      " 'locref_loss_weight': 0.05,\n",
      " 'locref_stdev': 7.2801,\n",
      " 'log_dir': 'log',\n",
      " 'lr_init': 0.0005,\n",
      " 'max_input_size': 1500,\n",
      " 'mean_pixel': [123.68, 116.779, 103.939],\n",
      " 'metadataset': 'training-datasets\\\\iteration-0\\\\UnaugmentedDataSet_POSEESTIMATENov25\\\\Documentation_data-POSEESTIMATE_95shuffle1.pickle',\n",
      " 'min_input_size': 64,\n",
      " 'mirror': False,\n",
      " 'multi_stage': False,\n",
      " 'multi_step': [[0.005, 10000],\n",
      "                [0.02, 430000],\n",
      "                [0.002, 730000],\n",
      "                [0.001, 1030000]],\n",
      " 'net_type': 'mobilenet_v2_1.0',\n",
      " 'num_joints': 3,\n",
      " 'optimizer': 'sgd',\n",
      " 'pairwise_huber_loss': False,\n",
      " 'pairwise_predict': False,\n",
      " 'partaffinityfield_predict': False,\n",
      " 'pos_dist_thresh': 17,\n",
      " 'project_path': 'D:\\\\Documents\\\\RL\\\\PHD\\\\Project\\\\BH\\\\ANALYSIS\\\\POSEESTIMATION\\\\DeepLabCut\\\\DeepLabCut\\\\examples\\\\JUPYTER\\\\POSEESTIMATE-CHI-2022-11-25',\n",
      " 'regularize': False,\n",
      " 'rotation': 25,\n",
      " 'rotratio': 0.4,\n",
      " 'save_iters': 50000,\n",
      " 'scale_jitter_lo': 0.5,\n",
      " 'scale_jitter_up': 1.25,\n",
      " 'scoremap_dir': 'test',\n",
      " 'shuffle': True,\n",
      " 'snapshot_prefix': 'D:\\\\Documents\\\\RL\\\\PHD\\\\Project\\\\BH\\\\ANALYSIS\\\\POSEESTIMATION\\\\DeepLabCut\\\\DeepLabCut\\\\examples\\\\JUPYTER\\\\POSEESTIMATE-CHI-2022-11-25\\\\dlc-models\\\\iteration-0\\\\POSEESTIMATENov25-trainset95shuffle1\\\\train\\\\snapshot',\n",
      " 'stride': 8.0,\n",
      " 'weigh_negatives': False,\n",
      " 'weigh_only_present_joints': False,\n",
      " 'weigh_part_predictions': False,\n",
      " 'weight_decay': 0.0001}\n"
     ]
    },
    {
     "name": "stdout",
     "output_type": "stream",
     "text": [
      "Selecting single-animal trainer\n",
      "Batch Size is 1\n"
     ]
    },
    {
     "name": "stderr",
     "output_type": "stream",
     "text": [
      "C:\\Users\\chira\\miniconda3\\envs\\tfenv\\lib\\site-packages\\tensorflow\\python\\keras\\engine\\base_layer_v1.py:1694: UserWarning: `layer.apply` is deprecated and will be removed in a future version. Please use `layer.__call__` method instead.\n",
      "  warnings.warn('`layer.apply` is deprecated and '\n"
     ]
    },
    {
     "name": "stdout",
     "output_type": "stream",
     "text": [
      "Loading ImageNet-pretrained mobilenet_v2_1.0\n",
      "Training parameter:\n",
      "{'stride': 8.0, 'weigh_part_predictions': False, 'weigh_negatives': False, 'fg_fraction': 0.25, 'mean_pixel': [123.68, 116.779, 103.939], 'shuffle': True, 'snapshot_prefix': 'D:\\\\Documents\\\\RL\\\\PHD\\\\Project\\\\BH\\\\ANALYSIS\\\\POSEESTIMATION\\\\DeepLabCut\\\\DeepLabCut\\\\examples\\\\JUPYTER\\\\POSEESTIMATE-CHI-2022-11-25\\\\dlc-models\\\\iteration-0\\\\POSEESTIMATENov25-trainset95shuffle1\\\\train\\\\snapshot', 'log_dir': 'log', 'global_scale': 0.8, 'location_refinement': True, 'locref_stdev': 7.2801, 'locref_loss_weight': 0.05, 'locref_huber_loss': True, 'optimizer': 'sgd', 'intermediate_supervision': False, 'intermediate_supervision_layer': 12, 'regularize': False, 'weight_decay': 0.0001, 'crop_pad': 0, 'scoremap_dir': 'test', 'batch_size': 1, 'dataset_type': 'default', 'deterministic': False, 'mirror': False, 'pairwise_huber_loss': False, 'weigh_only_present_joints': False, 'partaffinityfield_predict': False, 'pairwise_predict': False, 'all_joints': [[0], [1], [2]], 'all_joints_names': ['Head', 'Abdomen', 'Tail'], 'alpha_r': 0.02, 'apply_prob': 0.5, 'contrast': {'clahe': True, 'claheratio': 0.1, 'histeq': True, 'histeqratio': 0.1, 'gamma': False, 'sigmoid': False, 'log': False, 'linear': False}, 'convolution': {'edge': False, 'emboss': {'alpha': [0.0, 1.0], 'strength': [0.5, 1.5]}, 'embossratio': 0.1, 'sharpen': False, 'sharpenratio': 0.3}, 'cropratio': 0.4, 'dataset': 'training-datasets\\\\iteration-0\\\\UnaugmentedDataSet_POSEESTIMATENov25\\\\POSEESTIMATE_CHI95shuffle1.mat', 'decay_steps': 30000, 'display_iters': 1000, 'init_weights': 'C:\\\\Users\\\\chira\\\\miniconda3\\\\envs\\\\tfenv\\\\lib\\\\site-packages\\\\deeplabcut\\\\pose_estimation_tensorflow\\\\models\\\\pretrained\\\\mobilenet_v2_1.0_224.ckpt', 'lr_init': 0.0005, 'max_input_size': 1500, 'metadataset': 'training-datasets\\\\iteration-0\\\\UnaugmentedDataSet_POSEESTIMATENov25\\\\Documentation_data-POSEESTIMATE_95shuffle1.pickle', 'min_input_size': 64, 'multi_stage': False, 'multi_step': [[0.005, 10000], [0.02, 430000], [0.002, 730000], [0.001, 1030000]], 'net_type': 'mobilenet_v2_1.0', 'num_joints': 3, 'pos_dist_thresh': 17, 'project_path': 'D:\\\\Documents\\\\RL\\\\PHD\\\\Project\\\\BH\\\\ANALYSIS\\\\POSEESTIMATION\\\\DeepLabCut\\\\DeepLabCut\\\\examples\\\\JUPYTER\\\\POSEESTIMATE-CHI-2022-11-25', 'rotation': 25, 'rotratio': 0.4, 'save_iters': 50000, 'scale_jitter_lo': 0.5, 'scale_jitter_up': 1.25, 'covering': True, 'elastic_transform': True, 'motion_blur': True, 'motion_blur_params': {'k': 7, 'angle': (-90, 90)}}\n",
      "Starting training....\n"
     ]
    },
    {
     "name": "stderr",
     "output_type": "stream",
     "text": [
      "iteration: 1000 loss: 0.0578 lr: 0.005\n",
      "iteration: 2000 loss: 0.0315 lr: 0.005\n",
      "iteration: 3000 loss: 0.0249 lr: 0.005\n",
      "iteration: 4000 loss: 0.0218 lr: 0.005\n",
      "iteration: 5000 loss: 0.0189 lr: 0.005\n",
      "iteration: 6000 loss: 0.0162 lr: 0.005\n",
      "iteration: 7000 loss: 0.0139 lr: 0.005\n",
      "iteration: 8000 loss: 0.0132 lr: 0.005\n",
      "iteration: 9000 loss: 0.0116 lr: 0.005\n",
      "iteration: 10000 loss: 0.0118 lr: 0.005\n",
      "iteration: 11000 loss: 0.0147 lr: 0.02\n",
      "iteration: 12000 loss: 0.0127 lr: 0.02\n",
      "iteration: 13000 loss: 0.0116 lr: 0.02\n",
      "iteration: 14000 loss: 0.0106 lr: 0.02\n",
      "iteration: 15000 loss: 0.0098 lr: 0.02\n",
      "iteration: 16000 loss: 0.0082 lr: 0.02\n",
      "iteration: 17000 loss: 0.0083 lr: 0.02\n",
      "iteration: 18000 loss: 0.0080 lr: 0.02\n",
      "iteration: 19000 loss: 0.0076 lr: 0.02\n",
      "iteration: 20000 loss: 0.0074 lr: 0.02\n",
      "iteration: 21000 loss: 0.0069 lr: 0.02\n",
      "iteration: 22000 loss: 0.0069 lr: 0.02\n",
      "iteration: 23000 loss: 0.0067 lr: 0.02\n",
      "iteration: 24000 loss: 0.0067 lr: 0.02\n",
      "iteration: 25000 loss: 0.0062 lr: 0.02\n",
      "iteration: 26000 loss: 0.0065 lr: 0.02\n",
      "iteration: 27000 loss: 0.0062 lr: 0.02\n",
      "iteration: 28000 loss: 0.0060 lr: 0.02\n",
      "iteration: 29000 loss: 0.0059 lr: 0.02\n",
      "iteration: 30000 loss: 0.0058 lr: 0.02\n",
      "iteration: 31000 loss: 0.0058 lr: 0.02\n",
      "iteration: 32000 loss: 0.0058 lr: 0.02\n",
      "iteration: 33000 loss: 0.0056 lr: 0.02\n",
      "iteration: 34000 loss: 0.0054 lr: 0.02\n",
      "iteration: 35000 loss: 0.0055 lr: 0.02\n",
      "iteration: 36000 loss: 0.0051 lr: 0.02\n",
      "iteration: 37000 loss: 0.0052 lr: 0.02\n",
      "iteration: 38000 loss: 0.0049 lr: 0.02\n",
      "iteration: 39000 loss: 0.0048 lr: 0.02\n",
      "iteration: 40000 loss: 0.0048 lr: 0.02\n",
      "iteration: 41000 loss: 0.0051 lr: 0.02\n",
      "iteration: 42000 loss: 0.0049 lr: 0.02\n",
      "iteration: 43000 loss: 0.0051 lr: 0.02\n",
      "iteration: 44000 loss: 0.0050 lr: 0.02\n",
      "iteration: 45000 loss: 0.0047 lr: 0.02\n",
      "iteration: 46000 loss: 0.0050 lr: 0.02\n",
      "iteration: 47000 loss: 0.0046 lr: 0.02\n",
      "iteration: 48000 loss: 0.0048 lr: 0.02\n",
      "iteration: 49000 loss: 0.0048 lr: 0.02\n",
      "iteration: 50000 loss: 0.0048 lr: 0.02\n",
      "iteration: 51000 loss: 0.0044 lr: 0.02\n",
      "iteration: 52000 loss: 0.0046 lr: 0.02\n",
      "iteration: 53000 loss: 0.0045 lr: 0.02\n",
      "iteration: 54000 loss: 0.0045 lr: 0.02\n",
      "iteration: 55000 loss: 0.0044 lr: 0.02\n",
      "iteration: 56000 loss: 0.0044 lr: 0.02\n",
      "iteration: 57000 loss: 0.0044 lr: 0.02\n",
      "iteration: 58000 loss: 0.0043 lr: 0.02\n",
      "iteration: 59000 loss: 0.0043 lr: 0.02\n",
      "iteration: 60000 loss: 0.0043 lr: 0.02\n",
      "iteration: 61000 loss: 0.0042 lr: 0.02\n",
      "iteration: 62000 loss: 0.0043 lr: 0.02\n",
      "iteration: 63000 loss: 0.0043 lr: 0.02\n",
      "iteration: 64000 loss: 0.0039 lr: 0.02\n",
      "iteration: 65000 loss: 0.0041 lr: 0.02\n",
      "iteration: 66000 loss: 0.0040 lr: 0.02\n",
      "iteration: 67000 loss: 0.0041 lr: 0.02\n",
      "iteration: 68000 loss: 0.0040 lr: 0.02\n",
      "iteration: 69000 loss: 0.0040 lr: 0.02\n",
      "iteration: 70000 loss: 0.0039 lr: 0.02\n",
      "iteration: 71000 loss: 0.0043 lr: 0.02\n",
      "iteration: 72000 loss: 0.0039 lr: 0.02\n",
      "iteration: 73000 loss: 0.0042 lr: 0.02\n",
      "iteration: 74000 loss: 0.0043 lr: 0.02\n",
      "iteration: 75000 loss: 0.0039 lr: 0.02\n",
      "iteration: 76000 loss: 0.0038 lr: 0.02\n",
      "iteration: 77000 loss: 0.0040 lr: 0.02\n",
      "iteration: 78000 loss: 0.0041 lr: 0.02\n",
      "iteration: 79000 loss: 0.0040 lr: 0.02\n",
      "iteration: 80000 loss: 0.0039 lr: 0.02\n",
      "iteration: 81000 loss: 0.0039 lr: 0.02\n",
      "iteration: 82000 loss: 0.0037 lr: 0.02\n",
      "iteration: 83000 loss: 0.0038 lr: 0.02\n",
      "iteration: 84000 loss: 0.0038 lr: 0.02\n",
      "iteration: 85000 loss: 0.0037 lr: 0.02\n",
      "iteration: 86000 loss: 0.0037 lr: 0.02\n",
      "iteration: 87000 loss: 0.0038 lr: 0.02\n",
      "iteration: 88000 loss: 0.0038 lr: 0.02\n",
      "iteration: 89000 loss: 0.0037 lr: 0.02\n",
      "iteration: 90000 loss: 0.0037 lr: 0.02\n",
      "iteration: 91000 loss: 0.0037 lr: 0.02\n",
      "iteration: 92000 loss: 0.0038 lr: 0.02\n",
      "iteration: 93000 loss: 0.0037 lr: 0.02\n",
      "iteration: 94000 loss: 0.0037 lr: 0.02\n",
      "iteration: 95000 loss: 0.0037 lr: 0.02\n",
      "iteration: 96000 loss: 0.0037 lr: 0.02\n",
      "iteration: 97000 loss: 0.0038 lr: 0.02\n",
      "iteration: 98000 loss: 0.0038 lr: 0.02\n",
      "iteration: 99000 loss: 0.0038 lr: 0.02\n",
      "iteration: 100000 loss: 0.0036 lr: 0.02\n",
      "iteration: 101000 loss: 0.0036 lr: 0.02\n",
      "iteration: 102000 loss: 0.0036 lr: 0.02\n",
      "iteration: 103000 loss: 0.0036 lr: 0.02\n",
      "iteration: 104000 loss: 0.0037 lr: 0.02\n",
      "iteration: 105000 loss: 0.0036 lr: 0.02\n",
      "iteration: 106000 loss: 0.0036 lr: 0.02\n",
      "iteration: 107000 loss: 0.0036 lr: 0.02\n",
      "iteration: 108000 loss: 0.0037 lr: 0.02\n",
      "iteration: 109000 loss: 0.0034 lr: 0.02\n",
      "iteration: 110000 loss: 0.0036 lr: 0.02\n",
      "iteration: 111000 loss: 0.0035 lr: 0.02\n",
      "iteration: 112000 loss: 0.0035 lr: 0.02\n",
      "iteration: 113000 loss: 0.0035 lr: 0.02\n",
      "iteration: 114000 loss: 0.0036 lr: 0.02\n",
      "iteration: 115000 loss: 0.0034 lr: 0.02\n",
      "iteration: 116000 loss: 0.0037 lr: 0.02\n",
      "iteration: 117000 loss: 0.0034 lr: 0.02\n",
      "iteration: 118000 loss: 0.0034 lr: 0.02\n",
      "iteration: 119000 loss: 0.0034 lr: 0.02\n",
      "iteration: 120000 loss: 0.0035 lr: 0.02\n",
      "iteration: 121000 loss: 0.0032 lr: 0.02\n",
      "iteration: 122000 loss: 0.0034 lr: 0.02\n",
      "iteration: 123000 loss: 0.0034 lr: 0.02\n",
      "iteration: 124000 loss: 0.0034 lr: 0.02\n",
      "iteration: 125000 loss: 0.0033 lr: 0.02\n",
      "iteration: 126000 loss: 0.0034 lr: 0.02\n",
      "iteration: 127000 loss: 0.0034 lr: 0.02\n",
      "iteration: 128000 loss: 0.0034 lr: 0.02\n",
      "iteration: 129000 loss: 0.0034 lr: 0.02\n",
      "iteration: 130000 loss: 0.0036 lr: 0.02\n",
      "iteration: 131000 loss: 0.0034 lr: 0.02\n",
      "iteration: 132000 loss: 0.0034 lr: 0.02\n",
      "iteration: 133000 loss: 0.0032 lr: 0.02\n",
      "iteration: 134000 loss: 0.0032 lr: 0.02\n",
      "iteration: 135000 loss: 0.0032 lr: 0.02\n",
      "iteration: 136000 loss: 0.0034 lr: 0.02\n",
      "iteration: 137000 loss: 0.0033 lr: 0.02\n",
      "iteration: 138000 loss: 0.0034 lr: 0.02\n",
      "iteration: 139000 loss: 0.0033 lr: 0.02\n",
      "iteration: 140000 loss: 0.0033 lr: 0.02\n",
      "iteration: 141000 loss: 0.0034 lr: 0.02\n",
      "iteration: 142000 loss: 0.0033 lr: 0.02\n",
      "iteration: 143000 loss: 0.0033 lr: 0.02\n",
      "iteration: 144000 loss: 0.0033 lr: 0.02\n",
      "iteration: 145000 loss: 0.0032 lr: 0.02\n",
      "iteration: 146000 loss: 0.0033 lr: 0.02\n",
      "iteration: 147000 loss: 0.0033 lr: 0.02\n",
      "iteration: 148000 loss: 0.0033 lr: 0.02\n",
      "iteration: 149000 loss: 0.0031 lr: 0.02\n",
      "iteration: 150000 loss: 0.0032 lr: 0.02\n",
      "iteration: 151000 loss: 0.0034 lr: 0.02\n",
      "iteration: 152000 loss: 0.0033 lr: 0.02\n",
      "iteration: 153000 loss: 0.0033 lr: 0.02\n",
      "iteration: 154000 loss: 0.0031 lr: 0.02\n",
      "iteration: 155000 loss: 0.0033 lr: 0.02\n",
      "iteration: 156000 loss: 0.0034 lr: 0.02\n",
      "iteration: 157000 loss: 0.0031 lr: 0.02\n",
      "iteration: 158000 loss: 0.0034 lr: 0.02\n",
      "iteration: 159000 loss: 0.0034 lr: 0.02\n",
      "iteration: 160000 loss: 0.0032 lr: 0.02\n",
      "iteration: 161000 loss: 0.0034 lr: 0.02\n",
      "iteration: 162000 loss: 0.0030 lr: 0.02\n",
      "iteration: 163000 loss: 0.0030 lr: 0.02\n",
      "iteration: 164000 loss: 0.0032 lr: 0.02\n",
      "iteration: 165000 loss: 0.0030 lr: 0.02\n",
      "iteration: 166000 loss: 0.0031 lr: 0.02\n",
      "iteration: 167000 loss: 0.0032 lr: 0.02\n",
      "iteration: 168000 loss: 0.0033 lr: 0.02\n",
      "iteration: 169000 loss: 0.0032 lr: 0.02\n",
      "iteration: 170000 loss: 0.0033 lr: 0.02\n",
      "iteration: 171000 loss: 0.0031 lr: 0.02\n",
      "iteration: 172000 loss: 0.0031 lr: 0.02\n",
      "iteration: 173000 loss: 0.0031 lr: 0.02\n",
      "iteration: 174000 loss: 0.0032 lr: 0.02\n",
      "iteration: 175000 loss: 0.0031 lr: 0.02\n",
      "iteration: 176000 loss: 0.0031 lr: 0.02\n",
      "iteration: 177000 loss: 0.0032 lr: 0.02\n",
      "iteration: 178000 loss: 0.0033 lr: 0.02\n",
      "iteration: 179000 loss: 0.0032 lr: 0.02\n",
      "iteration: 180000 loss: 0.0033 lr: 0.02\n",
      "iteration: 181000 loss: 0.0033 lr: 0.02\n",
      "iteration: 182000 loss: 0.0030 lr: 0.02\n",
      "iteration: 183000 loss: 0.0029 lr: 0.02\n",
      "iteration: 184000 loss: 0.0032 lr: 0.02\n",
      "iteration: 185000 loss: 0.0032 lr: 0.02\n",
      "iteration: 186000 loss: 0.0033 lr: 0.02\n",
      "iteration: 187000 loss: 0.0031 lr: 0.02\n",
      "iteration: 188000 loss: 0.0029 lr: 0.02\n",
      "iteration: 189000 loss: 0.0028 lr: 0.02\n",
      "iteration: 190000 loss: 0.0029 lr: 0.02\n",
      "iteration: 191000 loss: 0.0031 lr: 0.02\n",
      "iteration: 192000 loss: 0.0031 lr: 0.02\n",
      "iteration: 193000 loss: 0.0032 lr: 0.02\n",
      "iteration: 194000 loss: 0.0030 lr: 0.02\n",
      "iteration: 195000 loss: 0.0031 lr: 0.02\n",
      "iteration: 196000 loss: 0.0030 lr: 0.02\n",
      "iteration: 197000 loss: 0.0031 lr: 0.02\n",
      "iteration: 198000 loss: 0.0030 lr: 0.02\n",
      "iteration: 199000 loss: 0.0030 lr: 0.02\n",
      "iteration: 200000 loss: 0.0030 lr: 0.02\n",
      "iteration: 201000 loss: 0.0029 lr: 0.02\n",
      "iteration: 202000 loss: 0.0030 lr: 0.02\n",
      "iteration: 203000 loss: 0.0030 lr: 0.02\n",
      "iteration: 204000 loss: 0.0031 lr: 0.02\n",
      "iteration: 205000 loss: 0.0031 lr: 0.02\n",
      "iteration: 206000 loss: 0.0030 lr: 0.02\n",
      "iteration: 207000 loss: 0.0029 lr: 0.02\n",
      "iteration: 208000 loss: 0.0029 lr: 0.02\n"
     ]
    },
    {
     "name": "stderr",
     "output_type": "stream",
     "text": [
      "iteration: 209000 loss: 0.0032 lr: 0.02\n",
      "iteration: 210000 loss: 0.0030 lr: 0.02\n",
      "iteration: 211000 loss: 0.0029 lr: 0.02\n",
      "iteration: 212000 loss: 0.0030 lr: 0.02\n",
      "iteration: 213000 loss: 0.0031 lr: 0.02\n",
      "iteration: 214000 loss: 0.0030 lr: 0.02\n",
      "iteration: 215000 loss: 0.0030 lr: 0.02\n",
      "iteration: 216000 loss: 0.0030 lr: 0.02\n",
      "iteration: 217000 loss: 0.0031 lr: 0.02\n",
      "iteration: 218000 loss: 0.0030 lr: 0.02\n",
      "iteration: 219000 loss: 0.0030 lr: 0.02\n",
      "iteration: 220000 loss: 0.0031 lr: 0.02\n",
      "iteration: 221000 loss: 0.0031 lr: 0.02\n",
      "iteration: 222000 loss: 0.0029 lr: 0.02\n",
      "iteration: 223000 loss: 0.0031 lr: 0.02\n",
      "iteration: 224000 loss: 0.0028 lr: 0.02\n",
      "iteration: 225000 loss: 0.0031 lr: 0.02\n",
      "iteration: 226000 loss: 0.0029 lr: 0.02\n",
      "iteration: 227000 loss: 0.0029 lr: 0.02\n",
      "iteration: 228000 loss: 0.0028 lr: 0.02\n",
      "iteration: 229000 loss: 0.0030 lr: 0.02\n",
      "iteration: 230000 loss: 0.0028 lr: 0.02\n",
      "iteration: 231000 loss: 0.0030 lr: 0.02\n",
      "iteration: 232000 loss: 0.0029 lr: 0.02\n",
      "iteration: 233000 loss: 0.0028 lr: 0.02\n",
      "iteration: 234000 loss: 0.0029 lr: 0.02\n",
      "iteration: 235000 loss: 0.0029 lr: 0.02\n",
      "iteration: 236000 loss: 0.0031 lr: 0.02\n",
      "iteration: 237000 loss: 0.0029 lr: 0.02\n",
      "iteration: 238000 loss: 0.0029 lr: 0.02\n",
      "iteration: 239000 loss: 0.0030 lr: 0.02\n",
      "iteration: 240000 loss: 0.0029 lr: 0.02\n",
      "iteration: 241000 loss: 0.0032 lr: 0.02\n",
      "iteration: 242000 loss: 0.0029 lr: 0.02\n",
      "iteration: 243000 loss: 0.0031 lr: 0.02\n",
      "iteration: 244000 loss: 0.0028 lr: 0.02\n",
      "iteration: 245000 loss: 0.0031 lr: 0.02\n",
      "iteration: 246000 loss: 0.0028 lr: 0.02\n",
      "iteration: 247000 loss: 0.0031 lr: 0.02\n",
      "iteration: 248000 loss: 0.0030 lr: 0.02\n",
      "iteration: 249000 loss: 0.0029 lr: 0.02\n",
      "iteration: 250000 loss: 0.0029 lr: 0.02\n",
      "iteration: 251000 loss: 0.0028 lr: 0.02\n",
      "iteration: 252000 loss: 0.0028 lr: 0.02\n",
      "iteration: 253000 loss: 0.0029 lr: 0.02\n",
      "iteration: 254000 loss: 0.0029 lr: 0.02\n",
      "iteration: 255000 loss: 0.0029 lr: 0.02\n",
      "iteration: 256000 loss: 0.0029 lr: 0.02\n",
      "iteration: 257000 loss: 0.0030 lr: 0.02\n",
      "iteration: 258000 loss: 0.0028 lr: 0.02\n",
      "iteration: 259000 loss: 0.0028 lr: 0.02\n",
      "iteration: 260000 loss: 0.0028 lr: 0.02\n",
      "iteration: 261000 loss: 0.0027 lr: 0.02\n",
      "iteration: 262000 loss: 0.0028 lr: 0.02\n",
      "iteration: 263000 loss: 0.0027 lr: 0.02\n",
      "iteration: 264000 loss: 0.0029 lr: 0.02\n",
      "iteration: 265000 loss: 0.0029 lr: 0.02\n",
      "iteration: 266000 loss: 0.0028 lr: 0.02\n",
      "iteration: 267000 loss: 0.0028 lr: 0.02\n",
      "iteration: 268000 loss: 0.0029 lr: 0.02\n",
      "iteration: 269000 loss: 0.0029 lr: 0.02\n",
      "iteration: 270000 loss: 0.0029 lr: 0.02\n",
      "iteration: 271000 loss: 0.0028 lr: 0.02\n",
      "iteration: 272000 loss: 0.0028 lr: 0.02\n",
      "iteration: 273000 loss: 0.0027 lr: 0.02\n",
      "iteration: 274000 loss: 0.0028 lr: 0.02\n",
      "iteration: 275000 loss: 0.0030 lr: 0.02\n",
      "iteration: 276000 loss: 0.0029 lr: 0.02\n",
      "iteration: 277000 loss: 0.0030 lr: 0.02\n",
      "iteration: 278000 loss: 0.0028 lr: 0.02\n",
      "iteration: 279000 loss: 0.0028 lr: 0.02\n",
      "iteration: 280000 loss: 0.0029 lr: 0.02\n",
      "iteration: 281000 loss: 0.0029 lr: 0.02\n",
      "iteration: 282000 loss: 0.0030 lr: 0.02\n",
      "iteration: 283000 loss: 0.0029 lr: 0.02\n",
      "iteration: 284000 loss: 0.0029 lr: 0.02\n",
      "iteration: 285000 loss: 0.0028 lr: 0.02\n",
      "iteration: 286000 loss: 0.0028 lr: 0.02\n",
      "iteration: 287000 loss: 0.0027 lr: 0.02\n",
      "iteration: 288000 loss: 0.0027 lr: 0.02\n",
      "iteration: 289000 loss: 0.0028 lr: 0.02\n",
      "iteration: 290000 loss: 0.0028 lr: 0.02\n",
      "iteration: 291000 loss: 0.0027 lr: 0.02\n",
      "iteration: 292000 loss: 0.0028 lr: 0.02\n",
      "iteration: 293000 loss: 0.0029 lr: 0.02\n",
      "iteration: 294000 loss: 0.0028 lr: 0.02\n",
      "iteration: 295000 loss: 0.0029 lr: 0.02\n",
      "iteration: 296000 loss: 0.0028 lr: 0.02\n",
      "iteration: 297000 loss: 0.0029 lr: 0.02\n",
      "iteration: 298000 loss: 0.0027 lr: 0.02\n",
      "iteration: 299000 loss: 0.0027 lr: 0.02\n",
      "iteration: 300000 loss: 0.0028 lr: 0.02\n",
      "iteration: 301000 loss: 0.0028 lr: 0.02\n",
      "iteration: 302000 loss: 0.0028 lr: 0.02\n",
      "iteration: 303000 loss: 0.0028 lr: 0.02\n",
      "iteration: 304000 loss: 0.0029 lr: 0.02\n",
      "iteration: 305000 loss: 0.0029 lr: 0.02\n",
      "iteration: 306000 loss: 0.0030 lr: 0.02\n",
      "iteration: 307000 loss: 0.0029 lr: 0.02\n",
      "iteration: 308000 loss: 0.0028 lr: 0.02\n",
      "iteration: 309000 loss: 0.0027 lr: 0.02\n",
      "iteration: 310000 loss: 0.0028 lr: 0.02\n",
      "iteration: 311000 loss: 0.0029 lr: 0.02\n",
      "iteration: 312000 loss: 0.0027 lr: 0.02\n",
      "iteration: 313000 loss: 0.0026 lr: 0.02\n",
      "iteration: 314000 loss: 0.0026 lr: 0.02\n",
      "iteration: 315000 loss: 0.0028 lr: 0.02\n",
      "iteration: 316000 loss: 0.0027 lr: 0.02\n",
      "iteration: 317000 loss: 0.0029 lr: 0.02\n",
      "iteration: 318000 loss: 0.0027 lr: 0.02\n",
      "iteration: 319000 loss: 0.0029 lr: 0.02\n",
      "iteration: 320000 loss: 0.0028 lr: 0.02\n",
      "iteration: 321000 loss: 0.0026 lr: 0.02\n",
      "iteration: 322000 loss: 0.0026 lr: 0.02\n",
      "iteration: 323000 loss: 0.0026 lr: 0.02\n",
      "iteration: 324000 loss: 0.0027 lr: 0.02\n",
      "iteration: 325000 loss: 0.0027 lr: 0.02\n",
      "iteration: 326000 loss: 0.0027 lr: 0.02\n",
      "iteration: 327000 loss: 0.0026 lr: 0.02\n",
      "iteration: 328000 loss: 0.0027 lr: 0.02\n",
      "iteration: 329000 loss: 0.0028 lr: 0.02\n",
      "iteration: 330000 loss: 0.0028 lr: 0.02\n",
      "iteration: 331000 loss: 0.0026 lr: 0.02\n",
      "iteration: 332000 loss: 0.0028 lr: 0.02\n",
      "iteration: 333000 loss: 0.0029 lr: 0.02\n",
      "iteration: 334000 loss: 0.0028 lr: 0.02\n",
      "iteration: 335000 loss: 0.0027 lr: 0.02\n",
      "iteration: 336000 loss: 0.0027 lr: 0.02\n",
      "iteration: 337000 loss: 0.0028 lr: 0.02\n",
      "iteration: 338000 loss: 0.0027 lr: 0.02\n",
      "iteration: 339000 loss: 0.0027 lr: 0.02\n",
      "iteration: 340000 loss: 0.0029 lr: 0.02\n",
      "iteration: 341000 loss: 0.0028 lr: 0.02\n",
      "iteration: 342000 loss: 0.0027 lr: 0.02\n",
      "iteration: 343000 loss: 0.0027 lr: 0.02\n",
      "iteration: 344000 loss: 0.0028 lr: 0.02\n",
      "iteration: 345000 loss: 0.0027 lr: 0.02\n",
      "iteration: 346000 loss: 0.0027 lr: 0.02\n",
      "iteration: 347000 loss: 0.0028 lr: 0.02\n",
      "iteration: 348000 loss: 0.0028 lr: 0.02\n",
      "iteration: 349000 loss: 0.0029 lr: 0.02\n",
      "iteration: 350000 loss: 0.0027 lr: 0.02\n",
      "iteration: 351000 loss: 0.0026 lr: 0.02\n",
      "iteration: 352000 loss: 0.0026 lr: 0.02\n",
      "iteration: 353000 loss: 0.0027 lr: 0.02\n",
      "iteration: 354000 loss: 0.0027 lr: 0.02\n",
      "iteration: 355000 loss: 0.0027 lr: 0.02\n",
      "iteration: 356000 loss: 0.0027 lr: 0.02\n",
      "iteration: 357000 loss: 0.0026 lr: 0.02\n",
      "iteration: 358000 loss: 0.0028 lr: 0.02\n",
      "iteration: 359000 loss: 0.0026 lr: 0.02\n",
      "iteration: 360000 loss: 0.0028 lr: 0.02\n",
      "iteration: 361000 loss: 0.0026 lr: 0.02\n",
      "iteration: 362000 loss: 0.0026 lr: 0.02\n",
      "iteration: 363000 loss: 0.0028 lr: 0.02\n",
      "iteration: 364000 loss: 0.0026 lr: 0.02\n",
      "iteration: 365000 loss: 0.0027 lr: 0.02\n",
      "iteration: 366000 loss: 0.0026 lr: 0.02\n",
      "iteration: 367000 loss: 0.0026 lr: 0.02\n",
      "iteration: 368000 loss: 0.0027 lr: 0.02\n",
      "iteration: 369000 loss: 0.0027 lr: 0.02\n",
      "iteration: 370000 loss: 0.0025 lr: 0.02\n",
      "iteration: 371000 loss: 0.0026 lr: 0.02\n",
      "iteration: 372000 loss: 0.0028 lr: 0.02\n",
      "iteration: 373000 loss: 0.0026 lr: 0.02\n",
      "iteration: 374000 loss: 0.0026 lr: 0.02\n",
      "iteration: 375000 loss: 0.0027 lr: 0.02\n",
      "iteration: 376000 loss: 0.0029 lr: 0.02\n",
      "iteration: 377000 loss: 0.0026 lr: 0.02\n",
      "iteration: 378000 loss: 0.0025 lr: 0.02\n",
      "iteration: 379000 loss: 0.0027 lr: 0.02\n",
      "iteration: 380000 loss: 0.0026 lr: 0.02\n",
      "iteration: 381000 loss: 0.0026 lr: 0.02\n",
      "iteration: 382000 loss: 0.0026 lr: 0.02\n",
      "iteration: 383000 loss: 0.0025 lr: 0.02\n",
      "iteration: 384000 loss: 0.0027 lr: 0.02\n",
      "iteration: 385000 loss: 0.0027 lr: 0.02\n",
      "iteration: 386000 loss: 0.0026 lr: 0.02\n",
      "iteration: 387000 loss: 0.0027 lr: 0.02\n",
      "iteration: 388000 loss: 0.0026 lr: 0.02\n",
      "iteration: 389000 loss: 0.0027 lr: 0.02\n",
      "iteration: 390000 loss: 0.0027 lr: 0.02\n",
      "iteration: 391000 loss: 0.0027 lr: 0.02\n",
      "iteration: 392000 loss: 0.0026 lr: 0.02\n",
      "iteration: 393000 loss: 0.0026 lr: 0.02\n",
      "iteration: 394000 loss: 0.0025 lr: 0.02\n",
      "iteration: 395000 loss: 0.0026 lr: 0.02\n",
      "iteration: 396000 loss: 0.0025 lr: 0.02\n",
      "iteration: 397000 loss: 0.0027 lr: 0.02\n",
      "iteration: 398000 loss: 0.0026 lr: 0.02\n",
      "iteration: 399000 loss: 0.0027 lr: 0.02\n",
      "iteration: 400000 loss: 0.0026 lr: 0.02\n",
      "iteration: 401000 loss: 0.0025 lr: 0.02\n",
      "iteration: 402000 loss: 0.0027 lr: 0.02\n",
      "iteration: 403000 loss: 0.0028 lr: 0.02\n",
      "iteration: 404000 loss: 0.0026 lr: 0.02\n",
      "iteration: 405000 loss: 0.0027 lr: 0.02\n",
      "iteration: 406000 loss: 0.0025 lr: 0.02\n",
      "iteration: 407000 loss: 0.0025 lr: 0.02\n",
      "iteration: 408000 loss: 0.0025 lr: 0.02\n",
      "iteration: 409000 loss: 0.0027 lr: 0.02\n",
      "iteration: 410000 loss: 0.0025 lr: 0.02\n",
      "iteration: 411000 loss: 0.0026 lr: 0.02\n",
      "iteration: 412000 loss: 0.0026 lr: 0.02\n",
      "iteration: 413000 loss: 0.0026 lr: 0.02\n"
     ]
    },
    {
     "name": "stderr",
     "output_type": "stream",
     "text": [
      "iteration: 414000 loss: 0.0027 lr: 0.02\n",
      "iteration: 415000 loss: 0.0026 lr: 0.02\n",
      "iteration: 416000 loss: 0.0026 lr: 0.02\n",
      "iteration: 417000 loss: 0.0027 lr: 0.02\n",
      "iteration: 418000 loss: 0.0026 lr: 0.02\n",
      "iteration: 419000 loss: 0.0025 lr: 0.02\n",
      "iteration: 420000 loss: 0.0028 lr: 0.02\n",
      "iteration: 421000 loss: 0.0027 lr: 0.02\n",
      "iteration: 422000 loss: 0.0027 lr: 0.02\n",
      "iteration: 423000 loss: 0.0027 lr: 0.02\n",
      "iteration: 424000 loss: 0.0026 lr: 0.02\n",
      "iteration: 425000 loss: 0.0026 lr: 0.02\n",
      "iteration: 426000 loss: 0.0025 lr: 0.02\n",
      "iteration: 427000 loss: 0.0025 lr: 0.02\n",
      "iteration: 428000 loss: 0.0026 lr: 0.02\n",
      "iteration: 429000 loss: 0.0026 lr: 0.02\n",
      "iteration: 430000 loss: 0.0026 lr: 0.02\n",
      "iteration: 431000 loss: 0.0024 lr: 0.002\n",
      "iteration: 432000 loss: 0.0023 lr: 0.002\n",
      "iteration: 433000 loss: 0.0023 lr: 0.002\n",
      "iteration: 434000 loss: 0.0023 lr: 0.002\n",
      "iteration: 435000 loss: 0.0022 lr: 0.002\n",
      "iteration: 436000 loss: 0.0023 lr: 0.002\n",
      "iteration: 437000 loss: 0.0022 lr: 0.002\n",
      "iteration: 438000 loss: 0.0022 lr: 0.002\n",
      "iteration: 439000 loss: 0.0021 lr: 0.002\n",
      "iteration: 440000 loss: 0.0023 lr: 0.002\n",
      "iteration: 441000 loss: 0.0022 lr: 0.002\n",
      "iteration: 442000 loss: 0.0024 lr: 0.002\n",
      "iteration: 443000 loss: 0.0022 lr: 0.002\n",
      "iteration: 444000 loss: 0.0021 lr: 0.002\n",
      "iteration: 445000 loss: 0.0020 lr: 0.002\n",
      "iteration: 446000 loss: 0.0021 lr: 0.002\n",
      "iteration: 447000 loss: 0.0021 lr: 0.002\n",
      "iteration: 448000 loss: 0.0021 lr: 0.002\n",
      "iteration: 449000 loss: 0.0022 lr: 0.002\n",
      "iteration: 450000 loss: 0.0021 lr: 0.002\n",
      "iteration: 451000 loss: 0.0022 lr: 0.002\n",
      "iteration: 452000 loss: 0.0022 lr: 0.002\n",
      "iteration: 453000 loss: 0.0021 lr: 0.002\n",
      "iteration: 454000 loss: 0.0021 lr: 0.002\n",
      "iteration: 455000 loss: 0.0021 lr: 0.002\n",
      "iteration: 456000 loss: 0.0021 lr: 0.002\n",
      "iteration: 457000 loss: 0.0021 lr: 0.002\n",
      "iteration: 458000 loss: 0.0020 lr: 0.002\n",
      "iteration: 459000 loss: 0.0022 lr: 0.002\n",
      "iteration: 460000 loss: 0.0021 lr: 0.002\n",
      "iteration: 461000 loss: 0.0021 lr: 0.002\n",
      "iteration: 462000 loss: 0.0021 lr: 0.002\n",
      "iteration: 463000 loss: 0.0021 lr: 0.002\n",
      "iteration: 464000 loss: 0.0022 lr: 0.002\n",
      "iteration: 465000 loss: 0.0021 lr: 0.002\n",
      "iteration: 466000 loss: 0.0021 lr: 0.002\n",
      "iteration: 467000 loss: 0.0021 lr: 0.002\n",
      "iteration: 468000 loss: 0.0021 lr: 0.002\n",
      "iteration: 469000 loss: 0.0021 lr: 0.002\n",
      "iteration: 470000 loss: 0.0021 lr: 0.002\n",
      "iteration: 471000 loss: 0.0021 lr: 0.002\n",
      "iteration: 472000 loss: 0.0021 lr: 0.002\n",
      "iteration: 473000 loss: 0.0022 lr: 0.002\n",
      "iteration: 474000 loss: 0.0021 lr: 0.002\n",
      "iteration: 475000 loss: 0.0021 lr: 0.002\n",
      "iteration: 476000 loss: 0.0021 lr: 0.002\n",
      "iteration: 477000 loss: 0.0022 lr: 0.002\n",
      "iteration: 478000 loss: 0.0022 lr: 0.002\n",
      "iteration: 479000 loss: 0.0021 lr: 0.002\n",
      "iteration: 480000 loss: 0.0022 lr: 0.002\n",
      "iteration: 481000 loss: 0.0021 lr: 0.002\n",
      "iteration: 482000 loss: 0.0020 lr: 0.002\n",
      "iteration: 483000 loss: 0.0021 lr: 0.002\n",
      "iteration: 484000 loss: 0.0022 lr: 0.002\n",
      "iteration: 485000 loss: 0.0021 lr: 0.002\n",
      "iteration: 486000 loss: 0.0020 lr: 0.002\n",
      "iteration: 487000 loss: 0.0021 lr: 0.002\n",
      "iteration: 488000 loss: 0.0021 lr: 0.002\n",
      "iteration: 489000 loss: 0.0021 lr: 0.002\n",
      "iteration: 490000 loss: 0.0020 lr: 0.002\n",
      "iteration: 491000 loss: 0.0021 lr: 0.002\n",
      "iteration: 492000 loss: 0.0021 lr: 0.002\n",
      "iteration: 493000 loss: 0.0021 lr: 0.002\n",
      "iteration: 494000 loss: 0.0022 lr: 0.002\n",
      "iteration: 495000 loss: 0.0020 lr: 0.002\n",
      "iteration: 496000 loss: 0.0020 lr: 0.002\n",
      "iteration: 497000 loss: 0.0024 lr: 0.002\n",
      "iteration: 498000 loss: 0.0020 lr: 0.002\n",
      "iteration: 499000 loss: 0.0021 lr: 0.002\n",
      "iteration: 500000 loss: 0.0021 lr: 0.002\n",
      "iteration: 501000 loss: 0.0021 lr: 0.002\n",
      "iteration: 502000 loss: 0.0021 lr: 0.002\n",
      "iteration: 503000 loss: 0.0020 lr: 0.002\n",
      "iteration: 504000 loss: 0.0021 lr: 0.002\n",
      "iteration: 505000 loss: 0.0020 lr: 0.002\n",
      "iteration: 506000 loss: 0.0021 lr: 0.002\n",
      "iteration: 507000 loss: 0.0021 lr: 0.002\n",
      "iteration: 508000 loss: 0.0022 lr: 0.002\n",
      "iteration: 509000 loss: 0.0020 lr: 0.002\n",
      "iteration: 510000 loss: 0.0021 lr: 0.002\n",
      "iteration: 511000 loss: 0.0020 lr: 0.002\n",
      "iteration: 512000 loss: 0.0020 lr: 0.002\n",
      "iteration: 513000 loss: 0.0021 lr: 0.002\n",
      "iteration: 514000 loss: 0.0022 lr: 0.002\n",
      "iteration: 515000 loss: 0.0020 lr: 0.002\n",
      "iteration: 516000 loss: 0.0021 lr: 0.002\n",
      "iteration: 517000 loss: 0.0022 lr: 0.002\n",
      "iteration: 518000 loss: 0.0020 lr: 0.002\n",
      "iteration: 519000 loss: 0.0020 lr: 0.002\n",
      "iteration: 520000 loss: 0.0021 lr: 0.002\n",
      "iteration: 521000 loss: 0.0021 lr: 0.002\n",
      "iteration: 522000 loss: 0.0020 lr: 0.002\n",
      "iteration: 523000 loss: 0.0020 lr: 0.002\n",
      "iteration: 524000 loss: 0.0021 lr: 0.002\n",
      "iteration: 525000 loss: 0.0021 lr: 0.002\n",
      "iteration: 526000 loss: 0.0021 lr: 0.002\n",
      "iteration: 527000 loss: 0.0022 lr: 0.002\n",
      "iteration: 528000 loss: 0.0021 lr: 0.002\n",
      "iteration: 529000 loss: 0.0021 lr: 0.002\n",
      "iteration: 530000 loss: 0.0021 lr: 0.002\n",
      "iteration: 531000 loss: 0.0021 lr: 0.002\n",
      "iteration: 532000 loss: 0.0021 lr: 0.002\n",
      "iteration: 533000 loss: 0.0022 lr: 0.002\n",
      "iteration: 534000 loss: 0.0020 lr: 0.002\n",
      "iteration: 535000 loss: 0.0021 lr: 0.002\n",
      "iteration: 536000 loss: 0.0021 lr: 0.002\n",
      "iteration: 537000 loss: 0.0021 lr: 0.002\n",
      "iteration: 538000 loss: 0.0021 lr: 0.002\n",
      "iteration: 539000 loss: 0.0021 lr: 0.002\n",
      "iteration: 540000 loss: 0.0020 lr: 0.002\n",
      "iteration: 541000 loss: 0.0020 lr: 0.002\n",
      "iteration: 542000 loss: 0.0022 lr: 0.002\n",
      "iteration: 543000 loss: 0.0022 lr: 0.002\n",
      "iteration: 544000 loss: 0.0022 lr: 0.002\n",
      "iteration: 545000 loss: 0.0021 lr: 0.002\n",
      "iteration: 546000 loss: 0.0021 lr: 0.002\n",
      "iteration: 547000 loss: 0.0020 lr: 0.002\n",
      "iteration: 548000 loss: 0.0020 lr: 0.002\n",
      "iteration: 549000 loss: 0.0020 lr: 0.002\n",
      "iteration: 550000 loss: 0.0021 lr: 0.002\n",
      "iteration: 551000 loss: 0.0021 lr: 0.002\n",
      "iteration: 552000 loss: 0.0022 lr: 0.002\n",
      "iteration: 553000 loss: 0.0021 lr: 0.002\n",
      "iteration: 554000 loss: 0.0022 lr: 0.002\n",
      "iteration: 555000 loss: 0.0020 lr: 0.002\n",
      "iteration: 556000 loss: 0.0020 lr: 0.002\n",
      "iteration: 557000 loss: 0.0020 lr: 0.002\n",
      "iteration: 558000 loss: 0.0020 lr: 0.002\n",
      "iteration: 559000 loss: 0.0022 lr: 0.002\n",
      "iteration: 560000 loss: 0.0020 lr: 0.002\n",
      "iteration: 561000 loss: 0.0021 lr: 0.002\n",
      "iteration: 562000 loss: 0.0019 lr: 0.002\n",
      "iteration: 563000 loss: 0.0021 lr: 0.002\n",
      "iteration: 564000 loss: 0.0022 lr: 0.002\n",
      "iteration: 565000 loss: 0.0020 lr: 0.002\n",
      "iteration: 566000 loss: 0.0020 lr: 0.002\n",
      "iteration: 567000 loss: 0.0019 lr: 0.002\n",
      "iteration: 568000 loss: 0.0021 lr: 0.002\n",
      "iteration: 569000 loss: 0.0021 lr: 0.002\n",
      "iteration: 570000 loss: 0.0021 lr: 0.002\n",
      "iteration: 571000 loss: 0.0021 lr: 0.002\n",
      "iteration: 572000 loss: 0.0020 lr: 0.002\n",
      "iteration: 573000 loss: 0.0021 lr: 0.002\n",
      "iteration: 574000 loss: 0.0021 lr: 0.002\n",
      "iteration: 575000 loss: 0.0019 lr: 0.002\n",
      "iteration: 576000 loss: 0.0021 lr: 0.002\n",
      "iteration: 577000 loss: 0.0021 lr: 0.002\n",
      "iteration: 578000 loss: 0.0021 lr: 0.002\n",
      "iteration: 579000 loss: 0.0021 lr: 0.002\n",
      "iteration: 580000 loss: 0.0021 lr: 0.002\n",
      "iteration: 581000 loss: 0.0022 lr: 0.002\n",
      "iteration: 582000 loss: 0.0021 lr: 0.002\n",
      "iteration: 583000 loss: 0.0020 lr: 0.002\n",
      "iteration: 584000 loss: 0.0021 lr: 0.002\n",
      "iteration: 585000 loss: 0.0021 lr: 0.002\n",
      "iteration: 586000 loss: 0.0020 lr: 0.002\n",
      "iteration: 587000 loss: 0.0020 lr: 0.002\n",
      "iteration: 588000 loss: 0.0021 lr: 0.002\n",
      "iteration: 589000 loss: 0.0020 lr: 0.002\n",
      "iteration: 590000 loss: 0.0020 lr: 0.002\n",
      "iteration: 591000 loss: 0.0020 lr: 0.002\n",
      "iteration: 592000 loss: 0.0020 lr: 0.002\n",
      "iteration: 593000 loss: 0.0021 lr: 0.002\n",
      "iteration: 594000 loss: 0.0020 lr: 0.002\n",
      "iteration: 595000 loss: 0.0020 lr: 0.002\n",
      "iteration: 596000 loss: 0.0022 lr: 0.002\n",
      "iteration: 597000 loss: 0.0021 lr: 0.002\n",
      "iteration: 598000 loss: 0.0020 lr: 0.002\n",
      "iteration: 599000 loss: 0.0020 lr: 0.002\n",
      "iteration: 600000 loss: 0.0019 lr: 0.002\n",
      "iteration: 601000 loss: 0.0020 lr: 0.002\n",
      "iteration: 602000 loss: 0.0021 lr: 0.002\n",
      "iteration: 603000 loss: 0.0021 lr: 0.002\n",
      "iteration: 604000 loss: 0.0020 lr: 0.002\n",
      "iteration: 605000 loss: 0.0021 lr: 0.002\n",
      "iteration: 606000 loss: 0.0021 lr: 0.002\n",
      "iteration: 607000 loss: 0.0020 lr: 0.002\n",
      "iteration: 608000 loss: 0.0020 lr: 0.002\n",
      "iteration: 609000 loss: 0.0021 lr: 0.002\n",
      "iteration: 610000 loss: 0.0020 lr: 0.002\n",
      "iteration: 611000 loss: 0.0021 lr: 0.002\n",
      "iteration: 612000 loss: 0.0020 lr: 0.002\n",
      "iteration: 613000 loss: 0.0022 lr: 0.002\n",
      "iteration: 614000 loss: 0.0020 lr: 0.002\n"
     ]
    },
    {
     "name": "stderr",
     "output_type": "stream",
     "text": [
      "iteration: 615000 loss: 0.0020 lr: 0.002\n",
      "iteration: 616000 loss: 0.0021 lr: 0.002\n",
      "iteration: 617000 loss: 0.0020 lr: 0.002\n",
      "iteration: 618000 loss: 0.0020 lr: 0.002\n",
      "iteration: 619000 loss: 0.0020 lr: 0.002\n",
      "iteration: 620000 loss: 0.0021 lr: 0.002\n",
      "iteration: 621000 loss: 0.0020 lr: 0.002\n",
      "iteration: 622000 loss: 0.0020 lr: 0.002\n",
      "iteration: 623000 loss: 0.0020 lr: 0.002\n",
      "iteration: 624000 loss: 0.0020 lr: 0.002\n",
      "iteration: 625000 loss: 0.0021 lr: 0.002\n",
      "iteration: 626000 loss: 0.0021 lr: 0.002\n",
      "iteration: 627000 loss: 0.0020 lr: 0.002\n",
      "iteration: 628000 loss: 0.0021 lr: 0.002\n",
      "iteration: 629000 loss: 0.0020 lr: 0.002\n",
      "iteration: 630000 loss: 0.0020 lr: 0.002\n",
      "iteration: 631000 loss: 0.0020 lr: 0.002\n",
      "iteration: 632000 loss: 0.0020 lr: 0.002\n",
      "iteration: 633000 loss: 0.0020 lr: 0.002\n",
      "iteration: 634000 loss: 0.0020 lr: 0.002\n",
      "iteration: 635000 loss: 0.0021 lr: 0.002\n",
      "iteration: 636000 loss: 0.0020 lr: 0.002\n",
      "iteration: 637000 loss: 0.0020 lr: 0.002\n",
      "iteration: 638000 loss: 0.0020 lr: 0.002\n",
      "iteration: 639000 loss: 0.0021 lr: 0.002\n",
      "iteration: 640000 loss: 0.0020 lr: 0.002\n",
      "iteration: 641000 loss: 0.0020 lr: 0.002\n",
      "iteration: 642000 loss: 0.0020 lr: 0.002\n",
      "iteration: 643000 loss: 0.0022 lr: 0.002\n",
      "iteration: 644000 loss: 0.0022 lr: 0.002\n",
      "iteration: 645000 loss: 0.0020 lr: 0.002\n",
      "iteration: 646000 loss: 0.0020 lr: 0.002\n",
      "iteration: 647000 loss: 0.0021 lr: 0.002\n",
      "iteration: 648000 loss: 0.0020 lr: 0.002\n",
      "iteration: 649000 loss: 0.0020 lr: 0.002\n",
      "iteration: 650000 loss: 0.0020 lr: 0.002\n",
      "iteration: 651000 loss: 0.0021 lr: 0.002\n",
      "iteration: 652000 loss: 0.0020 lr: 0.002\n",
      "iteration: 653000 loss: 0.0021 lr: 0.002\n",
      "iteration: 654000 loss: 0.0020 lr: 0.002\n",
      "iteration: 655000 loss: 0.0021 lr: 0.002\n",
      "iteration: 656000 loss: 0.0021 lr: 0.002\n",
      "iteration: 657000 loss: 0.0021 lr: 0.002\n",
      "iteration: 658000 loss: 0.0020 lr: 0.002\n",
      "iteration: 659000 loss: 0.0021 lr: 0.002\n",
      "iteration: 660000 loss: 0.0021 lr: 0.002\n",
      "iteration: 661000 loss: 0.0021 lr: 0.002\n",
      "iteration: 662000 loss: 0.0020 lr: 0.002\n",
      "iteration: 663000 loss: 0.0019 lr: 0.002\n",
      "iteration: 664000 loss: 0.0021 lr: 0.002\n",
      "iteration: 665000 loss: 0.0021 lr: 0.002\n",
      "iteration: 666000 loss: 0.0021 lr: 0.002\n",
      "iteration: 667000 loss: 0.0020 lr: 0.002\n",
      "iteration: 668000 loss: 0.0022 lr: 0.002\n",
      "iteration: 669000 loss: 0.0018 lr: 0.002\n",
      "iteration: 670000 loss: 0.0020 lr: 0.002\n",
      "iteration: 671000 loss: 0.0021 lr: 0.002\n",
      "iteration: 672000 loss: 0.0021 lr: 0.002\n",
      "iteration: 673000 loss: 0.0020 lr: 0.002\n",
      "iteration: 674000 loss: 0.0020 lr: 0.002\n",
      "iteration: 675000 loss: 0.0020 lr: 0.002\n",
      "iteration: 676000 loss: 0.0021 lr: 0.002\n",
      "iteration: 677000 loss: 0.0020 lr: 0.002\n",
      "iteration: 678000 loss: 0.0020 lr: 0.002\n",
      "iteration: 679000 loss: 0.0020 lr: 0.002\n",
      "iteration: 680000 loss: 0.0021 lr: 0.002\n",
      "iteration: 681000 loss: 0.0020 lr: 0.002\n",
      "iteration: 682000 loss: 0.0021 lr: 0.002\n",
      "iteration: 683000 loss: 0.0022 lr: 0.002\n",
      "iteration: 684000 loss: 0.0019 lr: 0.002\n",
      "iteration: 685000 loss: 0.0021 lr: 0.002\n",
      "iteration: 686000 loss: 0.0019 lr: 0.002\n",
      "iteration: 687000 loss: 0.0021 lr: 0.002\n",
      "iteration: 688000 loss: 0.0021 lr: 0.002\n",
      "iteration: 689000 loss: 0.0021 lr: 0.002\n",
      "iteration: 690000 loss: 0.0019 lr: 0.002\n",
      "iteration: 691000 loss: 0.0021 lr: 0.002\n",
      "iteration: 692000 loss: 0.0021 lr: 0.002\n",
      "iteration: 693000 loss: 0.0020 lr: 0.002\n",
      "iteration: 694000 loss: 0.0020 lr: 0.002\n",
      "iteration: 695000 loss: 0.0019 lr: 0.002\n",
      "iteration: 696000 loss: 0.0021 lr: 0.002\n",
      "iteration: 697000 loss: 0.0020 lr: 0.002\n",
      "iteration: 698000 loss: 0.0020 lr: 0.002\n",
      "iteration: 699000 loss: 0.0021 lr: 0.002\n",
      "iteration: 700000 loss: 0.0019 lr: 0.002\n",
      "iteration: 701000 loss: 0.0021 lr: 0.002\n",
      "iteration: 702000 loss: 0.0021 lr: 0.002\n",
      "iteration: 703000 loss: 0.0020 lr: 0.002\n",
      "iteration: 704000 loss: 0.0020 lr: 0.002\n",
      "iteration: 705000 loss: 0.0020 lr: 0.002\n",
      "iteration: 706000 loss: 0.0021 lr: 0.002\n",
      "iteration: 707000 loss: 0.0019 lr: 0.002\n",
      "iteration: 708000 loss: 0.0020 lr: 0.002\n",
      "iteration: 709000 loss: 0.0020 lr: 0.002\n",
      "iteration: 710000 loss: 0.0022 lr: 0.002\n",
      "iteration: 711000 loss: 0.0022 lr: 0.002\n",
      "iteration: 712000 loss: 0.0021 lr: 0.002\n",
      "iteration: 713000 loss: 0.0020 lr: 0.002\n",
      "iteration: 714000 loss: 0.0020 lr: 0.002\n",
      "iteration: 715000 loss: 0.0021 lr: 0.002\n",
      "iteration: 716000 loss: 0.0020 lr: 0.002\n",
      "iteration: 717000 loss: 0.0021 lr: 0.002\n",
      "iteration: 718000 loss: 0.0021 lr: 0.002\n",
      "iteration: 719000 loss: 0.0020 lr: 0.002\n",
      "iteration: 720000 loss: 0.0021 lr: 0.002\n",
      "iteration: 721000 loss: 0.0021 lr: 0.002\n",
      "iteration: 722000 loss: 0.0020 lr: 0.002\n",
      "iteration: 723000 loss: 0.0020 lr: 0.002\n",
      "iteration: 724000 loss: 0.0021 lr: 0.002\n",
      "iteration: 725000 loss: 0.0019 lr: 0.002\n",
      "iteration: 726000 loss: 0.0020 lr: 0.002\n",
      "iteration: 727000 loss: 0.0020 lr: 0.002\n",
      "iteration: 728000 loss: 0.0019 lr: 0.002\n",
      "iteration: 729000 loss: 0.0022 lr: 0.002\n",
      "iteration: 730000 loss: 0.0021 lr: 0.002\n",
      "iteration: 731000 loss: 0.0020 lr: 0.001\n",
      "iteration: 732000 loss: 0.0019 lr: 0.001\n",
      "iteration: 733000 loss: 0.0020 lr: 0.001\n",
      "iteration: 734000 loss: 0.0019 lr: 0.001\n",
      "iteration: 735000 loss: 0.0020 lr: 0.001\n",
      "iteration: 736000 loss: 0.0020 lr: 0.001\n",
      "iteration: 737000 loss: 0.0020 lr: 0.001\n",
      "iteration: 738000 loss: 0.0019 lr: 0.001\n",
      "iteration: 739000 loss: 0.0020 lr: 0.001\n",
      "iteration: 740000 loss: 0.0020 lr: 0.001\n",
      "iteration: 741000 loss: 0.0019 lr: 0.001\n",
      "iteration: 742000 loss: 0.0020 lr: 0.001\n",
      "iteration: 743000 loss: 0.0020 lr: 0.001\n",
      "iteration: 744000 loss: 0.0021 lr: 0.001\n",
      "iteration: 745000 loss: 0.0019 lr: 0.001\n",
      "iteration: 746000 loss: 0.0021 lr: 0.001\n",
      "iteration: 747000 loss: 0.0020 lr: 0.001\n",
      "iteration: 748000 loss: 0.0020 lr: 0.001\n",
      "iteration: 749000 loss: 0.0018 lr: 0.001\n",
      "iteration: 750000 loss: 0.0019 lr: 0.001\n",
      "iteration: 751000 loss: 0.0021 lr: 0.001\n",
      "iteration: 752000 loss: 0.0020 lr: 0.001\n",
      "iteration: 753000 loss: 0.0019 lr: 0.001\n",
      "iteration: 754000 loss: 0.0019 lr: 0.001\n",
      "iteration: 755000 loss: 0.0020 lr: 0.001\n",
      "iteration: 756000 loss: 0.0019 lr: 0.001\n",
      "iteration: 757000 loss: 0.0020 lr: 0.001\n",
      "iteration: 758000 loss: 0.0021 lr: 0.001\n",
      "iteration: 759000 loss: 0.0020 lr: 0.001\n",
      "iteration: 760000 loss: 0.0020 lr: 0.001\n",
      "iteration: 761000 loss: 0.0021 lr: 0.001\n",
      "iteration: 762000 loss: 0.0020 lr: 0.001\n",
      "iteration: 763000 loss: 0.0020 lr: 0.001\n",
      "iteration: 764000 loss: 0.0020 lr: 0.001\n",
      "iteration: 765000 loss: 0.0019 lr: 0.001\n",
      "iteration: 766000 loss: 0.0020 lr: 0.001\n",
      "iteration: 767000 loss: 0.0021 lr: 0.001\n",
      "iteration: 768000 loss: 0.0021 lr: 0.001\n",
      "iteration: 769000 loss: 0.0020 lr: 0.001\n",
      "iteration: 770000 loss: 0.0020 lr: 0.001\n",
      "iteration: 771000 loss: 0.0020 lr: 0.001\n",
      "iteration: 772000 loss: 0.0021 lr: 0.001\n",
      "iteration: 773000 loss: 0.0021 lr: 0.001\n",
      "iteration: 774000 loss: 0.0019 lr: 0.001\n",
      "iteration: 775000 loss: 0.0020 lr: 0.001\n",
      "iteration: 776000 loss: 0.0019 lr: 0.001\n",
      "iteration: 777000 loss: 0.0021 lr: 0.001\n",
      "iteration: 778000 loss: 0.0021 lr: 0.001\n",
      "iteration: 779000 loss: 0.0020 lr: 0.001\n",
      "iteration: 780000 loss: 0.0020 lr: 0.001\n",
      "iteration: 781000 loss: 0.0020 lr: 0.001\n",
      "iteration: 782000 loss: 0.0019 lr: 0.001\n",
      "iteration: 783000 loss: 0.0020 lr: 0.001\n",
      "iteration: 784000 loss: 0.0019 lr: 0.001\n",
      "iteration: 785000 loss: 0.0019 lr: 0.001\n",
      "iteration: 786000 loss: 0.0020 lr: 0.001\n",
      "iteration: 787000 loss: 0.0020 lr: 0.001\n",
      "iteration: 788000 loss: 0.0020 lr: 0.001\n",
      "iteration: 789000 loss: 0.0021 lr: 0.001\n",
      "iteration: 790000 loss: 0.0020 lr: 0.001\n",
      "iteration: 791000 loss: 0.0020 lr: 0.001\n",
      "iteration: 792000 loss: 0.0019 lr: 0.001\n",
      "iteration: 793000 loss: 0.0020 lr: 0.001\n",
      "iteration: 794000 loss: 0.0020 lr: 0.001\n",
      "iteration: 795000 loss: 0.0020 lr: 0.001\n",
      "iteration: 796000 loss: 0.0021 lr: 0.001\n",
      "iteration: 797000 loss: 0.0021 lr: 0.001\n",
      "iteration: 798000 loss: 0.0021 lr: 0.001\n",
      "iteration: 799000 loss: 0.0020 lr: 0.001\n",
      "iteration: 800000 loss: 0.0020 lr: 0.001\n",
      "iteration: 801000 loss: 0.0019 lr: 0.001\n",
      "iteration: 802000 loss: 0.0019 lr: 0.001\n",
      "iteration: 803000 loss: 0.0021 lr: 0.001\n",
      "iteration: 804000 loss: 0.0020 lr: 0.001\n",
      "iteration: 805000 loss: 0.0020 lr: 0.001\n",
      "iteration: 806000 loss: 0.0019 lr: 0.001\n",
      "iteration: 807000 loss: 0.0020 lr: 0.001\n",
      "iteration: 808000 loss: 0.0020 lr: 0.001\n",
      "iteration: 809000 loss: 0.0020 lr: 0.001\n",
      "iteration: 810000 loss: 0.0020 lr: 0.001\n",
      "iteration: 811000 loss: 0.0020 lr: 0.001\n",
      "iteration: 812000 loss: 0.0019 lr: 0.001\n",
      "iteration: 813000 loss: 0.0021 lr: 0.001\n",
      "iteration: 814000 loss: 0.0021 lr: 0.001\n"
     ]
    },
    {
     "name": "stderr",
     "output_type": "stream",
     "text": [
      "iteration: 815000 loss: 0.0019 lr: 0.001\n",
      "iteration: 816000 loss: 0.0020 lr: 0.001\n",
      "iteration: 817000 loss: 0.0020 lr: 0.001\n",
      "iteration: 818000 loss: 0.0019 lr: 0.001\n",
      "iteration: 819000 loss: 0.0021 lr: 0.001\n",
      "iteration: 820000 loss: 0.0019 lr: 0.001\n",
      "iteration: 821000 loss: 0.0020 lr: 0.001\n",
      "iteration: 822000 loss: 0.0020 lr: 0.001\n",
      "iteration: 823000 loss: 0.0019 lr: 0.001\n",
      "iteration: 824000 loss: 0.0020 lr: 0.001\n",
      "iteration: 825000 loss: 0.0020 lr: 0.001\n",
      "iteration: 826000 loss: 0.0019 lr: 0.001\n",
      "iteration: 827000 loss: 0.0020 lr: 0.001\n",
      "iteration: 828000 loss: 0.0019 lr: 0.001\n",
      "iteration: 829000 loss: 0.0019 lr: 0.001\n",
      "iteration: 830000 loss: 0.0019 lr: 0.001\n",
      "iteration: 831000 loss: 0.0020 lr: 0.001\n",
      "iteration: 832000 loss: 0.0021 lr: 0.001\n",
      "iteration: 833000 loss: 0.0019 lr: 0.001\n",
      "iteration: 834000 loss: 0.0021 lr: 0.001\n",
      "iteration: 835000 loss: 0.0020 lr: 0.001\n",
      "iteration: 836000 loss: 0.0020 lr: 0.001\n",
      "iteration: 837000 loss: 0.0020 lr: 0.001\n",
      "iteration: 838000 loss: 0.0022 lr: 0.001\n",
      "iteration: 839000 loss: 0.0020 lr: 0.001\n",
      "iteration: 840000 loss: 0.0021 lr: 0.001\n",
      "iteration: 841000 loss: 0.0021 lr: 0.001\n",
      "iteration: 842000 loss: 0.0020 lr: 0.001\n",
      "iteration: 843000 loss: 0.0020 lr: 0.001\n",
      "iteration: 844000 loss: 0.0019 lr: 0.001\n",
      "iteration: 845000 loss: 0.0019 lr: 0.001\n",
      "iteration: 846000 loss: 0.0020 lr: 0.001\n",
      "iteration: 847000 loss: 0.0019 lr: 0.001\n",
      "iteration: 848000 loss: 0.0022 lr: 0.001\n",
      "iteration: 849000 loss: 0.0020 lr: 0.001\n",
      "iteration: 850000 loss: 0.0019 lr: 0.001\n",
      "iteration: 851000 loss: 0.0020 lr: 0.001\n",
      "iteration: 852000 loss: 0.0019 lr: 0.001\n",
      "iteration: 853000 loss: 0.0019 lr: 0.001\n",
      "iteration: 854000 loss: 0.0020 lr: 0.001\n",
      "iteration: 855000 loss: 0.0020 lr: 0.001\n",
      "iteration: 856000 loss: 0.0021 lr: 0.001\n",
      "iteration: 857000 loss: 0.0018 lr: 0.001\n",
      "iteration: 858000 loss: 0.0020 lr: 0.001\n",
      "iteration: 859000 loss: 0.0021 lr: 0.001\n",
      "iteration: 860000 loss: 0.0020 lr: 0.001\n",
      "iteration: 861000 loss: 0.0020 lr: 0.001\n",
      "iteration: 862000 loss: 0.0020 lr: 0.001\n",
      "iteration: 863000 loss: 0.0021 lr: 0.001\n",
      "iteration: 864000 loss: 0.0020 lr: 0.001\n",
      "iteration: 865000 loss: 0.0021 lr: 0.001\n",
      "iteration: 866000 loss: 0.0020 lr: 0.001\n",
      "iteration: 867000 loss: 0.0020 lr: 0.001\n",
      "iteration: 868000 loss: 0.0020 lr: 0.001\n",
      "iteration: 869000 loss: 0.0020 lr: 0.001\n",
      "iteration: 870000 loss: 0.0020 lr: 0.001\n",
      "iteration: 871000 loss: 0.0020 lr: 0.001\n",
      "iteration: 872000 loss: 0.0020 lr: 0.001\n",
      "iteration: 873000 loss: 0.0019 lr: 0.001\n",
      "iteration: 874000 loss: 0.0019 lr: 0.001\n",
      "iteration: 875000 loss: 0.0020 lr: 0.001\n",
      "iteration: 876000 loss: 0.0019 lr: 0.001\n",
      "iteration: 877000 loss: 0.0019 lr: 0.001\n",
      "iteration: 878000 loss: 0.0021 lr: 0.001\n",
      "iteration: 879000 loss: 0.0019 lr: 0.001\n",
      "iteration: 880000 loss: 0.0020 lr: 0.001\n",
      "iteration: 881000 loss: 0.0021 lr: 0.001\n",
      "iteration: 882000 loss: 0.0020 lr: 0.001\n"
     ]
    },
    {
     "ename": "KeyboardInterrupt",
     "evalue": "",
     "output_type": "error",
     "traceback": [
      "\u001b[1;31m---------------------------------------------------------------------------\u001b[0m",
      "\u001b[1;31mKeyboardInterrupt\u001b[0m                         Traceback (most recent call last)",
      "Cell \u001b[1;32mIn [8], line 1\u001b[0m\n\u001b[1;32m----> 1\u001b[0m \u001b[43mdeeplabcut\u001b[49m\u001b[38;5;241;43m.\u001b[39;49m\u001b[43mtrain_network\u001b[49m\u001b[43m(\u001b[49m\u001b[43mpath_config_file\u001b[49m\u001b[43m)\u001b[49m\n",
      "File \u001b[1;32m~\\miniconda3\\envs\\tfenv\\lib\\site-packages\\deeplabcut\\pose_estimation_tensorflow\\training.py:221\u001b[0m, in \u001b[0;36mtrain_network\u001b[1;34m(config, shuffle, trainingsetindex, max_snapshots_to_keep, displayiters, saveiters, maxiters, allow_growth, gputouse, autotune, keepdeconvweights, modelprefix)\u001b[0m\n\u001b[0;32m    210\u001b[0m         train(\n\u001b[0;32m    211\u001b[0m             \u001b[38;5;28mstr\u001b[39m(poseconfigfile),\n\u001b[0;32m    212\u001b[0m             displayiters,\n\u001b[1;32m   (...)\u001b[0m\n\u001b[0;32m    217\u001b[0m             allow_growth\u001b[38;5;241m=\u001b[39mallow_growth,\n\u001b[0;32m    218\u001b[0m         )  \u001b[38;5;66;03m# pass on path and file name for pose_cfg.yaml!\u001b[39;00m\n\u001b[0;32m    220\u001b[0m \u001b[38;5;28;01mexcept\u001b[39;00m \u001b[38;5;167;01mBaseException\u001b[39;00m \u001b[38;5;28;01mas\u001b[39;00m e:\n\u001b[1;32m--> 221\u001b[0m     \u001b[38;5;28;01mraise\u001b[39;00m e\n\u001b[0;32m    222\u001b[0m \u001b[38;5;28;01mfinally\u001b[39;00m:\n\u001b[0;32m    223\u001b[0m     os\u001b[38;5;241m.\u001b[39mchdir(\u001b[38;5;28mstr\u001b[39m(start_path))\n",
      "File \u001b[1;32m~\\miniconda3\\envs\\tfenv\\lib\\site-packages\\deeplabcut\\pose_estimation_tensorflow\\training.py:210\u001b[0m, in \u001b[0;36mtrain_network\u001b[1;34m(config, shuffle, trainingsetindex, max_snapshots_to_keep, displayiters, saveiters, maxiters, allow_growth, gputouse, autotune, keepdeconvweights, modelprefix)\u001b[0m\n\u001b[0;32m    207\u001b[0m         \u001b[38;5;28;01mfrom\u001b[39;00m \u001b[38;5;21;01mdeeplabcut\u001b[39;00m\u001b[38;5;21;01m.\u001b[39;00m\u001b[38;5;21;01mpose_estimation_tensorflow\u001b[39;00m\u001b[38;5;21;01m.\u001b[39;00m\u001b[38;5;21;01mcore\u001b[39;00m\u001b[38;5;21;01m.\u001b[39;00m\u001b[38;5;21;01mtrain\u001b[39;00m \u001b[38;5;28;01mimport\u001b[39;00m train\n\u001b[0;32m    209\u001b[0m         \u001b[38;5;28mprint\u001b[39m(\u001b[38;5;124m\"\u001b[39m\u001b[38;5;124mSelecting single-animal trainer\u001b[39m\u001b[38;5;124m\"\u001b[39m)\n\u001b[1;32m--> 210\u001b[0m         \u001b[43mtrain\u001b[49m\u001b[43m(\u001b[49m\n\u001b[0;32m    211\u001b[0m \u001b[43m            \u001b[49m\u001b[38;5;28;43mstr\u001b[39;49m\u001b[43m(\u001b[49m\u001b[43mposeconfigfile\u001b[49m\u001b[43m)\u001b[49m\u001b[43m,\u001b[49m\n\u001b[0;32m    212\u001b[0m \u001b[43m            \u001b[49m\u001b[43mdisplayiters\u001b[49m\u001b[43m,\u001b[49m\n\u001b[0;32m    213\u001b[0m \u001b[43m            \u001b[49m\u001b[43msaveiters\u001b[49m\u001b[43m,\u001b[49m\n\u001b[0;32m    214\u001b[0m \u001b[43m            \u001b[49m\u001b[43mmaxiters\u001b[49m\u001b[43m,\u001b[49m\n\u001b[0;32m    215\u001b[0m \u001b[43m            \u001b[49m\u001b[43mmax_to_keep\u001b[49m\u001b[38;5;241;43m=\u001b[39;49m\u001b[43mmax_snapshots_to_keep\u001b[49m\u001b[43m,\u001b[49m\n\u001b[0;32m    216\u001b[0m \u001b[43m            \u001b[49m\u001b[43mkeepdeconvweights\u001b[49m\u001b[38;5;241;43m=\u001b[39;49m\u001b[43mkeepdeconvweights\u001b[49m\u001b[43m,\u001b[49m\n\u001b[0;32m    217\u001b[0m \u001b[43m            \u001b[49m\u001b[43mallow_growth\u001b[49m\u001b[38;5;241;43m=\u001b[39;49m\u001b[43mallow_growth\u001b[49m\u001b[43m,\u001b[49m\n\u001b[0;32m    218\u001b[0m \u001b[43m        \u001b[49m\u001b[43m)\u001b[49m  \u001b[38;5;66;03m# pass on path and file name for pose_cfg.yaml!\u001b[39;00m\n\u001b[0;32m    220\u001b[0m \u001b[38;5;28;01mexcept\u001b[39;00m \u001b[38;5;167;01mBaseException\u001b[39;00m \u001b[38;5;28;01mas\u001b[39;00m e:\n\u001b[0;32m    221\u001b[0m     \u001b[38;5;28;01mraise\u001b[39;00m e\n",
      "File \u001b[1;32m~\\miniconda3\\envs\\tfenv\\lib\\site-packages\\deeplabcut\\pose_estimation_tensorflow\\core\\train.py:272\u001b[0m, in \u001b[0;36mtrain\u001b[1;34m(config_yaml, displayiters, saveiters, maxiters, max_to_keep, keepdeconvweights, allow_growth)\u001b[0m\n\u001b[0;32m    269\u001b[0m     current_lr \u001b[38;5;241m=\u001b[39m lr_gen\u001b[38;5;241m.\u001b[39mget_lr(it \u001b[38;5;241m-\u001b[39m start_iter)\n\u001b[0;32m    270\u001b[0m     lr_dict \u001b[38;5;241m=\u001b[39m {learning_rate: current_lr}\n\u001b[1;32m--> 272\u001b[0m [_, loss_val, summary] \u001b[38;5;241m=\u001b[39m \u001b[43msess\u001b[49m\u001b[38;5;241;43m.\u001b[39;49m\u001b[43mrun\u001b[49m\u001b[43m(\u001b[49m\n\u001b[0;32m    273\u001b[0m \u001b[43m    \u001b[49m\u001b[43m[\u001b[49m\u001b[43mtrain_op\u001b[49m\u001b[43m,\u001b[49m\u001b[43m \u001b[49m\u001b[43mtotal_loss\u001b[49m\u001b[43m,\u001b[49m\u001b[43m \u001b[49m\u001b[43mmerged_summaries\u001b[49m\u001b[43m]\u001b[49m\u001b[43m,\u001b[49m\u001b[43m \u001b[49m\u001b[43mfeed_dict\u001b[49m\u001b[38;5;241;43m=\u001b[39;49m\u001b[43mlr_dict\u001b[49m\n\u001b[0;32m    274\u001b[0m \u001b[43m\u001b[49m\u001b[43m)\u001b[49m\n\u001b[0;32m    275\u001b[0m cum_loss \u001b[38;5;241m+\u001b[39m\u001b[38;5;241m=\u001b[39m loss_val\n\u001b[0;32m    276\u001b[0m train_writer\u001b[38;5;241m.\u001b[39madd_summary(summary, it)\n",
      "File \u001b[1;32m~\\miniconda3\\envs\\tfenv\\lib\\site-packages\\tensorflow\\python\\client\\session.py:968\u001b[0m, in \u001b[0;36mBaseSession.run\u001b[1;34m(self, fetches, feed_dict, options, run_metadata)\u001b[0m\n\u001b[0;32m    965\u001b[0m run_metadata_ptr \u001b[38;5;241m=\u001b[39m tf_session\u001b[38;5;241m.\u001b[39mTF_NewBuffer() \u001b[38;5;28;01mif\u001b[39;00m run_metadata \u001b[38;5;28;01melse\u001b[39;00m \u001b[38;5;28;01mNone\u001b[39;00m\n\u001b[0;32m    967\u001b[0m \u001b[38;5;28;01mtry\u001b[39;00m:\n\u001b[1;32m--> 968\u001b[0m   result \u001b[38;5;241m=\u001b[39m \u001b[38;5;28;43mself\u001b[39;49m\u001b[38;5;241;43m.\u001b[39;49m\u001b[43m_run\u001b[49m\u001b[43m(\u001b[49m\u001b[38;5;28;43;01mNone\u001b[39;49;00m\u001b[43m,\u001b[49m\u001b[43m \u001b[49m\u001b[43mfetches\u001b[49m\u001b[43m,\u001b[49m\u001b[43m \u001b[49m\u001b[43mfeed_dict\u001b[49m\u001b[43m,\u001b[49m\u001b[43m \u001b[49m\u001b[43moptions_ptr\u001b[49m\u001b[43m,\u001b[49m\n\u001b[0;32m    969\u001b[0m \u001b[43m                     \u001b[49m\u001b[43mrun_metadata_ptr\u001b[49m\u001b[43m)\u001b[49m\n\u001b[0;32m    970\u001b[0m   \u001b[38;5;28;01mif\u001b[39;00m run_metadata:\n\u001b[0;32m    971\u001b[0m     proto_data \u001b[38;5;241m=\u001b[39m tf_session\u001b[38;5;241m.\u001b[39mTF_GetBuffer(run_metadata_ptr)\n",
      "File \u001b[1;32m~\\miniconda3\\envs\\tfenv\\lib\\site-packages\\tensorflow\\python\\client\\session.py:1191\u001b[0m, in \u001b[0;36mBaseSession._run\u001b[1;34m(self, handle, fetches, feed_dict, options, run_metadata)\u001b[0m\n\u001b[0;32m   1188\u001b[0m \u001b[38;5;66;03m# We only want to really perform the run if fetches or targets are provided,\u001b[39;00m\n\u001b[0;32m   1189\u001b[0m \u001b[38;5;66;03m# or if the call is a partial run that specifies feeds.\u001b[39;00m\n\u001b[0;32m   1190\u001b[0m \u001b[38;5;28;01mif\u001b[39;00m final_fetches \u001b[38;5;129;01mor\u001b[39;00m final_targets \u001b[38;5;129;01mor\u001b[39;00m (handle \u001b[38;5;129;01mand\u001b[39;00m feed_dict_tensor):\n\u001b[1;32m-> 1191\u001b[0m   results \u001b[38;5;241m=\u001b[39m \u001b[38;5;28;43mself\u001b[39;49m\u001b[38;5;241;43m.\u001b[39;49m\u001b[43m_do_run\u001b[49m\u001b[43m(\u001b[49m\u001b[43mhandle\u001b[49m\u001b[43m,\u001b[49m\u001b[43m \u001b[49m\u001b[43mfinal_targets\u001b[49m\u001b[43m,\u001b[49m\u001b[43m \u001b[49m\u001b[43mfinal_fetches\u001b[49m\u001b[43m,\u001b[49m\n\u001b[0;32m   1192\u001b[0m \u001b[43m                         \u001b[49m\u001b[43mfeed_dict_tensor\u001b[49m\u001b[43m,\u001b[49m\u001b[43m \u001b[49m\u001b[43moptions\u001b[49m\u001b[43m,\u001b[49m\u001b[43m \u001b[49m\u001b[43mrun_metadata\u001b[49m\u001b[43m)\u001b[49m\n\u001b[0;32m   1193\u001b[0m \u001b[38;5;28;01melse\u001b[39;00m:\n\u001b[0;32m   1194\u001b[0m   results \u001b[38;5;241m=\u001b[39m []\n",
      "File \u001b[1;32m~\\miniconda3\\envs\\tfenv\\lib\\site-packages\\tensorflow\\python\\client\\session.py:1371\u001b[0m, in \u001b[0;36mBaseSession._do_run\u001b[1;34m(self, handle, target_list, fetch_list, feed_dict, options, run_metadata)\u001b[0m\n\u001b[0;32m   1368\u001b[0m   \u001b[38;5;28;01mreturn\u001b[39;00m \u001b[38;5;28mself\u001b[39m\u001b[38;5;241m.\u001b[39m_call_tf_sessionprun(handle, feed_dict, fetch_list)\n\u001b[0;32m   1370\u001b[0m \u001b[38;5;28;01mif\u001b[39;00m handle \u001b[38;5;129;01mis\u001b[39;00m \u001b[38;5;28;01mNone\u001b[39;00m:\n\u001b[1;32m-> 1371\u001b[0m   \u001b[38;5;28;01mreturn\u001b[39;00m \u001b[38;5;28;43mself\u001b[39;49m\u001b[38;5;241;43m.\u001b[39;49m\u001b[43m_do_call\u001b[49m\u001b[43m(\u001b[49m\u001b[43m_run_fn\u001b[49m\u001b[43m,\u001b[49m\u001b[43m \u001b[49m\u001b[43mfeeds\u001b[49m\u001b[43m,\u001b[49m\u001b[43m \u001b[49m\u001b[43mfetches\u001b[49m\u001b[43m,\u001b[49m\u001b[43m \u001b[49m\u001b[43mtargets\u001b[49m\u001b[43m,\u001b[49m\u001b[43m \u001b[49m\u001b[43moptions\u001b[49m\u001b[43m,\u001b[49m\n\u001b[0;32m   1372\u001b[0m \u001b[43m                       \u001b[49m\u001b[43mrun_metadata\u001b[49m\u001b[43m)\u001b[49m\n\u001b[0;32m   1373\u001b[0m \u001b[38;5;28;01melse\u001b[39;00m:\n\u001b[0;32m   1374\u001b[0m   \u001b[38;5;28;01mreturn\u001b[39;00m \u001b[38;5;28mself\u001b[39m\u001b[38;5;241m.\u001b[39m_do_call(_prun_fn, handle, feeds, fetches)\n",
      "File \u001b[1;32m~\\miniconda3\\envs\\tfenv\\lib\\site-packages\\tensorflow\\python\\client\\session.py:1378\u001b[0m, in \u001b[0;36mBaseSession._do_call\u001b[1;34m(self, fn, *args)\u001b[0m\n\u001b[0;32m   1376\u001b[0m \u001b[38;5;28;01mdef\u001b[39;00m \u001b[38;5;21m_do_call\u001b[39m(\u001b[38;5;28mself\u001b[39m, fn, \u001b[38;5;241m*\u001b[39margs):\n\u001b[0;32m   1377\u001b[0m   \u001b[38;5;28;01mtry\u001b[39;00m:\n\u001b[1;32m-> 1378\u001b[0m     \u001b[38;5;28;01mreturn\u001b[39;00m \u001b[43mfn\u001b[49m\u001b[43m(\u001b[49m\u001b[38;5;241;43m*\u001b[39;49m\u001b[43margs\u001b[49m\u001b[43m)\u001b[49m\n\u001b[0;32m   1379\u001b[0m   \u001b[38;5;28;01mexcept\u001b[39;00m errors\u001b[38;5;241m.\u001b[39mOpError \u001b[38;5;28;01mas\u001b[39;00m e:\n\u001b[0;32m   1380\u001b[0m     message \u001b[38;5;241m=\u001b[39m compat\u001b[38;5;241m.\u001b[39mas_text(e\u001b[38;5;241m.\u001b[39mmessage)\n",
      "File \u001b[1;32m~\\miniconda3\\envs\\tfenv\\lib\\site-packages\\tensorflow\\python\\client\\session.py:1361\u001b[0m, in \u001b[0;36mBaseSession._do_run.<locals>._run_fn\u001b[1;34m(feed_dict, fetch_list, target_list, options, run_metadata)\u001b[0m\n\u001b[0;32m   1358\u001b[0m \u001b[38;5;28;01mdef\u001b[39;00m \u001b[38;5;21m_run_fn\u001b[39m(feed_dict, fetch_list, target_list, options, run_metadata):\n\u001b[0;32m   1359\u001b[0m   \u001b[38;5;66;03m# Ensure any changes to the graph are reflected in the runtime.\u001b[39;00m\n\u001b[0;32m   1360\u001b[0m   \u001b[38;5;28mself\u001b[39m\u001b[38;5;241m.\u001b[39m_extend_graph()\n\u001b[1;32m-> 1361\u001b[0m   \u001b[38;5;28;01mreturn\u001b[39;00m \u001b[38;5;28;43mself\u001b[39;49m\u001b[38;5;241;43m.\u001b[39;49m\u001b[43m_call_tf_sessionrun\u001b[49m\u001b[43m(\u001b[49m\u001b[43moptions\u001b[49m\u001b[43m,\u001b[49m\u001b[43m \u001b[49m\u001b[43mfeed_dict\u001b[49m\u001b[43m,\u001b[49m\u001b[43m \u001b[49m\u001b[43mfetch_list\u001b[49m\u001b[43m,\u001b[49m\n\u001b[0;32m   1362\u001b[0m \u001b[43m                                  \u001b[49m\u001b[43mtarget_list\u001b[49m\u001b[43m,\u001b[49m\u001b[43m \u001b[49m\u001b[43mrun_metadata\u001b[49m\u001b[43m)\u001b[49m\n",
      "File \u001b[1;32m~\\miniconda3\\envs\\tfenv\\lib\\site-packages\\tensorflow\\python\\client\\session.py:1454\u001b[0m, in \u001b[0;36mBaseSession._call_tf_sessionrun\u001b[1;34m(self, options, feed_dict, fetch_list, target_list, run_metadata)\u001b[0m\n\u001b[0;32m   1452\u001b[0m \u001b[38;5;28;01mdef\u001b[39;00m \u001b[38;5;21m_call_tf_sessionrun\u001b[39m(\u001b[38;5;28mself\u001b[39m, options, feed_dict, fetch_list, target_list,\n\u001b[0;32m   1453\u001b[0m                         run_metadata):\n\u001b[1;32m-> 1454\u001b[0m   \u001b[38;5;28;01mreturn\u001b[39;00m \u001b[43mtf_session\u001b[49m\u001b[38;5;241;43m.\u001b[39;49m\u001b[43mTF_SessionRun_wrapper\u001b[49m\u001b[43m(\u001b[49m\u001b[38;5;28;43mself\u001b[39;49m\u001b[38;5;241;43m.\u001b[39;49m\u001b[43m_session\u001b[49m\u001b[43m,\u001b[49m\u001b[43m \u001b[49m\u001b[43moptions\u001b[49m\u001b[43m,\u001b[49m\u001b[43m \u001b[49m\u001b[43mfeed_dict\u001b[49m\u001b[43m,\u001b[49m\n\u001b[0;32m   1455\u001b[0m \u001b[43m                                          \u001b[49m\u001b[43mfetch_list\u001b[49m\u001b[43m,\u001b[49m\u001b[43m \u001b[49m\u001b[43mtarget_list\u001b[49m\u001b[43m,\u001b[49m\n\u001b[0;32m   1456\u001b[0m \u001b[43m                                          \u001b[49m\u001b[43mrun_metadata\u001b[49m\u001b[43m)\u001b[49m\n",
      "\u001b[1;31mKeyboardInterrupt\u001b[0m: "
     ]
    }
   ],
   "source": [
    "deeplabcut.train_network(path_config_file)"
   ]
  },
  {
   "cell_type": "markdown",
   "metadata": {
    "colab_type": "text",
    "id": "xZygsb2DoEJc"
   },
   "source": [
    "## Start evaluating"
   ]
  },
  {
   "cell_type": "code",
   "execution_count": 30,
   "metadata": {
    "colab": {},
    "colab_type": "code",
    "id": "nv4zlbrnoEJg"
   },
   "outputs": [
    {
     "name": "stdout",
     "output_type": "stream",
     "text": [
      "Running  DLC_dlcrnetms5_BEEPOSEChiragNov25shuffle1_50000  with # of trainingiterations: 50000\n",
      "Model already evaluated. D:\\Documents\\RL\\PHD\\Project\\BH\\ANALYSIS\\POSEESTIMATION\\DeepLabCut\\DeepLabCut\\examples\\JUPYTER\\BEEPOSEChirag-POSE-2022-11-25\\evaluation-results\\iteration-0\\BEEPOSEChiragNov25-trainset95shuffle1\\DLC_dlcrnetms5_BEEPOSEChiragNov25shuffle1_50000-snapshot-50000.h5\n",
      "Selecting best skeleton...\n",
      "Graph 1|2\n"
     ]
    },
    {
     "name": "stderr",
     "output_type": "stream",
     "text": [
      "\n",
      "\n",
      "\n",
      "\n",
      "39it [00:00, 1768.54it/s][A\u001b[A\n",
      "\n",
      "\n",
      "\n",
      "\n",
      "100%|██████████████████████████████████████████████████| 37/37 [00:00<00:00, 1477.09it/s]\u001b[A\u001b[A\u001b[A\u001b[A\n",
      "\n",
      "\n",
      "\n",
      "\n",
      "100%|██████████████████████████████████████████████████████████████| 2/2 [00:00<?, ?it/s]\u001b[A\u001b[A\u001b[A\u001b[A\n",
      "\n",
      "\n",
      "\n",
      "\n",
      "100%|██████████████████████████████████████████████████| 39/39 [00:00<00:00, 2998.18it/s]\u001b[A\u001b[A\u001b[A\u001b[A\n"
     ]
    },
    {
     "name": "stdout",
     "output_type": "stream",
     "text": [
      "Graph 2|2\n"
     ]
    },
    {
     "name": "stderr",
     "output_type": "stream",
     "text": [
      "\n",
      "\n",
      "\n",
      "\n",
      "39it [00:00, 1625.17it/s][A\u001b[A\n",
      "\n",
      "\n",
      "\n",
      "\n",
      "100%|██████████████████████████████████████████████████| 37/37 [00:00<00:00, 1480.95it/s]\u001b[A\u001b[A\u001b[A\u001b[A\n",
      "\n",
      "\n",
      "\n",
      "\n",
      "100%|████████████████████████████████████████████████████| 2/2 [00:00<00:00, 2011.17it/s]\u001b[A\u001b[A\u001b[A\u001b[A\n",
      "\n",
      "\n",
      "\n",
      "\n",
      "100%|██████████████████████████████████████████████████| 39/39 [00:00<00:00, 3001.04it/s]\u001b[A\u001b[A\u001b[A\u001b[A\n"
     ]
    },
    {
     "data": {
      "image/png": "[encoded data removed]",
      "text/plain": [
       "<Figure size 640x480 with 1 Axes>"
      ]
     },
     "metadata": {},
     "output_type": "display_data"
    }
   ],
   "source": [
    "deeplabcut.evaluate_network(path_config_file, plotting=True)"
   ]
  },
  {
   "cell_type": "markdown",
   "metadata": {
    "colab_type": "text",
    "id": "OVFLSKKfoEJk"
   },
   "source": [
    "## Start Analyzing videos"
   ]
  },
  {
   "cell_type": "code",
   "execution_count": 29,
   "metadata": {},
   "outputs": [
    {
     "name": "stdout",
     "output_type": "stream",
     "text": [
      "Found output file for scorer: DLC_dlcrnetms5_BEEPOSECOUNTING-13122022Dec13shuffle1_1000_el\n",
      "Converting D:\\Documents\\RL\\PHD\\Project\\BH\\ANALYSIS\\POSEESTIMATION\\DeepLabCut\\DeepLabCut\\examples\\JUPYTER\\Video\\BEEPOSECOUNTING-13122022-bee pose-2022-12-13\\videos\\testDLC_dlcrnetms5_BEEPOSECOUNTING-13122022Dec13shuffle1_1000_el.h5...\n",
      "All H5 files were converted to CSV.\n"
     ]
    }
   ],
   "source": [
    "deeplabcut.analyze_videos_converth5_to_csv(video_folder=r'D:\\Documents\\RL\\PHD\\Project\\BH\\ANALYSIS\\POSEESTIMATION\\DeepLabCut\\DeepLabCut\\examples\\JUPYTER\\Video\\BEEPOSECOUNTING-13122022-bee pose-2022-12-13\\videos', videotype='.avi')"
   ]
  },
  {
   "cell_type": "code",
   "execution_count": 31,
   "metadata": {
    "colab": {},
    "colab_type": "code",
    "id": "Y_LZiS_0oEJl"
   },
   "outputs": [
    {
     "name": "stdout",
     "output_type": "stream",
     "text": [
      "Using snapshot-1000 for model D:\\Documents\\RL\\PHD\\Project\\BH\\ANALYSIS\\POSEESTIMATION\\DeepLabCut\\DeepLabCut\\examples\\JUPYTER\\Video\\BEEPOSECOUNTING-13122022-bee pose-2022-12-13\\dlc-models\\iteration-0\\BEEPOSECOUNTING-13122022Dec13-trainset95shuffle1\n"
     ]
    },
    {
     "name": "stderr",
     "output_type": "stream",
     "text": [
      "C:\\Users\\chira\\miniconda3\\envs\\tfenv\\lib\\site-packages\\tensorflow\\python\\keras\\engine\\base_layer_v1.py:1694: UserWarning: `layer.apply` is deprecated and will be removed in a future version. Please use `layer.__call__` method instead.\n",
      "  warnings.warn('`layer.apply` is deprecated and '\n"
     ]
    },
    {
     "name": "stdout",
     "output_type": "stream",
     "text": [
      "Activating extracting of PAFs\n",
      "Starting to analyze %  D:\\Documents\\RL\\PHD\\Project\\BH\\ANALYSIS\\POSEESTIMATION\\DeepLabCut\\DeepLabCut\\examples\\JUPYTER\\Video\\BEEPOSECOUNTING-13122022-bee pose-2022-12-13\\videos\\test.avi\n",
      "Loading  D:\\Documents\\RL\\PHD\\Project\\BH\\ANALYSIS\\POSEESTIMATION\\DeepLabCut\\DeepLabCut\\examples\\JUPYTER\\Video\\BEEPOSECOUNTING-13122022-bee pose-2022-12-13\\videos\\test.avi\n",
      "Duration of video [s]:  36.0 , recorded with  1.0 fps!\n",
      "Overall # of frames:  36  found with (before cropping) frame dimensions:  256 256\n",
      "Starting to extract posture from the video(s) with batchsize: 4\n"
     ]
    },
    {
     "name": "stderr",
     "output_type": "stream",
     "text": [
      "100%|███████████████████████████████████████████████████████████████████████████████| 36/36 [00:02<00:00, 12.15it/s]\n"
     ]
    },
    {
     "name": "stdout",
     "output_type": "stream",
     "text": [
      "Video Analyzed. Saving results in D:\\Documents\\RL\\PHD\\Project\\BH\\ANALYSIS\\POSEESTIMATION\\DeepLabCut\\DeepLabCut\\examples\\JUPYTER\\Video\\BEEPOSECOUNTING-13122022-bee pose-2022-12-13\\videos...\n",
      "Using snapshot-1000 for model D:\\Documents\\RL\\PHD\\Project\\BH\\ANALYSIS\\POSEESTIMATION\\DeepLabCut\\DeepLabCut\\examples\\JUPYTER\\Video\\BEEPOSECOUNTING-13122022-bee pose-2022-12-13\\dlc-models\\iteration-0\\BEEPOSECOUNTING-13122022Dec13-trainset95shuffle1\n",
      "Processing...  D:\\Documents\\RL\\PHD\\Project\\BH\\ANALYSIS\\POSEESTIMATION\\DeepLabCut\\DeepLabCut\\examples\\JUPYTER\\Video\\BEEPOSECOUNTING-13122022-bee pose-2022-12-13\\videos\\test.avi\n",
      "Analyzing D:\\Documents\\RL\\PHD\\Project\\BH\\ANALYSIS\\POSEESTIMATION\\DeepLabCut\\DeepLabCut\\examples\\JUPYTER\\Video\\BEEPOSECOUNTING-13122022-bee pose-2022-12-13\\videos\\testDLC_dlcrnetms5_BEEPOSECOUNTING-13122022Dec13shuffle1_1000.h5\n"
     ]
    },
    {
     "name": "stderr",
     "output_type": "stream",
     "text": [
      "32it [00:00, 1388.12it/s]\n",
      "32it [00:00, 1066.63it/s]\n",
      "C:\\Users\\chira\\miniconda3\\envs\\tfenv\\lib\\site-packages\\deeplabcut\\refine_training_dataset\\stitch.py:127: FutureWarning: Unlike other reduction functions (e.g. `skew`, `kurtosis`), the default behavior of `mode` typically preserves the axis it acts along. In SciPy 1.11.0, this behavior will change: the default value of `keepdims` will become False, the `axis` over which the statistic is taken will be eliminated, and the value None will no longer be accepted. Set `keepdims` to True or False to avoid this warning.\n",
      "  return mode(self.data[..., 3], axis=None, nan_policy=\"omit\")[0][0]\n"
     ]
    },
    {
     "name": "stdout",
     "output_type": "stream",
     "text": [
      "The tracklets were created (i.e., under the hood deeplabcut.convert_detections2tracklets was run). Now you can 'refine_tracklets' in the GUI, or run 'deeplabcut.stitch_tracklets'.\n",
      "Processing...  D:\\Documents\\RL\\PHD\\Project\\BH\\ANALYSIS\\POSEESTIMATION\\DeepLabCut\\DeepLabCut\\examples\\JUPYTER\\Video\\BEEPOSECOUNTING-13122022-bee pose-2022-12-13\\videos\\test.avi\n"
     ]
    },
    {
     "name": "stderr",
     "output_type": "stream",
     "text": [
      "100%|█████████████████████████████████████████████████████████████████████████████████████████| 2/2 [00:00<?, ?it/s]\n",
      "C:\\Users\\chira\\miniconda3\\envs\\tfenv\\lib\\site-packages\\deeplabcut\\refine_training_dataset\\stitch.py:676: UserWarning: No optimal solution found. Employing black magic...\n",
      "  warnings.warn(\"No optimal solution found. Employing black magic...\")\n"
     ]
    },
    {
     "name": "stdout",
     "output_type": "stream",
     "text": [
      "The videos are analyzed. Time to assemble animals and track 'em... \n",
      " Call 'create_video_with_all_detections' to check multi-animal detection quality before tracking.\n",
      "If the tracking is not satisfactory for some videos, consider expanding the training set. You can use the function 'extract_outlier_frames' to extract a few representative outlier frames.\n"
     ]
    },
    {
     "data": {
      "text/plain": [
       "'DLC_dlcrnetms5_BEEPOSECOUNTING-13122022Dec13shuffle1_1000'"
      ]
     },
     "execution_count": 31,
     "metadata": {},
     "output_type": "execute_result"
    }
   ],
   "source": [
    " #Enter a fo/lder OR a list of videos to analyze.\n",
    "\n",
    "deeplabcut.analyze_videos(path_config_file,videofile_path, videotype='.avi', n_tracks=3, save_as_csv=True)"
   ]
  },
  {
   "cell_type": "code",
   "execution_count": 32,
   "metadata": {},
   "outputs": [],
   "source": [
    "deeplabcut.create_labeled_video(config=path_config_file, videos=[videofile_path], videotype='.avi')"
   ]
  },
  {
   "cell_type": "code",
   "execution_count": 37,
   "metadata": {},
   "outputs": [],
   "source": [
    "import deeplabcut"
   ]
  },
  {
   "cell_type": "code",
   "execution_count": 38,
   "metadata": {},
   "outputs": [
    {
     "name": "stdout",
     "output_type": "stream",
     "text": [
      "Detections already plotted,  D:\\Documents\\RL\\PHD\\Project\\BH\\ANALYSIS\\POSEESTIMATION\\DeepLabCut\\DeepLabCut\\examples\\JUPYTER\\Video\\BEEPOSECOUNTING-13122022-bee pose-2022-12-13\\videos\\testDLC_dlcrnetms5_BEEPOSECOUNTING-13122022Dec13shuffle1_1000_full.mp4\n"
     ]
    }
   ],
   "source": [
    "# videofile_path = ['out.avi']\n",
    "deeplabcut.create_video_with_all_detections(path_config_file,videofile_path, videotype='.avi')"
   ]
  },
  {
   "cell_type": "markdown",
   "metadata": {
    "colab_type": "text",
    "id": "pCrUvQIvoEKD"
   },
   "source": [
    "## Create labeled video"
   ]
  },
  {
   "cell_type": "code",
   "execution_count": 12,
   "metadata": {
    "colab": {},
    "colab_type": "code",
    "id": "6aDF7Q7KoEKE"
   },
   "outputs": [],
   "source": [
    "deeplabcut.create_labeled_video(path_config_file,videofile_path)"
   ]
  },
  {
   "cell_type": "markdown",
   "metadata": {
    "colab_type": "text",
    "id": "8GTiuJESoEKH"
   },
   "source": [
    "## Plot the trajectories of the analyzed videos"
   ]
  },
  {
   "cell_type": "code",
   "execution_count": 6,
   "metadata": {
    "colab": {},
    "colab_type": "code",
    "id": "gX21zZbXoEKJ"
   },
   "outputs": [
    {
     "name": "stderr",
     "output_type": "stream",
     "text": [
      "UsageError: unrecognized arguments: #for making interactive plots.\n"
     ]
    }
   ],
   "source": [
    "%matplotlib notebook #for making interactive plots.\n",
    "deeplabcut.plot_trajectories(path_config_file, videofile_path)"
   ]
  }
 ],
 "metadata": {
  "accelerator": "GPU",
  "colab": {
   "name": "Demo-yourowndata.ipynb",
   "provenance": [],
   "version": "0.3.2"
  },
  "kernelspec": {
   "display_name": "Python 3 (ipykernel)",
   "language": "python",
   "name": "python3"
  },
  "language_info": {
   "codemirror_mode": {
    "name": "ipython",
    "version": 3
   },
   "file_extension": ".py",
   "mimetype": "text/x-python",
   "name": "python",
   "nbconvert_exporter": "python",
   "pygments_lexer": "ipython3",
   "version": "3.8.13"
  },
  "varInspector": {
   "cols": {
    "lenName": 16,
    "lenType": 16,
    "lenVar": 40
   },
   "kernels_config": {
    "python": {
     "delete_cmd_postfix": "",
     "delete_cmd_prefix": "del ",
     "library": "var_list.py",
     "varRefreshCmd": "print(var_dic_list())"
    },
    "r": {
     "delete_cmd_postfix": ") ",
     "delete_cmd_prefix": "rm(",
     "library": "var_list.r",
     "varRefreshCmd": "cat(var_dic_list()) "
    }
   },
   "types_to_exclude": [
    "module",
    "function",
    "builtin_function_or_method",
    "instance",
    "_Feature"
   ],
   "window_display": false
  }
 },
 "nbformat": 4,
 "nbformat_minor": 1
}
