{
 "cells": [
  {
   "cell_type": "code",
   "execution_count": 1,
   "id": "369f736b",
   "metadata": {},
   "outputs": [
    {
     "name": "stderr",
     "output_type": "stream",
     "text": [
      "2023-02-21 10:26:34.918881: I tensorflow/stream_executor/platform/default/dso_loader.cc:49] Successfully opened dynamic library libcudart.so.10.1\n"
     ]
    },
    {
     "name": "stdout",
     "output_type": "stream",
     "text": [
      "Segmentation Models: using `tf.keras` framework.\n"
     ]
    }
   ],
   "source": [
    "import numpy as np\n",
    "from tensorflow import keras\n",
    "from keras.layers import Conv2D, MaxPooling2D, Flatten, Dense, Input\n",
    "from keras.models import Model\n",
    "from random import shuffle\n",
    "\n",
    "import os\n",
    "import sys\n",
    "import random\n",
    "from keras.layers import LeakyReLU\n",
    "\n",
    "import cv2\n",
    "import matplotlib.pyplot as plt\n",
    "from scipy.ndimage.filters import gaussian_filter \n",
    "\n",
    "\n",
    "os.environ[\"SM_FRAMEWORK\"] = \"tf.keras\" \n",
    "\n",
    "import segmentation_models as sm"
   ]
  },
  {
   "cell_type": "code",
   "execution_count": 2,
   "id": "78c3541a",
   "metadata": {},
   "outputs": [],
   "source": [
    "class DataGen(keras.utils.Sequence):\n",
    "    def __init__(self, ids, path, batch_size=8, image_size=128):\n",
    "        self.ids = ids\n",
    "        self.path = path\n",
    "        self.batch_size = batch_size\n",
    "        self.image_size = image_size\n",
    "        self.on_epoch_end()\n",
    "        \n",
    "    def __load__(self, id_name):\n",
    "        ## Path\n",
    "        image_path = os.path.join(self.path,\"Images/\", os.path.splitext(id_name)[0]+'.png')\n",
    "        mask_path = os.path.join(self.path,\"Masks/\", id_name)\n",
    "        \n",
    "        ## Reading Image\n",
    "        image = cv2.imread(image_path)\n",
    "        image = cv2.resize(image, (self.image_size, self.image_size))\n",
    "        \n",
    "        mask = np.load(mask_path)\n",
    "        mask = cv2.resize(mask, (self.image_size, self.image_size), interpolation = cv2.INTER_AREA)\n",
    "#         print(mask[:,:,0].sum()/255)\n",
    "#         print(mask[:,:,1].sum()/255)\n",
    "#         print(mask[:,:,2].sum()/255)\n",
    "        \n",
    "        \n",
    "        dens = self.genDensity(mask[:,:,:3])\n",
    "#         dens = dens/dens.max()\n",
    "        \n",
    "#         dens_head = np.expand_dims(dens[:,:,1], axis=2)\n",
    "#         mask[:,:,:3] = dens\n",
    "\n",
    "#         mask[:,:,3] = np.where(mask[:,:,3]==0, mask[:,:,3], (mask[:,:,3]+1)/2)\n",
    "#         mask[:,:,4] = np.where(mask[:,:,4]==0, mask[:,:,4], (mask[:,:,4]+1)/2)\n",
    "#         mask[:,:,5] = np.where(mask[:,:,5]==0, mask[:,:,5], (mask[:,:,5]+1)/2)\n",
    "        \n",
    "        mask[:,:,3:] = np.where(mask[:,:,3:]>0, 1, 0)\n",
    "        \n",
    "        mask[:,:,:3] = np.where(dens>=0.2, 1, 0)\n",
    "        \n",
    "        new_mask = np.zeros((self.image_size, self.image_size, 4))\n",
    "        new_mask[:,:,:3] = mask[:,:,:3]\n",
    "        new_mask[:,:,3] = (mask[:,:,3]+mask[:,:,4])\n",
    "        new_mask[:,:,3] = np.where(new_mask[:,:,3]>=1, 1, 0)\n",
    "        \n",
    "        return image, new_mask\n",
    "    \n",
    "    def __getitem__(self, index):\n",
    "        if(index+1)*self.batch_size > len(self.ids):\n",
    "            self.batch_size = len(self.ids) - index*self.batch_size\n",
    "        \n",
    "        files_batch = self.ids[index*self.batch_size : (index+1)*self.batch_size]\n",
    "        \n",
    "        image = []\n",
    "        mask  = []\n",
    "\n",
    "        \n",
    "        \n",
    "        for id_name in files_batch:\n",
    "            _img, _mask = self.__load__(id_name)\n",
    "            image.append(_img)\n",
    "            mask.append(_mask)\n",
    "            \n",
    "        image = np.array(image)/255\n",
    "        mask  = np.array(mask)/np.max(mask)\n",
    "#         mask = (mask-np.mean(mask))/np.std(mask)\n",
    "\n",
    "        \n",
    "        return image, mask\n",
    "    \n",
    "    def genDensity(self,dot_im, sigma=2):\n",
    "        '''\n",
    "        @brief: This function gets a dotted image and returns its density map.\n",
    "        @param: dots: annotated dot image.\n",
    "        @param: sigmadots: density radius.\n",
    "        @return: density map for the input dots image.\n",
    "        '''        \n",
    "        \n",
    "        dot1 = gaussian_filter(dot_im[:,:,0], sigma)\n",
    "        dot2 = gaussian_filter(dot_im[:,:,1], sigma)\n",
    "        dot3 = gaussian_filter(dot_im[:,:,2], sigma)\n",
    "        dot = np.zeros_like(dot_im)\n",
    "        dot[:,:,0] = dot1\n",
    "        dot[:,:,1] = dot2\n",
    "        dot[:,:,2] = dot3                                      \n",
    "\n",
    "        return dot.astype(np.float32)\n",
    "    \n",
    "    def on_epoch_end(self):\n",
    "        pass\n",
    "    \n",
    "    def __len__(self):\n",
    "        return int(np.ceil(len(self.ids)/float(self.batch_size)))"
   ]
  },
  {
   "cell_type": "code",
   "execution_count": 3,
   "id": "8283cf87",
   "metadata": {},
   "outputs": [
    {
     "name": "stdout",
     "output_type": "stream",
     "text": [
      "(8, 256, 256, 3) (8, 256, 256, 4)\n",
      "0.0 1.0\n",
      "0.0 1.0\n",
      "0.0 1.0\n",
      "0.0 1.0\n",
      "0.0 1.0\n"
     ]
    },
    {
     "data": {
      "text/plain": [
       "Text(0.5, 1.0, 'DEN')"
      ]
     },
     "execution_count": 3,
     "metadata": {},
     "output_type": "execute_result"
    },
    {
     "data": {
      "image/png": "[encoded data removed]",
      "text/plain": [
       "<Figure size 720x1080 with 3 Axes>"
      ]
     },
     "metadata": {
      "needs_background": "light"
     },
     "output_type": "display_data"
    }
   ],
   "source": [
    "image_size = 256\n",
    "train_path = './synthetic_data_new/'\n",
    "batch_size = 8\n",
    "\n",
    "## Training Ids\n",
    "train_ids = next(os.walk(os.path.join(train_path,\"Masks/\")))[2]\n",
    "shuffle(train_ids)\n",
    "\n",
    "## Validation Data Size\n",
    "val_data_size = 250\n",
    "\n",
    "valid_ids = train_ids[:val_data_size]\n",
    "train_ids = train_ids[val_data_size:]\n",
    "\n",
    "\n",
    "train_gen = DataGen(train_ids, train_path, image_size=image_size, batch_size=batch_size)\n",
    "valid_gen = DataGen(valid_ids, train_path, image_size=image_size, batch_size=batch_size)\n",
    "\n",
    "train_steps = len(train_ids)//batch_size\n",
    "valid_steps = len(valid_ids)//batch_size\n",
    "\n",
    "x, y = valid_gen.__getitem__(10)\n",
    "r=0\n",
    "print(x.shape, y.shape)\n",
    "\n",
    "print(y[r].min(), y[r].max())\n",
    "print(y[r,:,:,1].min(), y[r,:,:,1].max())\n",
    "print(y[r,:,:,2].min(), y[r,:,:,2].max())\n",
    "print(y[r,:,:,3].min(), y[r,:,:,3].max())\n",
    "print(y[r,:,:,0].min(), y[r,:,:,0].max())\n",
    "\n",
    "\n",
    "fig, axes = plt.subplots(nrows=1, ncols=3, figsize=(10, 15))\n",
    "\n",
    "# Plot the first image in the first subplot\n",
    "axes[0].imshow(x[r])\n",
    "axes[0].set_title('IMG')\n",
    "\n",
    "# Plot the second image in the second subplot\n",
    "axes[1].imshow(y[r,:,:,:3])\n",
    "axes[1].set_title('DEN')\n",
    "\n",
    "axes[2].imshow(y[r,:,:,3])\n",
    "axes[2].set_title('DEN')"
   ]
  },
  {
   "cell_type": "code",
   "execution_count": 4,
   "id": "c8ea626f",
   "metadata": {},
   "outputs": [],
   "source": [
    "# train_gen = DataGen(train_ids, train_path, image_size=image_size, batch_size=batch_size)\n",
    "# valid_gen = Da`taGen(valid_ids, train_path, image_size=image_size, batch_size=batch_size)\n",
    "\n",
    "# train_steps = len(train_ids)//batch_size\n",
    "# valid_steps = len(valid_ids)//batch_size\n",
    "\n",
    "# x, y = valid_gen.__getitem__(100)\n",
    "# r=0\n",
    "# print(x.shape, y.shape)\n",
    "\n",
    "# fig, axes = plt.subplots(nrows=2, ncols=2, figsize=(10, 15))\n",
    "\n",
    "# paf_x = np.zeros((image_size, image_size, 3))\n",
    "# paf_y = np.zeros((image_size, image_size, 3))\n",
    "\n",
    "# paf_x[:,:,0] = y[r,:,:,3]\n",
    "# paf_x[:,:,1] = y[r,:,:,5]\n",
    "\n",
    "# paf_y[:,:,0] = y[r,:,:,4]\n",
    "# paf_y[:,:,1] = y[r,:,:,6]\n",
    "\n",
    "\n",
    "# # Plot the first image in the first subplot\n",
    "# axes[0,0].imshow(x[r])\n",
    "# axes[0,0].set_title('IMG')\n",
    "\n",
    "# # Plot the second image in the second subplot\n",
    "# axes[0,1].imshow(y[r,:,:,:3])\n",
    "# axes[0,1].set_title('DEN')\n",
    "\n",
    "# # Plot the third image in the third subplot\n",
    "# axes[1,0].imshow(paf_x)\n",
    "# axes[1,0].set_title('X PAF')\n",
    "\n",
    "# axes[1,1].imshow(paf_y)\n",
    "# axes[1,1].set_title('Y PAF')\n",
    "\n",
    "# # axes[2,0].imshow(y[r,:,:,3])\n",
    "# # axes[2,1].set_title('AT_X PAF')\n",
    "\n",
    "# # axes[2,1].imshow(y[r,:,:,4])\n",
    "# # axes[2,1].set_title('AT_Y PAF')\n",
    "\n",
    "# # axes[3,0].imshow(y[r,:,:,5])\n",
    "# # axes[3,1].set_title('AT_X PAF')\n",
    "\n",
    "# # axes[3,1].imshow(y[r,:,:,6])\n",
    "# # axes[3,1].set_title('AT_Y PAF')\n",
    "\n",
    "# print(y[r,:,:,0].max(), y[r,:,:,0].min())\n",
    "# print(y[r,:,:,1].max(), y[r,:,:,1].min())\n",
    "# print(y[r,:,:,2].max(), y[r,:,:,2].min())\n",
    "# print(y[r,:,:,3].max(), y[r,:,:,3].min())\n",
    "# print(y[r,:,:,4].max(), y[r,:,:,4].min())\n",
    "# print(y[r,:,:,5].max(), y[r,:,:,5].min())\n",
    "# print(y[r,:,:,6].max(), y[r,:,:,6].min())\n",
    "\n",
    "\n",
    "\n",
    "# # Display the resulting plot\n",
    "# plt.show()"
   ]
  },
  {
   "cell_type": "markdown",
   "id": "8fa24b2c",
   "metadata": {},
   "source": [
    "## Model"
   ]
  },
  {
   "cell_type": "code",
   "execution_count": 4,
   "id": "fb190c70",
   "metadata": {
    "scrolled": true
   },
   "outputs": [
    {
     "name": "stderr",
     "output_type": "stream",
     "text": [
      "2023-02-21 10:26:48.574238: I tensorflow/compiler/jit/xla_cpu_device.cc:41] Not creating XLA devices, tf_xla_enable_xla_devices not set\n",
      "2023-02-21 10:26:48.588346: I tensorflow/stream_executor/platform/default/dso_loader.cc:49] Successfully opened dynamic library libcuda.so.1\n",
      "2023-02-21 10:26:48.702484: I tensorflow/stream_executor/cuda/cuda_gpu_executor.cc:941] successful NUMA node read from SysFS had negative value (-1), but there must be at least one NUMA node, so returning NUMA node zero\n",
      "2023-02-21 10:26:48.703222: I tensorflow/core/common_runtime/gpu/gpu_device.cc:1720] Found device 0 with properties: \n",
      "pciBusID: 0000:01:00.0 name: NVIDIA GeForce RTX 2080 Ti computeCapability: 7.5\n",
      "coreClock: 1.65GHz coreCount: 68 deviceMemorySize: 10.76GiB deviceMemoryBandwidth: 573.69GiB/s\n",
      "2023-02-21 10:26:48.703251: I tensorflow/stream_executor/platform/default/dso_loader.cc:49] Successfully opened dynamic library libcudart.so.10.1\n",
      "2023-02-21 10:26:48.740942: I tensorflow/stream_executor/platform/default/dso_loader.cc:49] Successfully opened dynamic library libcublas.so.10\n",
      "2023-02-21 10:26:48.740997: I tensorflow/stream_executor/platform/default/dso_loader.cc:49] Successfully opened dynamic library libcublasLt.so.10\n",
      "2023-02-21 10:26:48.767983: I tensorflow/stream_executor/platform/default/dso_loader.cc:49] Successfully opened dynamic library libcufft.so.10\n",
      "2023-02-21 10:26:48.774943: I tensorflow/stream_executor/platform/default/dso_loader.cc:49] Successfully opened dynamic library libcurand.so.10\n",
      "2023-02-21 10:26:48.821062: I tensorflow/stream_executor/platform/default/dso_loader.cc:49] Successfully opened dynamic library libcusolver.so.10\n",
      "2023-02-21 10:26:48.832240: I tensorflow/stream_executor/platform/default/dso_loader.cc:49] Successfully opened dynamic library libcusparse.so.10\n",
      "2023-02-21 10:26:48.912442: I tensorflow/stream_executor/platform/default/dso_loader.cc:49] Successfully opened dynamic library libcudnn.so.7\n",
      "2023-02-21 10:26:48.912820: I tensorflow/stream_executor/cuda/cuda_gpu_executor.cc:941] successful NUMA node read from SysFS had negative value (-1), but there must be at least one NUMA node, so returning NUMA node zero\n",
      "2023-02-21 10:26:48.914630: I tensorflow/stream_executor/cuda/cuda_gpu_executor.cc:941] successful NUMA node read from SysFS had negative value (-1), but there must be at least one NUMA node, so returning NUMA node zero\n",
      "2023-02-21 10:26:48.916145: I tensorflow/core/common_runtime/gpu/gpu_device.cc:1862] Adding visible gpu devices: 0\n",
      "2023-02-21 10:26:48.917949: I tensorflow/core/platform/cpu_feature_guard.cc:142] This TensorFlow binary is optimized with oneAPI Deep Neural Network Library (oneDNN) to use the following CPU instructions in performance-critical operations:  SSE4.1 SSE4.2 AVX AVX2 FMA\n",
      "To enable them in other operations, rebuild TensorFlow with the appropriate compiler flags.\n",
      "2023-02-21 10:26:48.919110: I tensorflow/compiler/jit/xla_gpu_device.cc:99] Not creating XLA devices, tf_xla_enable_xla_devices not set\n",
      "2023-02-21 10:26:48.919497: I tensorflow/stream_executor/cuda/cuda_gpu_executor.cc:941] successful NUMA node read from SysFS had negative value (-1), but there must be at least one NUMA node, so returning NUMA node zero\n",
      "2023-02-21 10:26:48.921121: I tensorflow/core/common_runtime/gpu/gpu_device.cc:1720] Found device 0 with properties: \n",
      "pciBusID: 0000:01:00.0 name: NVIDIA GeForce RTX 2080 Ti computeCapability: 7.5\n",
      "coreClock: 1.65GHz coreCount: 68 deviceMemorySize: 10.76GiB deviceMemoryBandwidth: 573.69GiB/s\n",
      "2023-02-21 10:26:48.921188: I tensorflow/stream_executor/platform/default/dso_loader.cc:49] Successfully opened dynamic library libcudart.so.10.1\n",
      "2023-02-21 10:26:48.921266: I tensorflow/stream_executor/platform/default/dso_loader.cc:49] Successfully opened dynamic library libcublas.so.10\n",
      "2023-02-21 10:26:48.921332: I tensorflow/stream_executor/platform/default/dso_loader.cc:49] Successfully opened dynamic library libcublasLt.so.10\n",
      "2023-02-21 10:26:48.921396: I tensorflow/stream_executor/platform/default/dso_loader.cc:49] Successfully opened dynamic library libcufft.so.10\n",
      "2023-02-21 10:26:48.921460: I tensorflow/stream_executor/platform/default/dso_loader.cc:49] Successfully opened dynamic library libcurand.so.10\n",
      "2023-02-21 10:26:48.921525: I tensorflow/stream_executor/platform/default/dso_loader.cc:49] Successfully opened dynamic library libcusolver.so.10\n",
      "2023-02-21 10:26:48.921592: I tensorflow/stream_executor/platform/default/dso_loader.cc:49] Successfully opened dynamic library libcusparse.so.10\n",
      "2023-02-21 10:26:48.921658: I tensorflow/stream_executor/platform/default/dso_loader.cc:49] Successfully opened dynamic library libcudnn.so.7\n",
      "2023-02-21 10:26:48.921904: I tensorflow/stream_executor/cuda/cuda_gpu_executor.cc:941] successful NUMA node read from SysFS had negative value (-1), but there must be at least one NUMA node, so returning NUMA node zero\n",
      "2023-02-21 10:26:48.923643: I tensorflow/stream_executor/cuda/cuda_gpu_executor.cc:941] successful NUMA node read from SysFS had negative value (-1), but there must be at least one NUMA node, so returning NUMA node zero\n",
      "2023-02-21 10:26:48.925181: I tensorflow/core/common_runtime/gpu/gpu_device.cc:1862] Adding visible gpu devices: 0\n",
      "2023-02-21 10:26:48.925766: I tensorflow/stream_executor/platform/default/dso_loader.cc:49] Successfully opened dynamic library libcudart.so.10.1\n",
      "2023-02-21 10:26:50.361378: I tensorflow/core/common_runtime/gpu/gpu_device.cc:1261] Device interconnect StreamExecutor with strength 1 edge matrix:\n",
      "2023-02-21 10:26:50.361401: I tensorflow/core/common_runtime/gpu/gpu_device.cc:1267]      0 \n",
      "2023-02-21 10:26:50.361408: I tensorflow/core/common_runtime/gpu/gpu_device.cc:1280] 0:   N \n",
      "2023-02-21 10:26:50.362037: I tensorflow/stream_executor/cuda/cuda_gpu_executor.cc:941] successful NUMA node read from SysFS had negative value (-1), but there must be at least one NUMA node, so returning NUMA node zero\n",
      "2023-02-21 10:26:50.362474: I tensorflow/stream_executor/cuda/cuda_gpu_executor.cc:941] successful NUMA node read from SysFS had negative value (-1), but there must be at least one NUMA node, so returning NUMA node zero\n",
      "2023-02-21 10:26:50.362871: I tensorflow/stream_executor/cuda/cuda_gpu_executor.cc:941] successful NUMA node read from SysFS had negative value (-1), but there must be at least one NUMA node, so returning NUMA node zero\n",
      "2023-02-21 10:26:50.363231: I tensorflow/core/common_runtime/gpu/gpu_device.cc:1406] Created TensorFlow device (/job:localhost/replica:0/task:0/device:GPU:0 with 9987 MB memory) -> physical GPU (device: 0, name: NVIDIA GeForce RTX 2080 Ti, pci bus id: 0000:01:00.0, compute capability: 7.5)\n"
     ]
    },
    {
     "name": "stdout",
     "output_type": "stream",
     "text": [
      "Model: \"model_1\"\n",
      "__________________________________________________________________________________________________\n",
      "Layer (type)                    Output Shape         Param #     Connected to                     \n",
      "==================================================================================================\n",
      "data (InputLayer)               [(None, None, None,  0                                            \n",
      "__________________________________________________________________________________________________\n",
      "bn_data (BatchNormalization)    (None, None, None, 3 9           data[0][0]                       \n",
      "__________________________________________________________________________________________________\n",
      "zero_padding2d (ZeroPadding2D)  (None, None, None, 3 0           bn_data[0][0]                    \n",
      "__________________________________________________________________________________________________\n",
      "conv0 (Conv2D)                  (None, None, None, 6 9408        zero_padding2d[0][0]             \n",
      "__________________________________________________________________________________________________\n",
      "bn0 (BatchNormalization)        (None, None, None, 6 256         conv0[0][0]                      \n",
      "__________________________________________________________________________________________________\n",
      "relu0 (Activation)              (None, None, None, 6 0           bn0[0][0]                        \n",
      "__________________________________________________________________________________________________\n",
      "zero_padding2d_1 (ZeroPadding2D (None, None, None, 6 0           relu0[0][0]                      \n",
      "__________________________________________________________________________________________________\n",
      "pooling0 (MaxPooling2D)         (None, None, None, 6 0           zero_padding2d_1[0][0]           \n",
      "__________________________________________________________________________________________________\n",
      "stage1_unit1_bn1 (BatchNormaliz (None, None, None, 6 256         pooling0[0][0]                   \n",
      "__________________________________________________________________________________________________\n",
      "stage1_unit1_relu1 (Activation) (None, None, None, 6 0           stage1_unit1_bn1[0][0]           \n",
      "__________________________________________________________________________________________________\n",
      "zero_padding2d_2 (ZeroPadding2D (None, None, None, 6 0           stage1_unit1_relu1[0][0]         \n",
      "__________________________________________________________________________________________________\n",
      "stage1_unit1_conv1 (Conv2D)     (None, None, None, 6 36864       zero_padding2d_2[0][0]           \n",
      "__________________________________________________________________________________________________\n",
      "stage1_unit1_bn2 (BatchNormaliz (None, None, None, 6 256         stage1_unit1_conv1[0][0]         \n",
      "__________________________________________________________________________________________________\n",
      "stage1_unit1_relu2 (Activation) (None, None, None, 6 0           stage1_unit1_bn2[0][0]           \n",
      "__________________________________________________________________________________________________\n",
      "zero_padding2d_3 (ZeroPadding2D (None, None, None, 6 0           stage1_unit1_relu2[0][0]         \n",
      "__________________________________________________________________________________________________\n",
      "stage1_unit1_conv2 (Conv2D)     (None, None, None, 6 36864       zero_padding2d_3[0][0]           \n",
      "__________________________________________________________________________________________________\n",
      "stage1_unit1_sc (Conv2D)        (None, None, None, 6 4096        stage1_unit1_relu1[0][0]         \n",
      "__________________________________________________________________________________________________\n",
      "add (Add)                       (None, None, None, 6 0           stage1_unit1_conv2[0][0]         \n",
      "                                                                 stage1_unit1_sc[0][0]            \n",
      "__________________________________________________________________________________________________\n",
      "stage1_unit2_bn1 (BatchNormaliz (None, None, None, 6 256         add[0][0]                        \n",
      "__________________________________________________________________________________________________\n",
      "stage1_unit2_relu1 (Activation) (None, None, None, 6 0           stage1_unit2_bn1[0][0]           \n",
      "__________________________________________________________________________________________________\n",
      "zero_padding2d_4 (ZeroPadding2D (None, None, None, 6 0           stage1_unit2_relu1[0][0]         \n",
      "__________________________________________________________________________________________________\n",
      "stage1_unit2_conv1 (Conv2D)     (None, None, None, 6 36864       zero_padding2d_4[0][0]           \n",
      "__________________________________________________________________________________________________\n",
      "stage1_unit2_bn2 (BatchNormaliz (None, None, None, 6 256         stage1_unit2_conv1[0][0]         \n",
      "__________________________________________________________________________________________________\n",
      "stage1_unit2_relu2 (Activation) (None, None, None, 6 0           stage1_unit2_bn2[0][0]           \n",
      "__________________________________________________________________________________________________\n",
      "zero_padding2d_5 (ZeroPadding2D (None, None, None, 6 0           stage1_unit2_relu2[0][0]         \n",
      "__________________________________________________________________________________________________\n",
      "stage1_unit2_conv2 (Conv2D)     (None, None, None, 6 36864       zero_padding2d_5[0][0]           \n",
      "__________________________________________________________________________________________________\n",
      "add_1 (Add)                     (None, None, None, 6 0           stage1_unit2_conv2[0][0]         \n",
      "                                                                 add[0][0]                        \n",
      "__________________________________________________________________________________________________\n",
      "stage1_unit3_bn1 (BatchNormaliz (None, None, None, 6 256         add_1[0][0]                      \n",
      "__________________________________________________________________________________________________\n",
      "stage1_unit3_relu1 (Activation) (None, None, None, 6 0           stage1_unit3_bn1[0][0]           \n",
      "__________________________________________________________________________________________________\n",
      "zero_padding2d_6 (ZeroPadding2D (None, None, None, 6 0           stage1_unit3_relu1[0][0]         \n",
      "__________________________________________________________________________________________________\n",
      "stage1_unit3_conv1 (Conv2D)     (None, None, None, 6 36864       zero_padding2d_6[0][0]           \n",
      "__________________________________________________________________________________________________\n",
      "stage1_unit3_bn2 (BatchNormaliz (None, None, None, 6 256         stage1_unit3_conv1[0][0]         \n",
      "__________________________________________________________________________________________________\n",
      "stage1_unit3_relu2 (Activation) (None, None, None, 6 0           stage1_unit3_bn2[0][0]           \n",
      "__________________________________________________________________________________________________\n",
      "zero_padding2d_7 (ZeroPadding2D (None, None, None, 6 0           stage1_unit3_relu2[0][0]         \n",
      "__________________________________________________________________________________________________\n",
      "stage1_unit3_conv2 (Conv2D)     (None, None, None, 6 36864       zero_padding2d_7[0][0]           \n",
      "__________________________________________________________________________________________________\n",
      "add_2 (Add)                     (None, None, None, 6 0           stage1_unit3_conv2[0][0]         \n",
      "                                                                 add_1[0][0]                      \n",
      "__________________________________________________________________________________________________\n",
      "stage2_unit1_bn1 (BatchNormaliz (None, None, None, 6 256         add_2[0][0]                      \n",
      "__________________________________________________________________________________________________\n",
      "stage2_unit1_relu1 (Activation) (None, None, None, 6 0           stage2_unit1_bn1[0][0]           \n",
      "__________________________________________________________________________________________________\n",
      "zero_padding2d_8 (ZeroPadding2D (None, None, None, 6 0           stage2_unit1_relu1[0][0]         \n",
      "__________________________________________________________________________________________________\n",
      "stage2_unit1_conv1 (Conv2D)     (None, None, None, 1 73728       zero_padding2d_8[0][0]           \n",
      "__________________________________________________________________________________________________\n",
      "stage2_unit1_bn2 (BatchNormaliz (None, None, None, 1 512         stage2_unit1_conv1[0][0]         \n",
      "__________________________________________________________________________________________________\n",
      "stage2_unit1_relu2 (Activation) (None, None, None, 1 0           stage2_unit1_bn2[0][0]           \n",
      "__________________________________________________________________________________________________\n",
      "zero_padding2d_9 (ZeroPadding2D (None, None, None, 1 0           stage2_unit1_relu2[0][0]         \n",
      "__________________________________________________________________________________________________\n",
      "stage2_unit1_conv2 (Conv2D)     (None, None, None, 1 147456      zero_padding2d_9[0][0]           \n",
      "__________________________________________________________________________________________________\n",
      "stage2_unit1_sc (Conv2D)        (None, None, None, 1 8192        stage2_unit1_relu1[0][0]         \n",
      "__________________________________________________________________________________________________\n",
      "add_3 (Add)                     (None, None, None, 1 0           stage2_unit1_conv2[0][0]         \n",
      "                                                                 stage2_unit1_sc[0][0]            \n",
      "__________________________________________________________________________________________________\n",
      "stage2_unit2_bn1 (BatchNormaliz (None, None, None, 1 512         add_3[0][0]                      \n",
      "__________________________________________________________________________________________________\n",
      "stage2_unit2_relu1 (Activation) (None, None, None, 1 0           stage2_unit2_bn1[0][0]           \n",
      "__________________________________________________________________________________________________\n",
      "zero_padding2d_10 (ZeroPadding2 (None, None, None, 1 0           stage2_unit2_relu1[0][0]         \n",
      "__________________________________________________________________________________________________\n",
      "stage2_unit2_conv1 (Conv2D)     (None, None, None, 1 147456      zero_padding2d_10[0][0]          \n",
      "__________________________________________________________________________________________________\n",
      "stage2_unit2_bn2 (BatchNormaliz (None, None, None, 1 512         stage2_unit2_conv1[0][0]         \n",
      "__________________________________________________________________________________________________\n",
      "stage2_unit2_relu2 (Activation) (None, None, None, 1 0           stage2_unit2_bn2[0][0]           \n",
      "__________________________________________________________________________________________________\n",
      "zero_padding2d_11 (ZeroPadding2 (None, None, None, 1 0           stage2_unit2_relu2[0][0]         \n",
      "__________________________________________________________________________________________________\n",
      "stage2_unit2_conv2 (Conv2D)     (None, None, None, 1 147456      zero_padding2d_11[0][0]          \n",
      "__________________________________________________________________________________________________\n",
      "add_4 (Add)                     (None, None, None, 1 0           stage2_unit2_conv2[0][0]         \n",
      "                                                                 add_3[0][0]                      \n",
      "__________________________________________________________________________________________________\n",
      "stage2_unit3_bn1 (BatchNormaliz (None, None, None, 1 512         add_4[0][0]                      \n",
      "__________________________________________________________________________________________________\n",
      "stage2_unit3_relu1 (Activation) (None, None, None, 1 0           stage2_unit3_bn1[0][0]           \n",
      "__________________________________________________________________________________________________\n",
      "zero_padding2d_12 (ZeroPadding2 (None, None, None, 1 0           stage2_unit3_relu1[0][0]         \n",
      "__________________________________________________________________________________________________\n",
      "stage2_unit3_conv1 (Conv2D)     (None, None, None, 1 147456      zero_padding2d_12[0][0]          \n",
      "__________________________________________________________________________________________________\n",
      "stage2_unit3_bn2 (BatchNormaliz (None, None, None, 1 512         stage2_unit3_conv1[0][0]         \n",
      "__________________________________________________________________________________________________\n",
      "stage2_unit3_relu2 (Activation) (None, None, None, 1 0           stage2_unit3_bn2[0][0]           \n",
      "__________________________________________________________________________________________________\n",
      "zero_padding2d_13 (ZeroPadding2 (None, None, None, 1 0           stage2_unit3_relu2[0][0]         \n",
      "__________________________________________________________________________________________________\n",
      "stage2_unit3_conv2 (Conv2D)     (None, None, None, 1 147456      zero_padding2d_13[0][0]          \n",
      "__________________________________________________________________________________________________\n",
      "add_5 (Add)                     (None, None, None, 1 0           stage2_unit3_conv2[0][0]         \n",
      "                                                                 add_4[0][0]                      \n",
      "__________________________________________________________________________________________________\n",
      "stage2_unit4_bn1 (BatchNormaliz (None, None, None, 1 512         add_5[0][0]                      \n",
      "__________________________________________________________________________________________________\n",
      "stage2_unit4_relu1 (Activation) (None, None, None, 1 0           stage2_unit4_bn1[0][0]           \n",
      "__________________________________________________________________________________________________\n",
      "zero_padding2d_14 (ZeroPadding2 (None, None, None, 1 0           stage2_unit4_relu1[0][0]         \n",
      "__________________________________________________________________________________________________\n",
      "stage2_unit4_conv1 (Conv2D)     (None, None, None, 1 147456      zero_padding2d_14[0][0]          \n",
      "__________________________________________________________________________________________________\n",
      "stage2_unit4_bn2 (BatchNormaliz (None, None, None, 1 512         stage2_unit4_conv1[0][0]         \n",
      "__________________________________________________________________________________________________\n",
      "stage2_unit4_relu2 (Activation) (None, None, None, 1 0           stage2_unit4_bn2[0][0]           \n",
      "__________________________________________________________________________________________________\n",
      "zero_padding2d_15 (ZeroPadding2 (None, None, None, 1 0           stage2_unit4_relu2[0][0]         \n",
      "__________________________________________________________________________________________________\n",
      "stage2_unit4_conv2 (Conv2D)     (None, None, None, 1 147456      zero_padding2d_15[0][0]          \n",
      "__________________________________________________________________________________________________\n",
      "add_6 (Add)                     (None, None, None, 1 0           stage2_unit4_conv2[0][0]         \n",
      "                                                                 add_5[0][0]                      \n",
      "__________________________________________________________________________________________________\n",
      "stage3_unit1_bn1 (BatchNormaliz (None, None, None, 1 512         add_6[0][0]                      \n",
      "__________________________________________________________________________________________________\n",
      "stage3_unit1_relu1 (Activation) (None, None, None, 1 0           stage3_unit1_bn1[0][0]           \n",
      "__________________________________________________________________________________________________\n",
      "zero_padding2d_16 (ZeroPadding2 (None, None, None, 1 0           stage3_unit1_relu1[0][0]         \n",
      "__________________________________________________________________________________________________\n",
      "stage3_unit1_conv1 (Conv2D)     (None, None, None, 2 294912      zero_padding2d_16[0][0]          \n",
      "__________________________________________________________________________________________________\n",
      "stage3_unit1_bn2 (BatchNormaliz (None, None, None, 2 1024        stage3_unit1_conv1[0][0]         \n",
      "__________________________________________________________________________________________________\n",
      "stage3_unit1_relu2 (Activation) (None, None, None, 2 0           stage3_unit1_bn2[0][0]           \n",
      "__________________________________________________________________________________________________\n",
      "zero_padding2d_17 (ZeroPadding2 (None, None, None, 2 0           stage3_unit1_relu2[0][0]         \n",
      "__________________________________________________________________________________________________\n",
      "stage3_unit1_conv2 (Conv2D)     (None, None, None, 2 589824      zero_padding2d_17[0][0]          \n",
      "__________________________________________________________________________________________________\n",
      "stage3_unit1_sc (Conv2D)        (None, None, None, 2 32768       stage3_unit1_relu1[0][0]         \n",
      "__________________________________________________________________________________________________\n",
      "add_7 (Add)                     (None, None, None, 2 0           stage3_unit1_conv2[0][0]         \n",
      "                                                                 stage3_unit1_sc[0][0]            \n",
      "__________________________________________________________________________________________________\n",
      "stage3_unit2_bn1 (BatchNormaliz (None, None, None, 2 1024        add_7[0][0]                      \n",
      "__________________________________________________________________________________________________\n",
      "stage3_unit2_relu1 (Activation) (None, None, None, 2 0           stage3_unit2_bn1[0][0]           \n",
      "__________________________________________________________________________________________________\n",
      "zero_padding2d_18 (ZeroPadding2 (None, None, None, 2 0           stage3_unit2_relu1[0][0]         \n",
      "__________________________________________________________________________________________________\n",
      "stage3_unit2_conv1 (Conv2D)     (None, None, None, 2 589824      zero_padding2d_18[0][0]          \n",
      "__________________________________________________________________________________________________\n",
      "stage3_unit2_bn2 (BatchNormaliz (None, None, None, 2 1024        stage3_unit2_conv1[0][0]         \n",
      "__________________________________________________________________________________________________\n",
      "stage3_unit2_relu2 (Activation) (None, None, None, 2 0           stage3_unit2_bn2[0][0]           \n",
      "__________________________________________________________________________________________________\n",
      "zero_padding2d_19 (ZeroPadding2 (None, None, None, 2 0           stage3_unit2_relu2[0][0]         \n",
      "__________________________________________________________________________________________________\n",
      "stage3_unit2_conv2 (Conv2D)     (None, None, None, 2 589824      zero_padding2d_19[0][0]          \n",
      "__________________________________________________________________________________________________\n",
      "add_8 (Add)                     (None, None, None, 2 0           stage3_unit2_conv2[0][0]         \n",
      "                                                                 add_7[0][0]                      \n",
      "__________________________________________________________________________________________________\n",
      "stage3_unit3_bn1 (BatchNormaliz (None, None, None, 2 1024        add_8[0][0]                      \n",
      "__________________________________________________________________________________________________\n",
      "stage3_unit3_relu1 (Activation) (None, None, None, 2 0           stage3_unit3_bn1[0][0]           \n",
      "__________________________________________________________________________________________________\n",
      "zero_padding2d_20 (ZeroPadding2 (None, None, None, 2 0           stage3_unit3_relu1[0][0]         \n",
      "__________________________________________________________________________________________________\n",
      "stage3_unit3_conv1 (Conv2D)     (None, None, None, 2 589824      zero_padding2d_20[0][0]          \n",
      "__________________________________________________________________________________________________\n",
      "stage3_unit3_bn2 (BatchNormaliz (None, None, None, 2 1024        stage3_unit3_conv1[0][0]         \n",
      "__________________________________________________________________________________________________\n",
      "stage3_unit3_relu2 (Activation) (None, None, None, 2 0           stage3_unit3_bn2[0][0]           \n",
      "__________________________________________________________________________________________________\n",
      "zero_padding2d_21 (ZeroPadding2 (None, None, None, 2 0           stage3_unit3_relu2[0][0]         \n",
      "__________________________________________________________________________________________________\n",
      "stage3_unit3_conv2 (Conv2D)     (None, None, None, 2 589824      zero_padding2d_21[0][0]          \n",
      "__________________________________________________________________________________________________\n",
      "add_9 (Add)                     (None, None, None, 2 0           stage3_unit3_conv2[0][0]         \n",
      "                                                                 add_8[0][0]                      \n",
      "__________________________________________________________________________________________________\n",
      "stage3_unit4_bn1 (BatchNormaliz (None, None, None, 2 1024        add_9[0][0]                      \n",
      "__________________________________________________________________________________________________\n",
      "stage3_unit4_relu1 (Activation) (None, None, None, 2 0           stage3_unit4_bn1[0][0]           \n",
      "__________________________________________________________________________________________________\n",
      "zero_padding2d_22 (ZeroPadding2 (None, None, None, 2 0           stage3_unit4_relu1[0][0]         \n",
      "__________________________________________________________________________________________________\n",
      "stage3_unit4_conv1 (Conv2D)     (None, None, None, 2 589824      zero_padding2d_22[0][0]          \n",
      "__________________________________________________________________________________________________\n",
      "stage3_unit4_bn2 (BatchNormaliz (None, None, None, 2 1024        stage3_unit4_conv1[0][0]         \n",
      "__________________________________________________________________________________________________\n",
      "stage3_unit4_relu2 (Activation) (None, None, None, 2 0           stage3_unit4_bn2[0][0]           \n",
      "__________________________________________________________________________________________________\n",
      "zero_padding2d_23 (ZeroPadding2 (None, None, None, 2 0           stage3_unit4_relu2[0][0]         \n",
      "__________________________________________________________________________________________________\n",
      "stage3_unit4_conv2 (Conv2D)     (None, None, None, 2 589824      zero_padding2d_23[0][0]          \n",
      "__________________________________________________________________________________________________\n",
      "add_10 (Add)                    (None, None, None, 2 0           stage3_unit4_conv2[0][0]         \n",
      "                                                                 add_9[0][0]                      \n",
      "__________________________________________________________________________________________________\n",
      "stage3_unit5_bn1 (BatchNormaliz (None, None, None, 2 1024        add_10[0][0]                     \n",
      "__________________________________________________________________________________________________\n",
      "stage3_unit5_relu1 (Activation) (None, None, None, 2 0           stage3_unit5_bn1[0][0]           \n",
      "__________________________________________________________________________________________________\n",
      "zero_padding2d_24 (ZeroPadding2 (None, None, None, 2 0           stage3_unit5_relu1[0][0]         \n",
      "__________________________________________________________________________________________________\n",
      "stage3_unit5_conv1 (Conv2D)     (None, None, None, 2 589824      zero_padding2d_24[0][0]          \n",
      "__________________________________________________________________________________________________\n",
      "stage3_unit5_bn2 (BatchNormaliz (None, None, None, 2 1024        stage3_unit5_conv1[0][0]         \n",
      "__________________________________________________________________________________________________\n",
      "stage3_unit5_relu2 (Activation) (None, None, None, 2 0           stage3_unit5_bn2[0][0]           \n",
      "__________________________________________________________________________________________________\n",
      "zero_padding2d_25 (ZeroPadding2 (None, None, None, 2 0           stage3_unit5_relu2[0][0]         \n",
      "__________________________________________________________________________________________________\n",
      "stage3_unit5_conv2 (Conv2D)     (None, None, None, 2 589824      zero_padding2d_25[0][0]          \n",
      "__________________________________________________________________________________________________\n",
      "add_11 (Add)                    (None, None, None, 2 0           stage3_unit5_conv2[0][0]         \n",
      "                                                                 add_10[0][0]                     \n",
      "__________________________________________________________________________________________________\n",
      "stage3_unit6_bn1 (BatchNormaliz (None, None, None, 2 1024        add_11[0][0]                     \n",
      "__________________________________________________________________________________________________\n",
      "stage3_unit6_relu1 (Activation) (None, None, None, 2 0           stage3_unit6_bn1[0][0]           \n",
      "__________________________________________________________________________________________________\n",
      "zero_padding2d_26 (ZeroPadding2 (None, None, None, 2 0           stage3_unit6_relu1[0][0]         \n",
      "__________________________________________________________________________________________________\n",
      "stage3_unit6_conv1 (Conv2D)     (None, None, None, 2 589824      zero_padding2d_26[0][0]          \n",
      "__________________________________________________________________________________________________\n",
      "stage3_unit6_bn2 (BatchNormaliz (None, None, None, 2 1024        stage3_unit6_conv1[0][0]         \n",
      "__________________________________________________________________________________________________\n",
      "stage3_unit6_relu2 (Activation) (None, None, None, 2 0           stage3_unit6_bn2[0][0]           \n",
      "__________________________________________________________________________________________________\n",
      "zero_padding2d_27 (ZeroPadding2 (None, None, None, 2 0           stage3_unit6_relu2[0][0]         \n",
      "__________________________________________________________________________________________________\n",
      "stage3_unit6_conv2 (Conv2D)     (None, None, None, 2 589824      zero_padding2d_27[0][0]          \n",
      "__________________________________________________________________________________________________\n",
      "add_12 (Add)                    (None, None, None, 2 0           stage3_unit6_conv2[0][0]         \n",
      "                                                                 add_11[0][0]                     \n",
      "__________________________________________________________________________________________________\n",
      "stage4_unit1_bn1 (BatchNormaliz (None, None, None, 2 1024        add_12[0][0]                     \n",
      "__________________________________________________________________________________________________\n",
      "stage4_unit1_relu1 (Activation) (None, None, None, 2 0           stage4_unit1_bn1[0][0]           \n",
      "__________________________________________________________________________________________________\n",
      "zero_padding2d_28 (ZeroPadding2 (None, None, None, 2 0           stage4_unit1_relu1[0][0]         \n",
      "__________________________________________________________________________________________________\n",
      "stage4_unit1_conv1 (Conv2D)     (None, None, None, 5 1179648     zero_padding2d_28[0][0]          \n",
      "__________________________________________________________________________________________________\n",
      "stage4_unit1_bn2 (BatchNormaliz (None, None, None, 5 2048        stage4_unit1_conv1[0][0]         \n",
      "__________________________________________________________________________________________________\n",
      "stage4_unit1_relu2 (Activation) (None, None, None, 5 0           stage4_unit1_bn2[0][0]           \n",
      "__________________________________________________________________________________________________\n",
      "zero_padding2d_29 (ZeroPadding2 (None, None, None, 5 0           stage4_unit1_relu2[0][0]         \n",
      "__________________________________________________________________________________________________\n",
      "stage4_unit1_conv2 (Conv2D)     (None, None, None, 5 2359296     zero_padding2d_29[0][0]          \n",
      "__________________________________________________________________________________________________\n",
      "stage4_unit1_sc (Conv2D)        (None, None, None, 5 131072      stage4_unit1_relu1[0][0]         \n",
      "__________________________________________________________________________________________________\n",
      "add_13 (Add)                    (None, None, None, 5 0           stage4_unit1_conv2[0][0]         \n",
      "                                                                 stage4_unit1_sc[0][0]            \n",
      "__________________________________________________________________________________________________\n",
      "stage4_unit2_bn1 (BatchNormaliz (None, None, None, 5 2048        add_13[0][0]                     \n",
      "__________________________________________________________________________________________________\n",
      "stage4_unit2_relu1 (Activation) (None, None, None, 5 0           stage4_unit2_bn1[0][0]           \n",
      "__________________________________________________________________________________________________\n",
      "zero_padding2d_30 (ZeroPadding2 (None, None, None, 5 0           stage4_unit2_relu1[0][0]         \n",
      "__________________________________________________________________________________________________\n",
      "stage4_unit2_conv1 (Conv2D)     (None, None, None, 5 2359296     zero_padding2d_30[0][0]          \n",
      "__________________________________________________________________________________________________\n",
      "stage4_unit2_bn2 (BatchNormaliz (None, None, None, 5 2048        stage4_unit2_conv1[0][0]         \n",
      "__________________________________________________________________________________________________\n",
      "stage4_unit2_relu2 (Activation) (None, None, None, 5 0           stage4_unit2_bn2[0][0]           \n",
      "__________________________________________________________________________________________________\n",
      "zero_padding2d_31 (ZeroPadding2 (None, None, None, 5 0           stage4_unit2_relu2[0][0]         \n",
      "__________________________________________________________________________________________________\n",
      "stage4_unit2_conv2 (Conv2D)     (None, None, None, 5 2359296     zero_padding2d_31[0][0]          \n",
      "__________________________________________________________________________________________________\n",
      "add_14 (Add)                    (None, None, None, 5 0           stage4_unit2_conv2[0][0]         \n",
      "                                                                 add_13[0][0]                     \n",
      "__________________________________________________________________________________________________\n",
      "stage4_unit3_bn1 (BatchNormaliz (None, None, None, 5 2048        add_14[0][0]                     \n",
      "__________________________________________________________________________________________________\n",
      "stage4_unit3_relu1 (Activation) (None, None, None, 5 0           stage4_unit3_bn1[0][0]           \n",
      "__________________________________________________________________________________________________\n",
      "zero_padding2d_32 (ZeroPadding2 (None, None, None, 5 0           stage4_unit3_relu1[0][0]         \n",
      "__________________________________________________________________________________________________\n",
      "stage4_unit3_conv1 (Conv2D)     (None, None, None, 5 2359296     zero_padding2d_32[0][0]          \n",
      "__________________________________________________________________________________________________\n",
      "stage4_unit3_bn2 (BatchNormaliz (None, None, None, 5 2048        stage4_unit3_conv1[0][0]         \n",
      "__________________________________________________________________________________________________\n",
      "stage4_unit3_relu2 (Activation) (None, None, None, 5 0           stage4_unit3_bn2[0][0]           \n",
      "__________________________________________________________________________________________________\n",
      "zero_padding2d_33 (ZeroPadding2 (None, None, None, 5 0           stage4_unit3_relu2[0][0]         \n",
      "__________________________________________________________________________________________________\n",
      "stage4_unit3_conv2 (Conv2D)     (None, None, None, 5 2359296     zero_padding2d_33[0][0]          \n",
      "__________________________________________________________________________________________________\n",
      "add_15 (Add)                    (None, None, None, 5 0           stage4_unit3_conv2[0][0]         \n",
      "                                                                 add_14[0][0]                     \n",
      "__________________________________________________________________________________________________\n",
      "bn1 (BatchNormalization)        (None, None, None, 5 2048        add_15[0][0]                     \n",
      "__________________________________________________________________________________________________\n",
      "relu1 (Activation)              (None, None, None, 5 0           bn1[0][0]                        \n",
      "__________________________________________________________________________________________________\n",
      "fpn_stage_p5_pre_conv (Conv2D)  (None, None, None, 2 131328      relu1[0][0]                      \n",
      "__________________________________________________________________________________________________\n",
      "fpn_stage_p5_upsampling (UpSamp (None, None, None, 2 0           fpn_stage_p5_pre_conv[0][0]      \n",
      "__________________________________________________________________________________________________\n",
      "fpn_stage_p5_conv (Conv2D)      (None, None, None, 2 65792       stage4_unit1_relu1[0][0]         \n",
      "__________________________________________________________________________________________________\n",
      "fpn_stage_p5_add (Add)          (None, None, None, 2 0           fpn_stage_p5_upsampling[0][0]    \n",
      "                                                                 fpn_stage_p5_conv[0][0]          \n",
      "__________________________________________________________________________________________________\n",
      "fpn_stage_p4_upsampling (UpSamp (None, None, None, 2 0           fpn_stage_p5_add[0][0]           \n",
      "__________________________________________________________________________________________________\n",
      "fpn_stage_p4_conv (Conv2D)      (None, None, None, 2 33024       stage3_unit1_relu1[0][0]         \n",
      "__________________________________________________________________________________________________\n",
      "fpn_stage_p4_add (Add)          (None, None, None, 2 0           fpn_stage_p4_upsampling[0][0]    \n",
      "                                                                 fpn_stage_p4_conv[0][0]          \n",
      "__________________________________________________________________________________________________\n",
      "fpn_stage_p3_upsampling (UpSamp (None, None, None, 2 0           fpn_stage_p4_add[0][0]           \n",
      "__________________________________________________________________________________________________\n",
      "fpn_stage_p3_conv (Conv2D)      (None, None, None, 2 16640       stage2_unit1_relu1[0][0]         \n",
      "__________________________________________________________________________________________________\n",
      "fpn_stage_p3_add (Add)          (None, None, None, 2 0           fpn_stage_p3_upsampling[0][0]    \n",
      "                                                                 fpn_stage_p3_conv[0][0]          \n",
      "__________________________________________________________________________________________________\n",
      "fpn_stage_p2_upsampling (UpSamp (None, None, None, 2 0           fpn_stage_p3_add[0][0]           \n",
      "__________________________________________________________________________________________________\n",
      "fpn_stage_p2_conv (Conv2D)      (None, None, None, 2 16640       relu0[0][0]                      \n",
      "__________________________________________________________________________________________________\n",
      "fpn_stage_p2_add (Add)          (None, None, None, 2 0           fpn_stage_p2_upsampling[0][0]    \n",
      "                                                                 fpn_stage_p2_conv[0][0]          \n",
      "__________________________________________________________________________________________________\n",
      "segm_stage3a_conv (Conv2D)      (None, None, None, 1 294912      fpn_stage_p3_add[0][0]           \n",
      "__________________________________________________________________________________________________\n",
      "segm_stage4a_conv (Conv2D)      (None, None, None, 1 294912      fpn_stage_p4_add[0][0]           \n",
      "__________________________________________________________________________________________________\n",
      "segm_stage5a_conv (Conv2D)      (None, None, None, 1 294912      fpn_stage_p5_add[0][0]           \n",
      "__________________________________________________________________________________________________\n",
      "segm_stage2a_conv (Conv2D)      (None, None, None, 1 294912      fpn_stage_p2_add[0][0]           \n",
      "__________________________________________________________________________________________________\n",
      "segm_stage3a_bn (BatchNormaliza (None, None, None, 1 512         segm_stage3a_conv[0][0]          \n",
      "__________________________________________________________________________________________________\n",
      "segm_stage4a_bn (BatchNormaliza (None, None, None, 1 512         segm_stage4a_conv[0][0]          \n",
      "__________________________________________________________________________________________________\n",
      "segm_stage5a_bn (BatchNormaliza (None, None, None, 1 512         segm_stage5a_conv[0][0]          \n",
      "__________________________________________________________________________________________________\n",
      "segm_stage2a_bn (BatchNormaliza (None, None, None, 1 512         segm_stage2a_conv[0][0]          \n",
      "__________________________________________________________________________________________________\n",
      "segm_stage3a_relu (Activation)  (None, None, None, 1 0           segm_stage3a_bn[0][0]            \n",
      "__________________________________________________________________________________________________\n",
      "segm_stage4a_relu (Activation)  (None, None, None, 1 0           segm_stage4a_bn[0][0]            \n",
      "__________________________________________________________________________________________________\n",
      "segm_stage5a_relu (Activation)  (None, None, None, 1 0           segm_stage5a_bn[0][0]            \n",
      "__________________________________________________________________________________________________\n",
      "segm_stage2a_relu (Activation)  (None, None, None, 1 0           segm_stage2a_bn[0][0]            \n",
      "__________________________________________________________________________________________________\n",
      "segm_stage3b_conv (Conv2D)      (None, None, None, 1 147456      segm_stage3a_relu[0][0]          \n",
      "__________________________________________________________________________________________________\n",
      "segm_stage4b_conv (Conv2D)      (None, None, None, 1 147456      segm_stage4a_relu[0][0]          \n",
      "__________________________________________________________________________________________________\n",
      "segm_stage5b_conv (Conv2D)      (None, None, None, 1 147456      segm_stage5a_relu[0][0]          \n",
      "__________________________________________________________________________________________________\n",
      "segm_stage2b_conv (Conv2D)      (None, None, None, 1 147456      segm_stage2a_relu[0][0]          \n",
      "__________________________________________________________________________________________________\n",
      "segm_stage3b_bn (BatchNormaliza (None, None, None, 1 512         segm_stage3b_conv[0][0]          \n",
      "__________________________________________________________________________________________________\n",
      "segm_stage4b_bn (BatchNormaliza (None, None, None, 1 512         segm_stage4b_conv[0][0]          \n",
      "__________________________________________________________________________________________________\n",
      "segm_stage5b_bn (BatchNormaliza (None, None, None, 1 512         segm_stage5b_conv[0][0]          \n",
      "__________________________________________________________________________________________________\n",
      "segm_stage2b_bn (BatchNormaliza (None, None, None, 1 512         segm_stage2b_conv[0][0]          \n",
      "__________________________________________________________________________________________________\n",
      "segm_stage3b_relu (Activation)  (None, None, None, 1 0           segm_stage3b_bn[0][0]            \n",
      "__________________________________________________________________________________________________\n",
      "segm_stage4b_relu (Activation)  (None, None, None, 1 0           segm_stage4b_bn[0][0]            \n",
      "__________________________________________________________________________________________________\n",
      "segm_stage5b_relu (Activation)  (None, None, None, 1 0           segm_stage5b_bn[0][0]            \n",
      "__________________________________________________________________________________________________\n",
      "segm_stage2b_relu (Activation)  (None, None, None, 1 0           segm_stage2b_bn[0][0]            \n",
      "__________________________________________________________________________________________________\n",
      "upsampling_stage3 (UpSampling2D (None, None, None, 1 0           segm_stage3b_relu[0][0]          \n",
      "__________________________________________________________________________________________________\n",
      "upsampling_stage4 (UpSampling2D (None, None, None, 1 0           segm_stage4b_relu[0][0]          \n",
      "__________________________________________________________________________________________________\n",
      "upsampling_stage5 (UpSampling2D (None, None, None, 1 0           segm_stage5b_relu[0][0]          \n",
      "__________________________________________________________________________________________________\n",
      "aggregation_concat (Concatenate (None, None, None, 5 0           segm_stage2b_relu[0][0]          \n",
      "                                                                 upsampling_stage3[0][0]          \n",
      "                                                                 upsampling_stage4[0][0]          \n",
      "                                                                 upsampling_stage5[0][0]          \n",
      "__________________________________________________________________________________________________\n",
      "final_stage_conv (Conv2D)       (None, None, None, 1 589824      aggregation_concat[0][0]         \n",
      "__________________________________________________________________________________________________\n",
      "final_stage_bn (BatchNormalizat (None, None, None, 1 512         final_stage_conv[0][0]           \n",
      "__________________________________________________________________________________________________\n",
      "final_stage_relu (Activation)   (None, None, None, 1 0           final_stage_bn[0][0]             \n",
      "__________________________________________________________________________________________________\n",
      "final_upsampling (UpSampling2D) (None, None, None, 1 0           final_stage_relu[0][0]           \n",
      "__________________________________________________________________________________________________\n",
      "head_conv (Conv2D)              (None, None, None, 4 4612        final_upsampling[0][0]           \n",
      "__________________________________________________________________________________________________\n",
      "sigmoid (Activation)            (None, None, None, 4 0           head_conv[0][0]                  \n",
      "==================================================================================================\n",
      "Total params: 23,934,413\n",
      "Trainable params: 23,916,743\n",
      "Non-trainable params: 17,670\n",
      "__________________________________________________________________________________________________\n"
     ]
    }
   ],
   "source": [
    "import os\n",
    "os.environ[\"SM_FRAMEWORK\"] = \"tf.keras\" \n",
    "\n",
    "BACKBONE = 'efficientnetb5'\n",
    "LR = 0.001\n",
    "preprocess_input = sm.get_preprocessing(BACKBONE)\n",
    "\n",
    "# define network parameters\n",
    "n_classes =4\n",
    "activation = 'sigmoid' \n",
    "\n",
    "#create model\n",
    "# model = sm.Unet(BACKBONE, classes=n_classes, activation=activation,encoder_weights='imagenet', decoder_block_type='transpose')\n",
    "model = sm.FPN('resnet34', classes=n_classes, activation=activation)\n",
    "metrics = [sm.metrics.IOUScore(threshold=0.5), sm.metrics.FScore(threshold=0.5),'categorical_accuracy']\n",
    "\n",
    "\n",
    "# define optomizer\n",
    "optim = keras.optimizers.Adam(LR)\n",
    "\n",
    "# Segmentation models losses can be combined together by '+' and scaled by integer or float factor\n",
    "dice_loss = sm.losses.DiceLoss()\n",
    "focal_loss = sm.losses.BinaryFocalLoss() if n_classes == 1 else sm.losses.CategoricalFocalLoss()\n",
    "total_loss = dice_loss + (1 * focal_loss)\n",
    "\n",
    "model.compile('Adam', loss=total_loss, metrics=metrics)\n",
    "\n",
    "\n",
    "# compile keras model with defined optimozer, loss and metrics\n",
    "# model.compile(optim, total_loss, metrics)\n",
    "model.summary()"
   ]
  },
  {
   "cell_type": "code",
   "execution_count": 5,
   "id": "6fce18e4",
   "metadata": {},
   "outputs": [],
   "source": [
    "from keras import backend as K\n",
    "\n",
    "class LossHistory(keras.callbacks.Callback):\n",
    "    def on_train_begin(self, logs={}):\n",
    "        self.lr = []\n",
    "\n",
    "    def on_epoch_end(self, batch, logs={}):\n",
    "    \tself.lr.append(K.eval(self.model.optimizer.lr))\n",
    "    \tnp.savetxt(\"./Training/log/LR.csv\", self.lr, delimiter=\",\", fmt='%s', header=\"LR\")\n",
    "\n",
    "history = LossHistory()\n",
    "\n",
    "csv_logger = keras.callbacks.CSVLogger('./Training/log/log.csv', append=False, separator=';')\n",
    "\n",
    "callbacks = [\n",
    "    keras.callbacks.ModelCheckpoint('./Training/Weights/best_model.h5', save_weights_only=True, save_best_only=True, mode='min'),\n",
    "    keras.callbacks.ReduceLROnPlateau(monitor=\"val_loss\", \n",
    "                                            patience=5, \n",
    "                                            verbose=1, \n",
    "                                            factor=0.2,\n",
    "                                            mode=\"min\", \n",
    "                                            min_lr=0.00001),\n",
    "    history,\n",
    "    csv_logger\n",
    "]"
   ]
  },
  {
   "cell_type": "code",
   "execution_count": 38,
   "id": "3018de78",
   "metadata": {},
   "outputs": [],
   "source": [
    "# Epoch 19/20\n",
    "# 407/791 [==============>...............] - ETA: 25s - loss: 0.6263 - iou_score: 0.1768 - f1-score: 0.2496"
   ]
  },
  {
   "cell_type": "code",
   "execution_count": 54,
   "id": "bdfa044d",
   "metadata": {
    "scrolled": true
   },
   "outputs": [
    {
     "name": "stdout",
     "output_type": "stream",
     "text": [
      "Epoch 1/200\n",
      "  6/156 [>.............................] - ETA: 6s - loss: 0.0199 - iou_score: 0.9658 - f1-score: 0.9825 - categorical_accuracy: 0.0703WARNING:tensorflow:Callback method `on_train_batch_end` is slow compared to the batch time (batch time: 0.0209s vs `on_train_batch_end` time: 0.0239s). Check your callbacks.\n",
      "156/156 [==============================] - 10s 61ms/step - loss: 0.0216 - iou_score: 0.9622 - f1-score: 0.9805 - categorical_accuracy: 0.0749 - val_loss: 0.0855 - val_iou_score: 0.8459 - val_f1-score: 0.9162 - val_categorical_accuracy: 0.0771\n",
      "Epoch 2/200\n",
      "156/156 [==============================] - 7s 45ms/step - loss: 0.0217 - iou_score: 0.9621 - f1-score: 0.9804 - categorical_accuracy: 0.0753 - val_loss: 0.0800 - val_iou_score: 0.8559 - val_f1-score: 0.9216 - val_categorical_accuracy: 0.0722\n",
      "Epoch 3/200\n",
      "156/156 [==============================] - 7s 45ms/step - loss: 0.0215 - iou_score: 0.9623 - f1-score: 0.9805 - categorical_accuracy: 0.0780 - val_loss: 0.0803 - val_iou_score: 0.8554 - val_f1-score: 0.9214 - val_categorical_accuracy: 0.0839\n",
      "Epoch 4/200\n",
      "156/156 [==============================] - 7s 46ms/step - loss: 0.0221 - iou_score: 0.9613 - f1-score: 0.9800 - categorical_accuracy: 0.0779 - val_loss: 0.0809 - val_iou_score: 0.8546 - val_f1-score: 0.9209 - val_categorical_accuracy: 0.0871\n",
      "Epoch 5/200\n",
      "156/156 [==============================] - 7s 46ms/step - loss: 0.0208 - iou_score: 0.9637 - f1-score: 0.9813 - categorical_accuracy: 0.0794 - val_loss: 0.0803 - val_iou_score: 0.8554 - val_f1-score: 0.9214 - val_categorical_accuracy: 0.0806\n",
      "Epoch 6/200\n",
      "156/156 [==============================] - 7s 46ms/step - loss: 0.0233 - iou_score: 0.9592 - f1-score: 0.9789 - categorical_accuracy: 0.0786 - val_loss: 0.0802 - val_iou_score: 0.8553 - val_f1-score: 0.9213 - val_categorical_accuracy: 0.0877\n",
      "Epoch 7/200\n",
      "156/156 [==============================] - 7s 45ms/step - loss: 0.0226 - iou_score: 0.9604 - f1-score: 0.9795 - categorical_accuracy: 0.0775 - val_loss: 0.0808 - val_iou_score: 0.8544 - val_f1-score: 0.9208 - val_categorical_accuracy: 0.0824\n",
      "Epoch 8/200\n",
      "156/156 [==============================] - 7s 46ms/step - loss: 0.0220 - iou_score: 0.9615 - f1-score: 0.9801 - categorical_accuracy: 0.0791 - val_loss: 0.0798 - val_iou_score: 0.8560 - val_f1-score: 0.9217 - val_categorical_accuracy: 0.0786\n",
      "Epoch 9/200\n",
      "156/156 [==============================] - 7s 46ms/step - loss: 0.0233 - iou_score: 0.9592 - f1-score: 0.9789 - categorical_accuracy: 0.0766 - val_loss: 0.0806 - val_iou_score: 0.8550 - val_f1-score: 0.9211 - val_categorical_accuracy: 0.0817\n",
      "Epoch 10/200\n",
      "156/156 [==============================] - 7s 46ms/step - loss: 0.0216 - iou_score: 0.9623 - f1-score: 0.9805 - categorical_accuracy: 0.0772 - val_loss: 0.0812 - val_iou_score: 0.8537 - val_f1-score: 0.9204 - val_categorical_accuracy: 0.0801\n",
      "Epoch 11/200\n",
      "156/156 [==============================] - 7s 45ms/step - loss: 0.0216 - iou_score: 0.9623 - f1-score: 0.9805 - categorical_accuracy: 0.0781 - val_loss: 0.0818 - val_iou_score: 0.8531 - val_f1-score: 0.9199 - val_categorical_accuracy: 0.0891\n",
      "Epoch 12/200\n",
      "156/156 [==============================] - 7s 45ms/step - loss: 0.0202 - iou_score: 0.9648 - f1-score: 0.9819 - categorical_accuracy: 0.0796 - val_loss: 0.0831 - val_iou_score: 0.8509 - val_f1-score: 0.9186 - val_categorical_accuracy: 0.0901\n",
      "Epoch 13/200\n",
      "156/156 [==============================] - 7s 46ms/step - loss: 0.0204 - iou_score: 0.9644 - f1-score: 0.9816 - categorical_accuracy: 0.0805 - val_loss: 0.0814 - val_iou_score: 0.8537 - val_f1-score: 0.9203 - val_categorical_accuracy: 0.0883\n",
      "Epoch 14/200\n",
      "156/156 [==============================] - 7s 45ms/step - loss: 0.0224 - iou_score: 0.9606 - f1-score: 0.9796 - categorical_accuracy: 0.0816 - val_loss: 0.0813 - val_iou_score: 0.8537 - val_f1-score: 0.9204 - val_categorical_accuracy: 0.0847\n",
      "Epoch 15/200\n",
      "156/156 [==============================] - 7s 46ms/step - loss: 0.0214 - iou_score: 0.9626 - f1-score: 0.9807 - categorical_accuracy: 0.0836 - val_loss: 0.0808 - val_iou_score: 0.8543 - val_f1-score: 0.9207 - val_categorical_accuracy: 0.0952\n",
      "Epoch 16/200\n",
      "156/156 [==============================] - 7s 46ms/step - loss: 0.0209 - iou_score: 0.9634 - f1-score: 0.9811 - categorical_accuracy: 0.0848 - val_loss: 0.0811 - val_iou_score: 0.8541 - val_f1-score: 0.9206 - val_categorical_accuracy: 0.0909\n",
      "Epoch 17/200\n",
      "156/156 [==============================] - 7s 46ms/step - loss: 0.0214 - iou_score: 0.9625 - f1-score: 0.9806 - categorical_accuracy: 0.0838 - val_loss: 0.0813 - val_iou_score: 0.8540 - val_f1-score: 0.9206 - val_categorical_accuracy: 0.0925\n",
      "Epoch 18/200\n",
      "156/156 [==============================] - 7s 46ms/step - loss: 0.0217 - iou_score: 0.9621 - f1-score: 0.9804 - categorical_accuracy: 0.0808 - val_loss: 0.0812 - val_iou_score: 0.8540 - val_f1-score: 0.9205 - val_categorical_accuracy: 0.0814\n",
      "Epoch 19/200\n",
      "156/156 [==============================] - 7s 46ms/step - loss: 0.0213 - iou_score: 0.9626 - f1-score: 0.9807 - categorical_accuracy: 0.0809 - val_loss: 0.0811 - val_iou_score: 0.8539 - val_f1-score: 0.9205 - val_categorical_accuracy: 0.0777\n",
      "Epoch 20/200\n",
      "156/156 [==============================] - 7s 46ms/step - loss: 0.0198 - iou_score: 0.9655 - f1-score: 0.9822 - categorical_accuracy: 0.0827 - val_loss: 0.0825 - val_iou_score: 0.8522 - val_f1-score: 0.9194 - val_categorical_accuracy: 0.0823\n",
      "Epoch 21/200\n",
      "156/156 [==============================] - 7s 47ms/step - loss: 0.0207 - iou_score: 0.9638 - f1-score: 0.9813 - categorical_accuracy: 0.0804 - val_loss: 0.0818 - val_iou_score: 0.8532 - val_f1-score: 0.9200 - val_categorical_accuracy: 0.0827\n",
      "Epoch 22/200\n",
      "156/156 [==============================] - 7s 46ms/step - loss: 0.0202 - iou_score: 0.9647 - f1-score: 0.9818 - categorical_accuracy: 0.0806 - val_loss: 0.0817 - val_iou_score: 0.8533 - val_f1-score: 0.9201 - val_categorical_accuracy: 0.0827\n",
      "Epoch 23/200\n",
      "156/156 [==============================] - 7s 46ms/step - loss: 0.0205 - iou_score: 0.9642 - f1-score: 0.9815 - categorical_accuracy: 0.0814 - val_loss: 0.0808 - val_iou_score: 0.8545 - val_f1-score: 0.9208 - val_categorical_accuracy: 0.0897\n",
      "Epoch 24/200\n",
      "156/156 [==============================] - 7s 46ms/step - loss: 0.0208 - iou_score: 0.9635 - f1-score: 0.9812 - categorical_accuracy: 0.0840 - val_loss: 0.0810 - val_iou_score: 0.8539 - val_f1-score: 0.9205 - val_categorical_accuracy: 0.0959\n",
      "Epoch 25/200\n",
      "156/156 [==============================] - 7s 46ms/step - loss: 0.0215 - iou_score: 0.9624 - f1-score: 0.9806 - categorical_accuracy: 0.0834 - val_loss: 0.0820 - val_iou_score: 0.8523 - val_f1-score: 0.9195 - val_categorical_accuracy: 0.0949\n",
      "Epoch 26/200\n",
      "156/156 [==============================] - 7s 46ms/step - loss: 0.0198 - iou_score: 0.9654 - f1-score: 0.9822 - categorical_accuracy: 0.0807 - val_loss: 0.0823 - val_iou_score: 0.8520 - val_f1-score: 0.9194 - val_categorical_accuracy: 0.0875\n",
      "Epoch 27/200\n",
      "156/156 [==============================] - 7s 46ms/step - loss: 0.0211 - iou_score: 0.9632 - f1-score: 0.9810 - categorical_accuracy: 0.0829 - val_loss: 0.0816 - val_iou_score: 0.8534 - val_f1-score: 0.9202 - val_categorical_accuracy: 0.0937\n",
      "Epoch 28/200\n",
      "156/156 [==============================] - 7s 46ms/step - loss: 0.0217 - iou_score: 0.9619 - f1-score: 0.9803 - categorical_accuracy: 0.0818 - val_loss: 0.0817 - val_iou_score: 0.8534 - val_f1-score: 0.9202 - val_categorical_accuracy: 0.0913\n",
      "Epoch 29/200\n",
      "156/156 [==============================] - 7s 46ms/step - loss: 0.0210 - iou_score: 0.9633 - f1-score: 0.9810 - categorical_accuracy: 0.0825 - val_loss: 0.0811 - val_iou_score: 0.8543 - val_f1-score: 0.9207 - val_categorical_accuracy: 0.0822\n",
      "Epoch 30/200\n",
      "156/156 [==============================] - 7s 46ms/step - loss: 0.0201 - iou_score: 0.9649 - f1-score: 0.9818 - categorical_accuracy: 0.0828 - val_loss: 0.0813 - val_iou_score: 0.8539 - val_f1-score: 0.9205 - val_categorical_accuracy: 0.0809\n",
      "Epoch 31/200\n",
      "156/156 [==============================] - 7s 46ms/step - loss: 0.0213 - iou_score: 0.9628 - f1-score: 0.9808 - categorical_accuracy: 0.0810 - val_loss: 0.0837 - val_iou_score: 0.8502 - val_f1-score: 0.9182 - val_categorical_accuracy: 0.0861\n"
     ]
    },
    {
     "name": "stdout",
     "output_type": "stream",
     "text": [
      "Epoch 32/200\n",
      "156/156 [==============================] - 7s 45ms/step - loss: 0.0206 - iou_score: 0.9640 - f1-score: 0.9814 - categorical_accuracy: 0.0793 - val_loss: 0.0826 - val_iou_score: 0.8513 - val_f1-score: 0.9189 - val_categorical_accuracy: 0.0820\n",
      "Epoch 33/200\n",
      "156/156 [==============================] - 7s 46ms/step - loss: 0.0185 - iou_score: 0.9678 - f1-score: 0.9834 - categorical_accuracy: 0.0812 - val_loss: 0.0829 - val_iou_score: 0.8511 - val_f1-score: 0.9188 - val_categorical_accuracy: 0.0846\n",
      "Epoch 34/200\n",
      "156/156 [==============================] - 7s 46ms/step - loss: 0.0197 - iou_score: 0.9655 - f1-score: 0.9822 - categorical_accuracy: 0.0806 - val_loss: 0.0826 - val_iou_score: 0.8517 - val_f1-score: 0.9192 - val_categorical_accuracy: 0.0868\n",
      "Epoch 35/200\n",
      "156/156 [==============================] - 7s 46ms/step - loss: 0.0202 - iou_score: 0.9647 - f1-score: 0.9817 - categorical_accuracy: 0.0846 - val_loss: 0.0865 - val_iou_score: 0.8459 - val_f1-score: 0.9154 - val_categorical_accuracy: 0.0991\n",
      "Epoch 36/200\n",
      "156/156 [==============================] - 7s 46ms/step - loss: 0.0205 - iou_score: 0.9642 - f1-score: 0.9815 - categorical_accuracy: 0.0838 - val_loss: 0.0838 - val_iou_score: 0.8500 - val_f1-score: 0.9181 - val_categorical_accuracy: 0.0888\n",
      "Epoch 37/200\n",
      "156/156 [==============================] - 7s 46ms/step - loss: 0.0211 - iou_score: 0.9631 - f1-score: 0.9810 - categorical_accuracy: 0.0827 - val_loss: 0.0837 - val_iou_score: 0.8504 - val_f1-score: 0.9183 - val_categorical_accuracy: 0.0912\n",
      "Epoch 38/200\n",
      "156/156 [==============================] - 7s 46ms/step - loss: 0.0198 - iou_score: 0.9653 - f1-score: 0.9821 - categorical_accuracy: 0.0829 - val_loss: 0.0834 - val_iou_score: 0.8506 - val_f1-score: 0.9185 - val_categorical_accuracy: 0.0883\n",
      "Epoch 39/200\n",
      "156/156 [==============================] - 7s 46ms/step - loss: 0.0209 - iou_score: 0.9633 - f1-score: 0.9811 - categorical_accuracy: 0.0845 - val_loss: 0.0831 - val_iou_score: 0.8512 - val_f1-score: 0.9188 - val_categorical_accuracy: 0.0827\n",
      "Epoch 40/200\n",
      "156/156 [==============================] - 7s 46ms/step - loss: 0.0194 - iou_score: 0.9661 - f1-score: 0.9825 - categorical_accuracy: 0.0840 - val_loss: 0.0834 - val_iou_score: 0.8506 - val_f1-score: 0.9185 - val_categorical_accuracy: 0.0858\n",
      "Epoch 41/200\n",
      "156/156 [==============================] - 7s 46ms/step - loss: 0.0201 - iou_score: 0.9648 - f1-score: 0.9818 - categorical_accuracy: 0.0819 - val_loss: 0.0825 - val_iou_score: 0.8520 - val_f1-score: 0.9192 - val_categorical_accuracy: 0.0801\n",
      "Epoch 42/200\n",
      "156/156 [==============================] - 7s 46ms/step - loss: 0.0195 - iou_score: 0.9660 - f1-score: 0.9825 - categorical_accuracy: 0.0819 - val_loss: 0.0826 - val_iou_score: 0.8514 - val_f1-score: 0.9190 - val_categorical_accuracy: 0.0873\n",
      "Epoch 43/200\n",
      "156/156 [==============================] - 7s 46ms/step - loss: 0.0196 - iou_score: 0.9658 - f1-score: 0.9824 - categorical_accuracy: 0.0846 - val_loss: 0.0827 - val_iou_score: 0.8514 - val_f1-score: 0.9190 - val_categorical_accuracy: 0.0832\n",
      "Epoch 44/200\n",
      "156/156 [==============================] - 7s 46ms/step - loss: 0.0207 - iou_score: 0.9638 - f1-score: 0.9813 - categorical_accuracy: 0.0840 - val_loss: 0.0829 - val_iou_score: 0.8515 - val_f1-score: 0.9190 - val_categorical_accuracy: 0.0939\n",
      "Epoch 45/200\n",
      "156/156 [==============================] - 7s 46ms/step - loss: 0.0186 - iou_score: 0.9676 - f1-score: 0.9833 - categorical_accuracy: 0.0875 - val_loss: 0.0837 - val_iou_score: 0.8501 - val_f1-score: 0.9181 - val_categorical_accuracy: 0.0914\n",
      "Epoch 46/200\n",
      "156/156 [==============================] - 7s 46ms/step - loss: 0.0184 - iou_score: 0.9681 - f1-score: 0.9836 - categorical_accuracy: 0.0843 - val_loss: 0.0819 - val_iou_score: 0.8529 - val_f1-score: 0.9199 - val_categorical_accuracy: 0.0892\n",
      "Epoch 47/200\n",
      "156/156 [==============================] - 7s 46ms/step - loss: 0.0189 - iou_score: 0.9669 - f1-score: 0.9829 - categorical_accuracy: 0.0873 - val_loss: 0.0824 - val_iou_score: 0.8521 - val_f1-score: 0.9194 - val_categorical_accuracy: 0.0946\n",
      "Epoch 48/200\n",
      "156/156 [==============================] - 7s 46ms/step - loss: 0.0194 - iou_score: 0.9660 - f1-score: 0.9825 - categorical_accuracy: 0.0870 - val_loss: 0.0834 - val_iou_score: 0.8506 - val_f1-score: 0.9185 - val_categorical_accuracy: 0.0883\n",
      "Epoch 49/200\n",
      "156/156 [==============================] - 7s 46ms/step - loss: 0.0192 - iou_score: 0.9663 - f1-score: 0.9826 - categorical_accuracy: 0.0862 - val_loss: 0.0824 - val_iou_score: 0.8522 - val_f1-score: 0.9195 - val_categorical_accuracy: 0.0890\n",
      "Epoch 50/200\n",
      "156/156 [==============================] - 7s 46ms/step - loss: 0.0201 - iou_score: 0.9648 - f1-score: 0.9818 - categorical_accuracy: 0.0870 - val_loss: 0.0827 - val_iou_score: 0.8515 - val_f1-score: 0.9190 - val_categorical_accuracy: 0.0867\n",
      "Epoch 51/200\n",
      "156/156 [==============================] - 7s 46ms/step - loss: 0.0207 - iou_score: 0.9636 - f1-score: 0.9812 - categorical_accuracy: 0.0858 - val_loss: 0.0869 - val_iou_score: 0.8462 - val_f1-score: 0.9149 - val_categorical_accuracy: 0.2930\n",
      "Epoch 52/200\n",
      "156/156 [==============================] - 7s 46ms/step - loss: 0.0212 - iou_score: 0.9627 - f1-score: 0.9807 - categorical_accuracy: 0.0858 - val_loss: 0.0809 - val_iou_score: 0.8544 - val_f1-score: 0.9208 - val_categorical_accuracy: 0.0875\n",
      "Epoch 53/200\n",
      "156/156 [==============================] - 7s 46ms/step - loss: 0.0204 - iou_score: 0.9643 - f1-score: 0.9816 - categorical_accuracy: 0.0814 - val_loss: 0.0804 - val_iou_score: 0.8555 - val_f1-score: 0.9214 - val_categorical_accuracy: 0.0811\n",
      "Epoch 54/200\n",
      "156/156 [==============================] - 7s 46ms/step - loss: 0.0200 - iou_score: 0.9651 - f1-score: 0.9820 - categorical_accuracy: 0.0818 - val_loss: 0.0805 - val_iou_score: 0.8550 - val_f1-score: 0.9211 - val_categorical_accuracy: 0.0789\n",
      "Epoch 55/200\n",
      "156/156 [==============================] - 7s 46ms/step - loss: 0.0199 - iou_score: 0.9654 - f1-score: 0.9821 - categorical_accuracy: 0.0840 - val_loss: 0.0805 - val_iou_score: 0.8551 - val_f1-score: 0.9212 - val_categorical_accuracy: 0.0833\n",
      "Epoch 56/200\n",
      "156/156 [==============================] - 7s 46ms/step - loss: 0.0199 - iou_score: 0.9651 - f1-score: 0.9820 - categorical_accuracy: 0.0855 - val_loss: 0.0812 - val_iou_score: 0.8535 - val_f1-score: 0.9202 - val_categorical_accuracy: 0.0841\n",
      "Epoch 57/200\n",
      "156/156 [==============================] - 7s 46ms/step - loss: 0.0181 - iou_score: 0.9683 - f1-score: 0.9837 - categorical_accuracy: 0.0891 - val_loss: 0.0806 - val_iou_score: 0.8548 - val_f1-score: 0.9210 - val_categorical_accuracy: 0.0904\n",
      "Epoch 58/200\n",
      "156/156 [==============================] - 7s 46ms/step - loss: 0.0189 - iou_score: 0.9669 - f1-score: 0.9829 - categorical_accuracy: 0.0877 - val_loss: 0.0807 - val_iou_score: 0.8551 - val_f1-score: 0.9212 - val_categorical_accuracy: 0.0917\n",
      "Epoch 59/200\n",
      "156/156 [==============================] - 7s 46ms/step - loss: 0.0193 - iou_score: 0.9661 - f1-score: 0.9825 - categorical_accuracy: 0.0902 - val_loss: 0.1022 - val_iou_score: 0.8225 - val_f1-score: 0.8995 - val_categorical_accuracy: 0.1219\n",
      "Epoch 60/200\n",
      "156/156 [==============================] - 7s 46ms/step - loss: 0.0214 - iou_score: 0.9623 - f1-score: 0.9805 - categorical_accuracy: 0.0984 - val_loss: 0.0818 - val_iou_score: 0.8527 - val_f1-score: 0.9198 - val_categorical_accuracy: 0.1075\n",
      "Epoch 61/200\n",
      "156/156 [==============================] - 7s 46ms/step - loss: 0.0192 - iou_score: 0.9664 - f1-score: 0.9827 - categorical_accuracy: 0.0979 - val_loss: 0.0811 - val_iou_score: 0.8543 - val_f1-score: 0.9207 - val_categorical_accuracy: 0.1090\n",
      "Epoch 62/200\n",
      "156/156 [==============================] - 7s 46ms/step - loss: 0.0186 - iou_score: 0.9675 - f1-score: 0.9833 - categorical_accuracy: 0.0960 - val_loss: 0.0811 - val_iou_score: 0.8542 - val_f1-score: 0.9207 - val_categorical_accuracy: 0.1073\n",
      "Epoch 63/200\n",
      "156/156 [==============================] - 7s 46ms/step - loss: 0.0208 - iou_score: 0.9635 - f1-score: 0.9811 - categorical_accuracy: 0.0931 - val_loss: 0.0810 - val_iou_score: 0.8543 - val_f1-score: 0.9207 - val_categorical_accuracy: 0.1037\n",
      "Epoch 64/200\n",
      "156/156 [==============================] - 7s 46ms/step - loss: 0.0193 - iou_score: 0.9664 - f1-score: 0.9827 - categorical_accuracy: 0.0924 - val_loss: 0.0810 - val_iou_score: 0.8544 - val_f1-score: 0.9208 - val_categorical_accuracy: 0.0977\n",
      "Epoch 65/200\n",
      "156/156 [==============================] - 7s 46ms/step - loss: 0.0185 - iou_score: 0.9678 - f1-score: 0.9834 - categorical_accuracy: 0.0933 - val_loss: 0.0813 - val_iou_score: 0.8537 - val_f1-score: 0.9204 - val_categorical_accuracy: 0.1066\n",
      "Epoch 66/200\n",
      "156/156 [==============================] - 7s 46ms/step - loss: 0.0179 - iou_score: 0.9687 - f1-score: 0.9839 - categorical_accuracy: 0.0931 - val_loss: 0.0811 - val_iou_score: 0.8543 - val_f1-score: 0.9207 - val_categorical_accuracy: 0.1000\n",
      "Epoch 67/200\n",
      "156/156 [==============================] - 8s 53ms/step - loss: 0.0184 - iou_score: 0.9679 - f1-score: 0.9834 - categorical_accuracy: 0.0928 - val_loss: 0.0812 - val_iou_score: 0.8537 - val_f1-score: 0.9204 - val_categorical_accuracy: 0.0983\n",
      "Epoch 68/200\n",
      "156/156 [==============================] - 7s 45ms/step - loss: 0.0195 - iou_score: 0.9660 - f1-score: 0.9824 - categorical_accuracy: 0.0913 - val_loss: 0.0813 - val_iou_score: 0.8536 - val_f1-score: 0.9203 - val_categorical_accuracy: 0.0960\n",
      "Epoch 69/200\n",
      "156/156 [==============================] - 7s 45ms/step - loss: 0.0186 - iou_score: 0.9675 - f1-score: 0.9833 - categorical_accuracy: 0.0919 - val_loss: 0.0808 - val_iou_score: 0.8546 - val_f1-score: 0.9209 - val_categorical_accuracy: 0.0948\n",
      "Epoch 70/200\n",
      "156/156 [==============================] - 7s 45ms/step - loss: 0.0200 - iou_score: 0.9650 - f1-score: 0.9819 - categorical_accuracy: 0.0894 - val_loss: 0.0809 - val_iou_score: 0.8543 - val_f1-score: 0.9207 - val_categorical_accuracy: 0.0951\n",
      "Epoch 71/200\n",
      "156/156 [==============================] - 7s 45ms/step - loss: 0.0193 - iou_score: 0.9661 - f1-score: 0.9825 - categorical_accuracy: 0.0914 - val_loss: 0.0804 - val_iou_score: 0.8549 - val_f1-score: 0.9211 - val_categorical_accuracy: 0.0980\n",
      "Epoch 72/200\n",
      "156/156 [==============================] - 7s 45ms/step - loss: 0.0178 - iou_score: 0.9690 - f1-score: 0.9841 - categorical_accuracy: 0.0912 - val_loss: 0.0815 - val_iou_score: 0.8536 - val_f1-score: 0.9203 - val_categorical_accuracy: 0.1008\n",
      "Epoch 73/200\n",
      "156/156 [==============================] - 7s 45ms/step - loss: 0.0180 - iou_score: 0.9687 - f1-score: 0.9839 - categorical_accuracy: 0.0910 - val_loss: 0.0817 - val_iou_score: 0.8530 - val_f1-score: 0.9200 - val_categorical_accuracy: 0.0954\n",
      "Epoch 74/200\n",
      "156/156 [==============================] - 7s 45ms/step - loss: 0.0188 - iou_score: 0.9669 - f1-score: 0.9830 - categorical_accuracy: 0.0918 - val_loss: 0.0816 - val_iou_score: 0.8535 - val_f1-score: 0.9203 - val_categorical_accuracy: 0.0966\n",
      "Epoch 75/200\n",
      "156/156 [==============================] - 7s 45ms/step - loss: 0.0195 - iou_score: 0.9659 - f1-score: 0.9824 - categorical_accuracy: 0.0910 - val_loss: 0.0808 - val_iou_score: 0.8546 - val_f1-score: 0.9209 - val_categorical_accuracy: 0.0910\n",
      "Epoch 76/200\n",
      "156/156 [==============================] - 7s 45ms/step - loss: 0.0174 - iou_score: 0.9697 - f1-score: 0.9844 - categorical_accuracy: 0.0908 - val_loss: 0.0805 - val_iou_score: 0.8552 - val_f1-score: 0.9212 - val_categorical_accuracy: 0.0962\n",
      "Epoch 77/200\n",
      "156/156 [==============================] - 7s 45ms/step - loss: 0.0184 - iou_score: 0.9679 - f1-score: 0.9835 - categorical_accuracy: 0.0923 - val_loss: 0.0808 - val_iou_score: 0.8547 - val_f1-score: 0.9210 - val_categorical_accuracy: 0.0979\n",
      "Epoch 78/200\n",
      "156/156 [==============================] - 7s 45ms/step - loss: 0.0186 - iou_score: 0.9674 - f1-score: 0.9832 - categorical_accuracy: 0.0930 - val_loss: 0.0824 - val_iou_score: 0.8521 - val_f1-score: 0.9194 - val_categorical_accuracy: 0.0877\n",
      "Epoch 79/200\n",
      "156/156 [==============================] - 7s 45ms/step - loss: 0.0178 - iou_score: 0.9691 - f1-score: 0.9841 - categorical_accuracy: 0.0945 - val_loss: 0.0831 - val_iou_score: 0.8510 - val_f1-score: 0.9187 - val_categorical_accuracy: 0.1008\n",
      "Epoch 80/200\n",
      "156/156 [==============================] - 7s 45ms/step - loss: 0.0195 - iou_score: 0.9659 - f1-score: 0.9824 - categorical_accuracy: 0.0929 - val_loss: 0.0817 - val_iou_score: 0.8532 - val_f1-score: 0.9201 - val_categorical_accuracy: 0.0965\n",
      "Epoch 81/200\n",
      "156/156 [==============================] - 7s 45ms/step - loss: 0.0185 - iou_score: 0.9677 - f1-score: 0.9833 - categorical_accuracy: 0.0920 - val_loss: 0.0812 - val_iou_score: 0.8543 - val_f1-score: 0.9207 - val_categorical_accuracy: 0.0956\n",
      "Epoch 82/200\n",
      "156/156 [==============================] - 7s 45ms/step - loss: 0.0177 - iou_score: 0.9693 - f1-score: 0.9842 - categorical_accuracy: 0.0909 - val_loss: 0.0817 - val_iou_score: 0.8535 - val_f1-score: 0.9202 - val_categorical_accuracy: 0.1037\n",
      "Epoch 83/200\n",
      "156/156 [==============================] - 7s 45ms/step - loss: 0.0173 - iou_score: 0.9700 - f1-score: 0.9846 - categorical_accuracy: 0.0907 - val_loss: 0.0818 - val_iou_score: 0.8530 - val_f1-score: 0.9199 - val_categorical_accuracy: 0.0933\n",
      "Epoch 84/200\n",
      "156/156 [==============================] - 7s 45ms/step - loss: 0.0171 - iou_score: 0.9702 - f1-score: 0.9847 - categorical_accuracy: 0.0950 - val_loss: 0.0808 - val_iou_score: 0.8545 - val_f1-score: 0.9209 - val_categorical_accuracy: 0.0897\n",
      "Epoch 85/200\n",
      "156/156 [==============================] - 7s 45ms/step - loss: 0.0166 - iou_score: 0.9711 - f1-score: 0.9851 - categorical_accuracy: 0.0940 - val_loss: 0.0801 - val_iou_score: 0.8557 - val_f1-score: 0.9216 - val_categorical_accuracy: 0.0910\n",
      "Epoch 86/200\n",
      "156/156 [==============================] - 7s 45ms/step - loss: 0.0173 - iou_score: 0.9698 - f1-score: 0.9845 - categorical_accuracy: 0.0949 - val_loss: 0.0811 - val_iou_score: 0.8543 - val_f1-score: 0.9207 - val_categorical_accuracy: 0.0980\n",
      "Epoch 87/200\n",
      "156/156 [==============================] - 7s 45ms/step - loss: 0.0175 - iou_score: 0.9696 - f1-score: 0.9843 - categorical_accuracy: 0.0940 - val_loss: 0.0820 - val_iou_score: 0.8527 - val_f1-score: 0.9197 - val_categorical_accuracy: 0.0969\n",
      "Epoch 88/200\n",
      "156/156 [==============================] - 7s 45ms/step - loss: 0.0189 - iou_score: 0.9671 - f1-score: 0.9830 - categorical_accuracy: 0.0954 - val_loss: 0.0825 - val_iou_score: 0.8517 - val_f1-score: 0.9191 - val_categorical_accuracy: 0.0949\n",
      "Epoch 89/200\n",
      "156/156 [==============================] - 7s 45ms/step - loss: 0.0179 - iou_score: 0.9688 - f1-score: 0.9839 - categorical_accuracy: 0.0950 - val_loss: 0.0819 - val_iou_score: 0.8528 - val_f1-score: 0.9198 - val_categorical_accuracy: 0.1017\n",
      "Epoch 90/200\n",
      "156/156 [==============================] - 7s 45ms/step - loss: 0.0186 - iou_score: 0.9676 - f1-score: 0.9833 - categorical_accuracy: 0.0950 - val_loss: 0.0824 - val_iou_score: 0.8520 - val_f1-score: 0.9193 - val_categorical_accuracy: 0.0897\n",
      "Epoch 91/200\n",
      "156/156 [==============================] - 7s 45ms/step - loss: 0.0174 - iou_score: 0.9697 - f1-score: 0.9844 - categorical_accuracy: 0.0970 - val_loss: 0.0827 - val_iou_score: 0.8515 - val_f1-score: 0.9190 - val_categorical_accuracy: 0.0922\n",
      "Epoch 92/200\n",
      "156/156 [==============================] - 7s 45ms/step - loss: 0.0180 - iou_score: 0.9687 - f1-score: 0.9838 - categorical_accuracy: 0.0977 - val_loss: 0.0833 - val_iou_score: 0.8507 - val_f1-score: 0.9185 - val_categorical_accuracy: 0.0969\n",
      "Epoch 93/200\n",
      "156/156 [==============================] - 7s 45ms/step - loss: 0.0170 - iou_score: 0.9703 - f1-score: 0.9847 - categorical_accuracy: 0.0980 - val_loss: 0.0820 - val_iou_score: 0.8528 - val_f1-score: 0.9198 - val_categorical_accuracy: 0.0971\n",
      "Epoch 94/200\n",
      "156/156 [==============================] - 7s 45ms/step - loss: 0.0180 - iou_score: 0.9686 - f1-score: 0.9838 - categorical_accuracy: 0.0981 - val_loss: 0.0822 - val_iou_score: 0.8527 - val_f1-score: 0.9197 - val_categorical_accuracy: 0.0962\n",
      "Epoch 95/200\n",
      "156/156 [==============================] - 7s 46ms/step - loss: 0.0169 - iou_score: 0.9705 - f1-score: 0.9848 - categorical_accuracy: 0.0973 - val_loss: 0.0821 - val_iou_score: 0.8522 - val_f1-score: 0.9194 - val_categorical_accuracy: 0.0975\n",
      "Epoch 96/200\n"
     ]
    },
    {
     "name": "stdout",
     "output_type": "stream",
     "text": [
      "156/156 [==============================] - 7s 45ms/step - loss: 0.0172 - iou_score: 0.9700 - f1-score: 0.9845 - categorical_accuracy: 0.1013 - val_loss: 0.0835 - val_iou_score: 0.8506 - val_f1-score: 0.9184 - val_categorical_accuracy: 0.1053\n",
      "Epoch 97/200\n",
      "156/156 [==============================] - 7s 45ms/step - loss: 0.0183 - iou_score: 0.9680 - f1-score: 0.9835 - categorical_accuracy: 0.1025 - val_loss: 0.0853 - val_iou_score: 0.8477 - val_f1-score: 0.9164 - val_categorical_accuracy: 0.1113\n",
      "Epoch 98/200\n",
      "156/156 [==============================] - 7s 45ms/step - loss: 0.0183 - iou_score: 0.9680 - f1-score: 0.9835 - categorical_accuracy: 0.1001 - val_loss: 0.0815 - val_iou_score: 0.8538 - val_f1-score: 0.9204 - val_categorical_accuracy: 0.1128\n",
      "Epoch 99/200\n",
      "156/156 [==============================] - 7s 45ms/step - loss: 0.0178 - iou_score: 0.9690 - f1-score: 0.9840 - categorical_accuracy: 0.1019 - val_loss: 0.0838 - val_iou_score: 0.8504 - val_f1-score: 0.9182 - val_categorical_accuracy: 0.1061\n",
      "Epoch 100/200\n",
      "156/156 [==============================] - 7s 45ms/step - loss: 0.0174 - iou_score: 0.9697 - f1-score: 0.9844 - categorical_accuracy: 0.1017 - val_loss: 0.0831 - val_iou_score: 0.8512 - val_f1-score: 0.9187 - val_categorical_accuracy: 0.1057\n",
      "Epoch 101/200\n",
      "156/156 [==============================] - 7s 45ms/step - loss: 0.0166 - iou_score: 0.9710 - f1-score: 0.9851 - categorical_accuracy: 0.1020 - val_loss: 0.0828 - val_iou_score: 0.8516 - val_f1-score: 0.9190 - val_categorical_accuracy: 0.1064\n",
      "Epoch 102/200\n",
      "156/156 [==============================] - 7s 45ms/step - loss: 0.0165 - iou_score: 0.9712 - f1-score: 0.9852 - categorical_accuracy: 0.1038 - val_loss: 0.0852 - val_iou_score: 0.8483 - val_f1-score: 0.9169 - val_categorical_accuracy: 0.0978\n",
      "Epoch 103/200\n",
      "156/156 [==============================] - 7s 45ms/step - loss: 0.0174 - iou_score: 0.9697 - f1-score: 0.9844 - categorical_accuracy: 0.1016 - val_loss: 0.0840 - val_iou_score: 0.8497 - val_f1-score: 0.9178 - val_categorical_accuracy: 0.1033\n",
      "Epoch 104/200\n",
      "156/156 [==============================] - 7s 45ms/step - loss: 0.0162 - iou_score: 0.9717 - f1-score: 0.9855 - categorical_accuracy: 0.1087 - val_loss: 0.0825 - val_iou_score: 0.8523 - val_f1-score: 0.9194 - val_categorical_accuracy: 0.1024\n",
      "Epoch 105/200\n",
      "156/156 [==============================] - 7s 45ms/step - loss: 0.0175 - iou_score: 0.9694 - f1-score: 0.9842 - categorical_accuracy: 0.1068 - val_loss: 0.0824 - val_iou_score: 0.8520 - val_f1-score: 0.9193 - val_categorical_accuracy: 0.0980\n",
      "Epoch 106/200\n",
      "156/156 [==============================] - 7s 45ms/step - loss: 0.0167 - iou_score: 0.9709 - f1-score: 0.9850 - categorical_accuracy: 0.1047 - val_loss: 0.0827 - val_iou_score: 0.8518 - val_f1-score: 0.9191 - val_categorical_accuracy: 0.0998\n",
      "Epoch 107/200\n",
      "156/156 [==============================] - 7s 45ms/step - loss: 0.0181 - iou_score: 0.9684 - f1-score: 0.9837 - categorical_accuracy: 0.1053 - val_loss: 0.0835 - val_iou_score: 0.8507 - val_f1-score: 0.9184 - val_categorical_accuracy: 0.1072\n",
      "Epoch 108/200\n",
      "156/156 [==============================] - 7s 45ms/step - loss: 0.0169 - iou_score: 0.9705 - f1-score: 0.9848 - categorical_accuracy: 0.1067 - val_loss: 0.0841 - val_iou_score: 0.8497 - val_f1-score: 0.9178 - val_categorical_accuracy: 0.1101\n",
      "Epoch 109/200\n",
      "156/156 [==============================] - 7s 45ms/step - loss: 0.0176 - iou_score: 0.9693 - f1-score: 0.9842 - categorical_accuracy: 0.1059 - val_loss: 0.0826 - val_iou_score: 0.8520 - val_f1-score: 0.9193 - val_categorical_accuracy: 0.0996\n",
      "Epoch 110/200\n",
      "156/156 [==============================] - 7s 45ms/step - loss: 0.0155 - iou_score: 0.9731 - f1-score: 0.9862 - categorical_accuracy: 0.1066 - val_loss: 0.0827 - val_iou_score: 0.8517 - val_f1-score: 0.9190 - val_categorical_accuracy: 0.1069\n",
      "Epoch 111/200\n",
      "156/156 [==============================] - 7s 45ms/step - loss: 0.0169 - iou_score: 0.9707 - f1-score: 0.9849 - categorical_accuracy: 0.1096 - val_loss: 0.0835 - val_iou_score: 0.8508 - val_f1-score: 0.9184 - val_categorical_accuracy: 0.1058\n",
      "Epoch 112/200\n",
      "156/156 [==============================] - 7s 45ms/step - loss: 0.0167 - iou_score: 0.9710 - f1-score: 0.9851 - categorical_accuracy: 0.1123 - val_loss: 0.0842 - val_iou_score: 0.8495 - val_f1-score: 0.9177 - val_categorical_accuracy: 0.1087\n",
      "Epoch 113/200\n",
      "156/156 [==============================] - 7s 45ms/step - loss: 0.0172 - iou_score: 0.9702 - f1-score: 0.9846 - categorical_accuracy: 0.1067 - val_loss: 0.0842 - val_iou_score: 0.8495 - val_f1-score: 0.9177 - val_categorical_accuracy: 0.1052\n",
      "Epoch 114/200\n",
      "156/156 [==============================] - 7s 45ms/step - loss: 0.0166 - iou_score: 0.9712 - f1-score: 0.9852 - categorical_accuracy: 0.1080 - val_loss: 0.0827 - val_iou_score: 0.8516 - val_f1-score: 0.9190 - val_categorical_accuracy: 0.1047\n",
      "Epoch 115/200\n",
      "156/156 [==============================] - 7s 45ms/step - loss: 0.0168 - iou_score: 0.9706 - f1-score: 0.9849 - categorical_accuracy: 0.1084 - val_loss: 0.0830 - val_iou_score: 0.8512 - val_f1-score: 0.9188 - val_categorical_accuracy: 0.1094\n",
      "Epoch 116/200\n",
      "156/156 [==============================] - 7s 45ms/step - loss: 0.0162 - iou_score: 0.9718 - f1-score: 0.9855 - categorical_accuracy: 0.1099 - val_loss: 0.0833 - val_iou_score: 0.8509 - val_f1-score: 0.9185 - val_categorical_accuracy: 0.1141\n",
      "Epoch 117/200\n",
      "156/156 [==============================] - 7s 45ms/step - loss: 0.0179 - iou_score: 0.9686 - f1-score: 0.9839 - categorical_accuracy: 0.1089 - val_loss: 0.0839 - val_iou_score: 0.8500 - val_f1-score: 0.9179 - val_categorical_accuracy: 0.0876\n",
      "Epoch 118/200\n",
      "156/156 [==============================] - 7s 45ms/step - loss: 0.0161 - iou_score: 0.9721 - f1-score: 0.9856 - categorical_accuracy: 0.1088 - val_loss: 0.0841 - val_iou_score: 0.8499 - val_f1-score: 0.9177 - val_categorical_accuracy: 0.1064\n",
      "Epoch 119/200\n",
      "156/156 [==============================] - 7s 45ms/step - loss: 0.0183 - iou_score: 0.9681 - f1-score: 0.9835 - categorical_accuracy: 0.1109 - val_loss: 0.0824 - val_iou_score: 0.8523 - val_f1-score: 0.9195 - val_categorical_accuracy: 0.1127\n",
      "Epoch 120/200\n",
      "156/156 [==============================] - 7s 45ms/step - loss: 0.0170 - iou_score: 0.9703 - f1-score: 0.9847 - categorical_accuracy: 0.1116 - val_loss: 0.0824 - val_iou_score: 0.8522 - val_f1-score: 0.9193 - val_categorical_accuracy: 0.1043\n",
      "Epoch 121/200\n",
      "156/156 [==============================] - 7s 45ms/step - loss: 0.0165 - iou_score: 0.9712 - f1-score: 0.9852 - categorical_accuracy: 0.1149 - val_loss: 0.0821 - val_iou_score: 0.8530 - val_f1-score: 0.9198 - val_categorical_accuracy: 0.1116\n",
      "Epoch 122/200\n",
      "156/156 [==============================] - 7s 45ms/step - loss: 0.0157 - iou_score: 0.9728 - f1-score: 0.9860 - categorical_accuracy: 0.1126 - val_loss: 0.0824 - val_iou_score: 0.8522 - val_f1-score: 0.9194 - val_categorical_accuracy: 0.1070\n",
      "Epoch 123/200\n",
      "156/156 [==============================] - 7s 45ms/step - loss: 0.0160 - iou_score: 0.9721 - f1-score: 0.9857 - categorical_accuracy: 0.1126 - val_loss: 0.0825 - val_iou_score: 0.8522 - val_f1-score: 0.9193 - val_categorical_accuracy: 0.1034\n",
      "Epoch 124/200\n",
      "156/156 [==============================] - 7s 45ms/step - loss: 0.0155 - iou_score: 0.9731 - f1-score: 0.9862 - categorical_accuracy: 0.1092 - val_loss: 0.0817 - val_iou_score: 0.8538 - val_f1-score: 0.9203 - val_categorical_accuracy: 0.1030\n",
      "Epoch 125/200\n",
      "156/156 [==============================] - 7s 45ms/step - loss: 0.0152 - iou_score: 0.9735 - f1-score: 0.9864 - categorical_accuracy: 0.1126 - val_loss: 0.0817 - val_iou_score: 0.8533 - val_f1-score: 0.9200 - val_categorical_accuracy: 0.1066\n",
      "Epoch 126/200\n",
      "156/156 [==============================] - 7s 45ms/step - loss: 0.0167 - iou_score: 0.9711 - f1-score: 0.9851 - categorical_accuracy: 0.1147 - val_loss: 0.0833 - val_iou_score: 0.8512 - val_f1-score: 0.9186 - val_categorical_accuracy: 0.1230\n",
      "Epoch 127/200\n",
      "156/156 [==============================] - 7s 45ms/step - loss: 0.0150 - iou_score: 0.9738 - f1-score: 0.9865 - categorical_accuracy: 0.1161 - val_loss: 0.0820 - val_iou_score: 0.8532 - val_f1-score: 0.9199 - val_categorical_accuracy: 0.1100\n",
      "Epoch 128/200\n",
      "156/156 [==============================] - 7s 45ms/step - loss: 0.0154 - iou_score: 0.9732 - f1-score: 0.9862 - categorical_accuracy: 0.1168 - val_loss: 0.0886 - val_iou_score: 0.8439 - val_f1-score: 0.9130 - val_categorical_accuracy: 0.1012\n",
      "Epoch 129/200\n",
      "156/156 [==============================] - 7s 45ms/step - loss: 0.0163 - iou_score: 0.9717 - f1-score: 0.9854 - categorical_accuracy: 0.1128 - val_loss: 0.0875 - val_iou_score: 0.8447 - val_f1-score: 0.9141 - val_categorical_accuracy: 0.1128\n",
      "Epoch 130/200\n",
      "156/156 [==============================] - 7s 45ms/step - loss: 0.0155 - iou_score: 0.9731 - f1-score: 0.9862 - categorical_accuracy: 0.1080 - val_loss: 0.0811 - val_iou_score: 0.8545 - val_f1-score: 0.9208 - val_categorical_accuracy: 0.0974\n",
      "Epoch 131/200\n",
      "156/156 [==============================] - 7s 45ms/step - loss: 0.0164 - iou_score: 0.9715 - f1-score: 0.9853 - categorical_accuracy: 0.1090 - val_loss: 0.0809 - val_iou_score: 0.8546 - val_f1-score: 0.9208 - val_categorical_accuracy: 0.1120\n",
      "Epoch 132/200\n",
      "156/156 [==============================] - 7s 45ms/step - loss: 0.0162 - iou_score: 0.9719 - f1-score: 0.9855 - categorical_accuracy: 0.1113 - val_loss: 0.0809 - val_iou_score: 0.8545 - val_f1-score: 0.9208 - val_categorical_accuracy: 0.1080\n",
      "Epoch 133/200\n",
      "156/156 [==============================] - 7s 45ms/step - loss: 0.0148 - iou_score: 0.9743 - f1-score: 0.9868 - categorical_accuracy: 0.1136 - val_loss: 0.0818 - val_iou_score: 0.8533 - val_f1-score: 0.9200 - val_categorical_accuracy: 0.1215\n",
      "Epoch 134/200\n",
      "156/156 [==============================] - 7s 45ms/step - loss: 0.0157 - iou_score: 0.9726 - f1-score: 0.9859 - categorical_accuracy: 0.1126 - val_loss: 0.0811 - val_iou_score: 0.8542 - val_f1-score: 0.9206 - val_categorical_accuracy: 0.1168\n",
      "Epoch 135/200\n",
      "156/156 [==============================] - 7s 45ms/step - loss: 0.0157 - iou_score: 0.9726 - f1-score: 0.9859 - categorical_accuracy: 0.1135 - val_loss: 0.0814 - val_iou_score: 0.8538 - val_f1-score: 0.9203 - val_categorical_accuracy: 0.1153\n",
      "Epoch 136/200\n",
      "156/156 [==============================] - 7s 45ms/step - loss: 0.0161 - iou_score: 0.9719 - f1-score: 0.9855 - categorical_accuracy: 0.1136 - val_loss: 0.0809 - val_iou_score: 0.8547 - val_f1-score: 0.9208 - val_categorical_accuracy: 0.1139\n",
      "Epoch 137/200\n",
      "156/156 [==============================] - 7s 45ms/step - loss: 0.0151 - iou_score: 0.9738 - f1-score: 0.9865 - categorical_accuracy: 0.1165 - val_loss: 0.0852 - val_iou_score: 0.8480 - val_f1-score: 0.9166 - val_categorical_accuracy: 0.1101\n",
      "Epoch 138/200\n",
      "156/156 [==============================] - 7s 45ms/step - loss: 0.0153 - iou_score: 0.9734 - f1-score: 0.9863 - categorical_accuracy: 0.1152 - val_loss: 0.0819 - val_iou_score: 0.8531 - val_f1-score: 0.9199 - val_categorical_accuracy: 0.1052\n",
      "Epoch 139/200\n",
      "156/156 [==============================] - 7s 45ms/step - loss: 0.0151 - iou_score: 0.9737 - f1-score: 0.9865 - categorical_accuracy: 0.1175 - val_loss: 0.0817 - val_iou_score: 0.8537 - val_f1-score: 0.9202 - val_categorical_accuracy: 0.1159\n",
      "Epoch 140/200\n",
      "156/156 [==============================] - 7s 45ms/step - loss: 0.0163 - iou_score: 0.9716 - f1-score: 0.9854 - categorical_accuracy: 0.1141 - val_loss: 0.0822 - val_iou_score: 0.8526 - val_f1-score: 0.9196 - val_categorical_accuracy: 0.1091\n",
      "Epoch 141/200\n",
      "156/156 [==============================] - 7s 45ms/step - loss: 0.0154 - iou_score: 0.9732 - f1-score: 0.9862 - categorical_accuracy: 0.1133 - val_loss: 0.0823 - val_iou_score: 0.8529 - val_f1-score: 0.9197 - val_categorical_accuracy: 0.1087\n",
      "Epoch 142/200\n",
      "156/156 [==============================] - 7s 45ms/step - loss: 0.0150 - iou_score: 0.9740 - f1-score: 0.9866 - categorical_accuracy: 0.1160 - val_loss: 0.0818 - val_iou_score: 0.8537 - val_f1-score: 0.9203 - val_categorical_accuracy: 0.1161\n",
      "Epoch 143/200\n",
      "156/156 [==============================] - 7s 45ms/step - loss: 0.0149 - iou_score: 0.9741 - f1-score: 0.9867 - categorical_accuracy: 0.1146 - val_loss: 0.0818 - val_iou_score: 0.8532 - val_f1-score: 0.9200 - val_categorical_accuracy: 0.1167\n",
      "Epoch 144/200\n",
      "156/156 [==============================] - 7s 45ms/step - loss: 0.0153 - iou_score: 0.9733 - f1-score: 0.9862 - categorical_accuracy: 0.1130 - val_loss: 0.0825 - val_iou_score: 0.8521 - val_f1-score: 0.9192 - val_categorical_accuracy: 0.1151\n",
      "Epoch 145/200\n",
      "156/156 [==============================] - 7s 45ms/step - loss: 0.0153 - iou_score: 0.9734 - f1-score: 0.9863 - categorical_accuracy: 0.1108 - val_loss: 0.0816 - val_iou_score: 0.8537 - val_f1-score: 0.9202 - val_categorical_accuracy: 0.1059\n",
      "Epoch 146/200\n",
      "156/156 [==============================] - 7s 45ms/step - loss: 0.0155 - iou_score: 0.9731 - f1-score: 0.9861 - categorical_accuracy: 0.1173 - val_loss: 0.0830 - val_iou_score: 0.8515 - val_f1-score: 0.9189 - val_categorical_accuracy: 0.1202\n",
      "Epoch 147/200\n",
      "156/156 [==============================] - 7s 45ms/step - loss: 0.0152 - iou_score: 0.9736 - f1-score: 0.9864 - categorical_accuracy: 0.1176 - val_loss: 0.0821 - val_iou_score: 0.8528 - val_f1-score: 0.9197 - val_categorical_accuracy: 0.1074\n",
      "Epoch 148/200\n",
      "156/156 [==============================] - 7s 45ms/step - loss: 0.0140 - iou_score: 0.9758 - f1-score: 0.9876 - categorical_accuracy: 0.1140 - val_loss: 0.0815 - val_iou_score: 0.8536 - val_f1-score: 0.9202 - val_categorical_accuracy: 0.1112\n",
      "Epoch 149/200\n",
      "156/156 [==============================] - 7s 45ms/step - loss: 0.0147 - iou_score: 0.9744 - f1-score: 0.9869 - categorical_accuracy: 0.1166 - val_loss: 0.0812 - val_iou_score: 0.8541 - val_f1-score: 0.9205 - val_categorical_accuracy: 0.1124\n",
      "Epoch 150/200\n",
      "156/156 [==============================] - 7s 45ms/step - loss: 0.0141 - iou_score: 0.9755 - f1-score: 0.9874 - categorical_accuracy: 0.1161 - val_loss: 0.0820 - val_iou_score: 0.8530 - val_f1-score: 0.9198 - val_categorical_accuracy: 0.1142\n",
      "Epoch 151/200\n",
      "156/156 [==============================] - 7s 45ms/step - loss: 0.0150 - iou_score: 0.9738 - f1-score: 0.9865 - categorical_accuracy: 0.1184 - val_loss: 0.0819 - val_iou_score: 0.8531 - val_f1-score: 0.9199 - val_categorical_accuracy: 0.1174\n",
      "Epoch 152/200\n",
      "156/156 [==============================] - 7s 45ms/step - loss: 0.0150 - iou_score: 0.9740 - f1-score: 0.9867 - categorical_accuracy: 0.1173 - val_loss: 0.0840 - val_iou_score: 0.8503 - val_f1-score: 0.9178 - val_categorical_accuracy: 0.1143\n",
      "Epoch 153/200\n",
      "156/156 [==============================] - 7s 45ms/step - loss: 0.0155 - iou_score: 0.9729 - f1-score: 0.9860 - categorical_accuracy: 0.1211 - val_loss: 0.0830 - val_iou_score: 0.8512 - val_f1-score: 0.9187 - val_categorical_accuracy: 0.1183\n",
      "Epoch 154/200\n",
      "156/156 [==============================] - 7s 45ms/step - loss: 0.0146 - iou_score: 0.9746 - f1-score: 0.9869 - categorical_accuracy: 0.1195 - val_loss: 0.0826 - val_iou_score: 0.8523 - val_f1-score: 0.9193 - val_categorical_accuracy: 0.1122\n",
      "Epoch 155/200\n",
      "156/156 [==============================] - 7s 45ms/step - loss: 0.0144 - iou_score: 0.9751 - f1-score: 0.9872 - categorical_accuracy: 0.1208 - val_loss: 0.0838 - val_iou_score: 0.8509 - val_f1-score: 0.9181 - val_categorical_accuracy: 0.1152\n",
      "Epoch 156/200\n",
      "156/156 [==============================] - 7s 45ms/step - loss: 0.0148 - iou_score: 0.9742 - f1-score: 0.9867 - categorical_accuracy: 0.1206 - val_loss: 0.0823 - val_iou_score: 0.8528 - val_f1-score: 0.9194 - val_categorical_accuracy: 0.1107\n",
      "Epoch 157/200\n",
      "156/156 [==============================] - 7s 45ms/step - loss: 0.0148 - iou_score: 0.9742 - f1-score: 0.9868 - categorical_accuracy: 0.1182 - val_loss: 0.0832 - val_iou_score: 0.8518 - val_f1-score: 0.9187 - val_categorical_accuracy: 0.1147\n",
      "Epoch 158/200\n",
      "156/156 [==============================] - 7s 45ms/step - loss: 0.0157 - iou_score: 0.9727 - f1-score: 0.9859 - categorical_accuracy: 0.1239 - val_loss: 0.0835 - val_iou_score: 0.8505 - val_f1-score: 0.9182 - val_categorical_accuracy: 0.1302\n",
      "Epoch 159/200\n",
      "156/156 [==============================] - 7s 45ms/step - loss: 0.0149 - iou_score: 0.9741 - f1-score: 0.9867 - categorical_accuracy: 0.1272 - val_loss: 0.0845 - val_iou_score: 0.8499 - val_f1-score: 0.9174 - val_categorical_accuracy: 0.1259\n",
      "Epoch 160/200\n"
     ]
    },
    {
     "name": "stdout",
     "output_type": "stream",
     "text": [
      "156/156 [==============================] - 7s 45ms/step - loss: 0.0148 - iou_score: 0.9743 - f1-score: 0.9868 - categorical_accuracy: 0.1262 - val_loss: 0.0844 - val_iou_score: 0.8495 - val_f1-score: 0.9174 - val_categorical_accuracy: 0.1116\n",
      "Epoch 161/200\n",
      "156/156 [==============================] - 7s 45ms/step - loss: 0.0132 - iou_score: 0.9770 - f1-score: 0.9882 - categorical_accuracy: 0.1252 - val_loss: 0.0827 - val_iou_score: 0.8520 - val_f1-score: 0.9191 - val_categorical_accuracy: 0.1212\n",
      "Epoch 162/200\n",
      "156/156 [==============================] - 7s 45ms/step - loss: 0.0141 - iou_score: 0.9755 - f1-score: 0.9874 - categorical_accuracy: 0.1255 - val_loss: 0.0821 - val_iou_score: 0.8526 - val_f1-score: 0.9196 - val_categorical_accuracy: 0.1184\n",
      "Epoch 163/200\n",
      "156/156 [==============================] - 7s 45ms/step - loss: 0.0145 - iou_score: 0.9749 - f1-score: 0.9871 - categorical_accuracy: 0.1215 - val_loss: 0.0826 - val_iou_score: 0.8523 - val_f1-score: 0.9192 - val_categorical_accuracy: 0.1127\n",
      "Epoch 164/200\n",
      "156/156 [==============================] - 7s 45ms/step - loss: 0.0137 - iou_score: 0.9763 - f1-score: 0.9878 - categorical_accuracy: 0.1269 - val_loss: 0.0818 - val_iou_score: 0.8533 - val_f1-score: 0.9199 - val_categorical_accuracy: 0.1148\n",
      "Epoch 165/200\n",
      "156/156 [==============================] - 7s 45ms/step - loss: 0.0150 - iou_score: 0.9739 - f1-score: 0.9866 - categorical_accuracy: 0.1259 - val_loss: 0.0819 - val_iou_score: 0.8534 - val_f1-score: 0.9200 - val_categorical_accuracy: 0.1173\n",
      "Epoch 166/200\n",
      "156/156 [==============================] - 7s 45ms/step - loss: 0.0142 - iou_score: 0.9753 - f1-score: 0.9873 - categorical_accuracy: 0.1245 - val_loss: 0.0829 - val_iou_score: 0.8521 - val_f1-score: 0.9189 - val_categorical_accuracy: 0.1237\n",
      "Epoch 167/200\n",
      "156/156 [==============================] - 7s 45ms/step - loss: 0.0133 - iou_score: 0.9771 - f1-score: 0.9882 - categorical_accuracy: 0.1288 - val_loss: 0.0812 - val_iou_score: 0.8540 - val_f1-score: 0.9204 - val_categorical_accuracy: 0.1289\n",
      "Epoch 168/200\n",
      "156/156 [==============================] - 7s 45ms/step - loss: 0.0129 - iou_score: 0.9778 - f1-score: 0.9886 - categorical_accuracy: 0.1304 - val_loss: 0.0821 - val_iou_score: 0.8528 - val_f1-score: 0.9196 - val_categorical_accuracy: 0.1038\n",
      "Epoch 169/200\n",
      "156/156 [==============================] - 7s 45ms/step - loss: 0.0129 - iou_score: 0.9776 - f1-score: 0.9885 - categorical_accuracy: 0.1268 - val_loss: 0.0819 - val_iou_score: 0.8534 - val_f1-score: 0.9200 - val_categorical_accuracy: 0.1204\n",
      "Epoch 170/200\n",
      "156/156 [==============================] - 7s 45ms/step - loss: 0.0127 - iou_score: 0.9781 - f1-score: 0.9888 - categorical_accuracy: 0.1283 - val_loss: 0.0808 - val_iou_score: 0.8547 - val_f1-score: 0.9209 - val_categorical_accuracy: 0.1139\n",
      "Epoch 171/200\n",
      "156/156 [==============================] - 7s 45ms/step - loss: 0.0140 - iou_score: 0.9757 - f1-score: 0.9875 - categorical_accuracy: 0.1289 - val_loss: 0.0818 - val_iou_score: 0.8533 - val_f1-score: 0.9200 - val_categorical_accuracy: 0.1136\n",
      "Epoch 172/200\n",
      "156/156 [==============================] - 7s 45ms/step - loss: 0.0144 - iou_score: 0.9750 - f1-score: 0.9871 - categorical_accuracy: 0.1306 - val_loss: 0.0815 - val_iou_score: 0.8532 - val_f1-score: 0.9200 - val_categorical_accuracy: 0.1170\n",
      "Epoch 173/200\n",
      "156/156 [==============================] - 7s 45ms/step - loss: 0.0127 - iou_score: 0.9780 - f1-score: 0.9887 - categorical_accuracy: 0.1337 - val_loss: 0.0829 - val_iou_score: 0.8518 - val_f1-score: 0.9189 - val_categorical_accuracy: 0.1315\n",
      "Epoch 174/200\n",
      "156/156 [==============================] - 7s 45ms/step - loss: 0.0139 - iou_score: 0.9758 - f1-score: 0.9875 - categorical_accuracy: 0.1364 - val_loss: 0.0829 - val_iou_score: 0.8520 - val_f1-score: 0.9189 - val_categorical_accuracy: 0.1256\n",
      "Epoch 175/200\n",
      "156/156 [==============================] - 7s 45ms/step - loss: 0.0139 - iou_score: 0.9758 - f1-score: 0.9876 - categorical_accuracy: 0.1305 - val_loss: 0.0814 - val_iou_score: 0.8540 - val_f1-score: 0.9204 - val_categorical_accuracy: 0.1077\n",
      "Epoch 176/200\n",
      "156/156 [==============================] - 7s 45ms/step - loss: 0.0138 - iou_score: 0.9761 - f1-score: 0.9877 - categorical_accuracy: 0.1328 - val_loss: 0.0812 - val_iou_score: 0.8539 - val_f1-score: 0.9204 - val_categorical_accuracy: 0.1146\n",
      "Epoch 177/200\n",
      "156/156 [==============================] - 7s 45ms/step - loss: 0.0131 - iou_score: 0.9772 - f1-score: 0.9883 - categorical_accuracy: 0.1319 - val_loss: 0.0834 - val_iou_score: 0.8515 - val_f1-score: 0.9185 - val_categorical_accuracy: 0.1299\n",
      "Epoch 178/200\n",
      "156/156 [==============================] - 7s 45ms/step - loss: 0.0128 - iou_score: 0.9777 - f1-score: 0.9886 - categorical_accuracy: 0.1328 - val_loss: 0.0808 - val_iou_score: 0.8546 - val_f1-score: 0.9209 - val_categorical_accuracy: 0.1249\n",
      "Epoch 179/200\n",
      "156/156 [==============================] - 7s 45ms/step - loss: 0.0133 - iou_score: 0.9769 - f1-score: 0.9881 - categorical_accuracy: 0.1359 - val_loss: 0.0848 - val_iou_score: 0.8493 - val_f1-score: 0.9168 - val_categorical_accuracy: 0.1172\n",
      "Epoch 180/200\n",
      "156/156 [==============================] - 7s 45ms/step - loss: 0.0129 - iou_score: 0.9776 - f1-score: 0.9885 - categorical_accuracy: 0.1330 - val_loss: 0.0847 - val_iou_score: 0.8493 - val_f1-score: 0.9168 - val_categorical_accuracy: 0.1213\n",
      "Epoch 181/200\n",
      "156/156 [==============================] - 7s 45ms/step - loss: 0.0144 - iou_score: 0.9750 - f1-score: 0.9871 - categorical_accuracy: 0.1292 - val_loss: 0.0850 - val_iou_score: 0.8495 - val_f1-score: 0.9168 - val_categorical_accuracy: 0.1349\n",
      "Epoch 182/200\n",
      "156/156 [==============================] - 7s 45ms/step - loss: 0.0147 - iou_score: 0.9745 - f1-score: 0.9869 - categorical_accuracy: 0.1323 - val_loss: 0.0839 - val_iou_score: 0.8506 - val_f1-score: 0.9178 - val_categorical_accuracy: 0.1249\n",
      "Epoch 183/200\n",
      "156/156 [==============================] - 7s 45ms/step - loss: 0.0153 - iou_score: 0.9732 - f1-score: 0.9863 - categorical_accuracy: 0.1407 - val_loss: 0.0852 - val_iou_score: 0.8490 - val_f1-score: 0.9167 - val_categorical_accuracy: 0.1376\n",
      "Epoch 184/200\n",
      "156/156 [==============================] - 7s 45ms/step - loss: 0.0142 - iou_score: 0.9754 - f1-score: 0.9874 - categorical_accuracy: 0.1403 - val_loss: 0.0824 - val_iou_score: 0.8526 - val_f1-score: 0.9194 - val_categorical_accuracy: 0.1184\n",
      "Epoch 185/200\n",
      "156/156 [==============================] - 7s 45ms/step - loss: 0.0142 - iou_score: 0.9753 - f1-score: 0.9873 - categorical_accuracy: 0.1369 - val_loss: 0.0825 - val_iou_score: 0.8518 - val_f1-score: 0.9191 - val_categorical_accuracy: 0.1288\n",
      "Epoch 186/200\n",
      "156/156 [==============================] - 7s 45ms/step - loss: 0.0135 - iou_score: 0.9766 - f1-score: 0.9880 - categorical_accuracy: 0.1409 - val_loss: 0.0850 - val_iou_score: 0.8488 - val_f1-score: 0.9168 - val_categorical_accuracy: 0.1239\n",
      "Epoch 187/200\n",
      "156/156 [==============================] - 7s 45ms/step - loss: 0.0135 - iou_score: 0.9766 - f1-score: 0.9880 - categorical_accuracy: 0.1402 - val_loss: 0.0834 - val_iou_score: 0.8512 - val_f1-score: 0.9184 - val_categorical_accuracy: 0.1394\n",
      "Epoch 188/200\n",
      "156/156 [==============================] - 7s 45ms/step - loss: 0.0130 - iou_score: 0.9775 - f1-score: 0.9884 - categorical_accuracy: 0.1393 - val_loss: 0.0843 - val_iou_score: 0.8493 - val_f1-score: 0.9174 - val_categorical_accuracy: 0.1307\n",
      "Epoch 189/200\n",
      "156/156 [==============================] - 7s 45ms/step - loss: 0.0126 - iou_score: 0.9781 - f1-score: 0.9888 - categorical_accuracy: 0.1382 - val_loss: 0.0841 - val_iou_score: 0.8495 - val_f1-score: 0.9175 - val_categorical_accuracy: 0.1302\n",
      "Epoch 190/200\n",
      "156/156 [==============================] - 7s 45ms/step - loss: 0.0129 - iou_score: 0.9776 - f1-score: 0.9885 - categorical_accuracy: 0.1407 - val_loss: 0.0838 - val_iou_score: 0.8498 - val_f1-score: 0.9178 - val_categorical_accuracy: 0.1331\n",
      "Epoch 191/200\n",
      "156/156 [==============================] - 7s 45ms/step - loss: 0.0134 - iou_score: 0.9766 - f1-score: 0.9879 - categorical_accuracy: 0.1375 - val_loss: 0.0824 - val_iou_score: 0.8522 - val_f1-score: 0.9192 - val_categorical_accuracy: 0.1234\n",
      "Epoch 192/200\n",
      "156/156 [==============================] - 7s 45ms/step - loss: 0.0134 - iou_score: 0.9767 - f1-score: 0.9880 - categorical_accuracy: 0.1349 - val_loss: 0.0818 - val_iou_score: 0.8529 - val_f1-score: 0.9198 - val_categorical_accuracy: 0.1205\n",
      "Epoch 193/200\n",
      "156/156 [==============================] - 7s 45ms/step - loss: 0.0132 - iou_score: 0.9770 - f1-score: 0.9882 - categorical_accuracy: 0.1339 - val_loss: 0.0817 - val_iou_score: 0.8533 - val_f1-score: 0.9201 - val_categorical_accuracy: 0.1229\n",
      "Epoch 194/200\n",
      "156/156 [==============================] - 7s 45ms/step - loss: 0.0139 - iou_score: 0.9757 - f1-score: 0.9875 - categorical_accuracy: 0.1368 - val_loss: 0.0840 - val_iou_score: 0.8502 - val_f1-score: 0.9177 - val_categorical_accuracy: 0.1212\n",
      "Epoch 195/200\n",
      "156/156 [==============================] - 7s 45ms/step - loss: 0.0126 - iou_score: 0.9780 - f1-score: 0.9887 - categorical_accuracy: 0.1337 - val_loss: 0.0818 - val_iou_score: 0.8529 - val_f1-score: 0.9198 - val_categorical_accuracy: 0.1280\n",
      "Epoch 196/200\n",
      "156/156 [==============================] - 7s 45ms/step - loss: 0.0120 - iou_score: 0.9791 - f1-score: 0.9893 - categorical_accuracy: 0.1338 - val_loss: 0.0827 - val_iou_score: 0.8521 - val_f1-score: 0.9192 - val_categorical_accuracy: 0.1277\n",
      "Epoch 197/200\n",
      "156/156 [==============================] - 7s 45ms/step - loss: 0.0123 - iou_score: 0.9786 - f1-score: 0.9890 - categorical_accuracy: 0.1392 - val_loss: 0.0839 - val_iou_score: 0.8501 - val_f1-score: 0.9178 - val_categorical_accuracy: 0.1310\n",
      "Epoch 198/200\n",
      "156/156 [==============================] - 7s 45ms/step - loss: 0.0133 - iou_score: 0.9770 - f1-score: 0.9881 - categorical_accuracy: 0.1378 - val_loss: 0.0852 - val_iou_score: 0.8485 - val_f1-score: 0.9166 - val_categorical_accuracy: 0.1217\n",
      "Epoch 199/200\n",
      "156/156 [==============================] - 7s 45ms/step - loss: 0.0128 - iou_score: 0.9778 - f1-score: 0.9886 - categorical_accuracy: 0.1345 - val_loss: 0.0833 - val_iou_score: 0.8508 - val_f1-score: 0.9183 - val_categorical_accuracy: 0.1278\n",
      "Epoch 200/200\n",
      "156/156 [==============================] - 7s 45ms/step - loss: 0.0123 - iou_score: 0.9787 - f1-score: 0.9890 - categorical_accuracy: 0.1367 - val_loss: 0.0813 - val_iou_score: 0.8538 - val_f1-score: 0.9203 - val_categorical_accuracy: 0.1282\n"
     ]
    }
   ],
   "source": [
    "epochs = 200\n",
    "model.load_weights(\"./Paper/Train_3K_1S-posedetection_FPN/FPN_3k1S_Training_20Feb.h5\")\n",
    "history_callback  = model.fit(train_gen, validation_data=valid_gen, steps_per_epoch=train_steps, validation_steps=valid_steps, \n",
    "                    epochs=epochs,callbacks=callbacks)\n"
   ]
  },
  {
   "cell_type": "code",
   "execution_count": 25,
   "id": "1021b31e",
   "metadata": {},
   "outputs": [],
   "source": [
    "model.save_weights(\"FPN_3k1S_Training_20Feb.h5\")"
   ]
  },
  {
   "cell_type": "markdown",
   "id": "fcffa61d",
   "metadata": {},
   "source": [
    "# Results"
   ]
  },
  {
   "cell_type": "code",
   "execution_count": 26,
   "id": "031d79c1",
   "metadata": {},
   "outputs": [
    {
     "data": {
      "image/png": "[encoded data removed]",
      "text/plain": [
       "<Figure size 720x360 with 3 Axes>"
      ]
     },
     "metadata": {
      "needs_background": "light"
     },
     "output_type": "display_data"
    }
   ],
   "source": [
    "# Create a figure with two subplots\n",
    "fig, axs = plt.subplots(1, 3, figsize=(10, 5))\n",
    "\n",
    "# Plot the first graph on the first subplot\n",
    "axs[0].plot(history_callback.history['val_loss'])\n",
    "axs[0].set_title('val_loss')\n",
    "\n",
    "# Plot the second graph on the second subplot\n",
    "axs[1].plot(history_callback.history['iou_score'])\n",
    "axs[1].set_title('iou_score')\n",
    "\n",
    "# Plot the second graph on the second subplot\n",
    "axs[2].plot(history_callback.history['f1-score'])\n",
    "axs[2].set_title('f1-score')\n",
    "\n",
    "# Add a title to the figure\n",
    "\n",
    "# Display the plots\n",
    "plt.show()"
   ]
  },
  {
   "cell_type": "markdown",
   "id": "ccc851e8",
   "metadata": {},
   "source": [
    "### Predictions"
   ]
  },
  {
   "cell_type": "markdown",
   "id": "c83733ef",
   "metadata": {},
   "source": [
    "### Synthetic data"
   ]
  },
  {
   "cell_type": "code",
   "execution_count": 7,
   "id": "6960a6fe",
   "metadata": {},
   "outputs": [],
   "source": [
    "model.load_weights(\"./Paper/Train_3K_1S-posedetection_FPN/FPN_3k1S_Training_20Feb.h5\")"
   ]
  },
  {
   "cell_type": "code",
   "execution_count": 9,
   "id": "53f368a7",
   "metadata": {},
   "outputs": [
    {
     "name": "stdout",
     "output_type": "stream",
     "text": [
      "(8, 256, 256, 3) (8, 256, 256, 4)\n",
      "(8, 256, 256, 4)\n"
     ]
    },
    {
     "data": {
      "image/png": "[encoded data removed]",
      "text/plain": [
       "<Figure size 1080x1440 with 4 Axes>"
      ]
     },
     "metadata": {
      "needs_background": "light"
     },
     "output_type": "display_data"
    }
   ],
   "source": [
    "valid_gen = DataGen(valid_ids, train_path, image_size=image_size, batch_size=batch_size)\n",
    "\n",
    "image_size = 256\n",
    "x, y = valid_gen.__getitem__(20)\n",
    "count = 7\n",
    "print(x.shape, y.shape)\n",
    "result = model.predict(x)\n",
    "print(result.shape)\n",
    "b=3\n",
    "# buf = (np.zeros((256,256))+1)*-1\n",
    "\n",
    "#generate some sample images\n",
    "img1 = x[count,:,:,:]\n",
    "img2 = np.reshape(y[count,:,:,:b], (image_size, image_size,3))\n",
    "img3 = np.reshape(result[count,:,:,:b], (image_size, image_size,3))\n",
    "img4 = np.reshape(result[count,:,:,b], (image_size, image_size))\n",
    "\n",
    "# create the figure and subplots\n",
    "fig, ax = plt.subplots(nrows=1, ncols=4, figsize=(15,20))\n",
    "\n",
    "# plot the images on the subplots\n",
    "ax[0].imshow(img1, cmap='gray')\n",
    "ax[0].set_title('Image 1')\n",
    "ax[1].imshow(img2, cmap='gray')\n",
    "ax[1].set_title('Image 2')\n",
    "ax[2].imshow(img3, cmap='gray')\n",
    "ax[2].set_title('Image 3')\n",
    "ax[3].imshow(img4, cmap='gray')\n",
    "ax[3].set_title('Image 3')\n",
    "\n",
    "# set the title of the entire plot\n",
    "# fig.suptitle('Three Images Side by Side')\n",
    "\n",
    "# display the plot\n",
    "plt.show()\n"
   ]
  },
  {
   "cell_type": "code",
   "execution_count": 93,
   "id": "53f4bbc8",
   "metadata": {},
   "outputs": [
    {
     "data": {
      "image/png": "[encoded data removed]",
      "text/plain": [
       "<Figure size 720x360 with 3 Axes>"
      ]
     },
     "metadata": {
      "needs_background": "light"
     },
     "output_type": "display_data"
    }
   ],
   "source": [
    "\n",
    "#generate some sample images\n",
    "img1 = x[count,:,:,:]\n",
    "img2 = np.reshape(y[count,:,:,0], (image_size, image_size))\n",
    "img3 = np.reshape(result[count,:,:,0], (image_size, image_size))\n",
    "\n",
    "# create the figure and subplots\n",
    "fig, ax = plt.subplots(nrows=1, ncols=3, figsize=(10, 5))\n",
    "\n",
    "# plot the images on the subplots\n",
    "ax[0].imshow(img1, cmap='gray')\n",
    "ax[0].set_title('Image 1')\n",
    "ax[1].imshow(img2, cmap='gray')\n",
    "ax[1].set_title('Image 2')\n",
    "ax[2].imshow(img3, cmap='gray')\n",
    "ax[2].set_title('Image 3')\n",
    "\n",
    "# set the title of the entire plot\n",
    "fig.suptitle('Three Images Side by Side')\n",
    "\n",
    "# display the plot\n",
    "plt.show()\n"
   ]
  },
  {
   "cell_type": "markdown",
   "id": "63d0b11c",
   "metadata": {},
   "source": [
    "### Natural Image"
   ]
  },
  {
   "cell_type": "code",
   "execution_count": 10,
   "id": "a42dec8e",
   "metadata": {},
   "outputs": [],
   "source": [
    "def crop_and_pad_image(image):\n",
    "    if image.shape != (480, 640, 3):\n",
    "        raise ValueError(\"Error: The input image must have shape (480, 640, 3)\")\n",
    "\n",
    "    # Crop the image to the desired region\n",
    "    cropped_image = image[210:400, 64:576]\n",
    "\n",
    "    # Calculate the number of zero pixels to add to the x-axis\n",
    "    x_pad = 512 - cropped_image.shape[0]\n",
    "\n",
    "    # Pad the image with zero pixels on both sides of the x-axis\n",
    "    padded_image = np.pad(cropped_image, ((x_pad//2, x_pad//2), ( 0, 0),(0,0)), mode='constant', constant_values=0)\n",
    "\n",
    "    return padded_image\n"
   ]
  },
  {
   "cell_type": "code",
   "execution_count": 16,
   "id": "5ac9529d",
   "metadata": {
    "scrolled": true
   },
   "outputs": [
    {
     "name": "stdout",
     "output_type": "stream",
     "text": [
      "2023-02-13_03-49-41_662981.jpg\n",
      "2023-02-13_03-49-41_195740.jpg\n",
      "2023-02-13_03-49-39_428743.jpg\n",
      "2023-02-13_03-49-42_603334.jpg\n",
      "2023-02-13_03-49-45_641820.jpg\n",
      "2023-02-13_03-49-34_915184.jpg\n",
      "2023-02-13_03-49-31_189275.jpg\n",
      "2023-02-13_03-49-35_687674.jpg\n",
      "2023-02-13_03-49-31_497698.jpg\n",
      "2023-02-13_03-49-32_124160.jpg\n",
      "2023-02-13_03-49-37_239382.jpg\n",
      "2023-02-13_03-49-44_216195.jpg\n",
      "2023-02-13_03-49-41_354111.jpg\n",
      "2023-02-13_03-49-30_579094.jpg\n",
      "2023-02-13_03-49-42_289338.jpg\n",
      "2023-02-13_03-49-45_157627.jpg\n",
      "2023-02-13_03-49-43_122828.jpg\n",
      "2023-02-13_03-49-41_037877.jpg\n",
      "2023-02-13_03-49-42_949163.jpg\n",
      "2023-02-13_03-49-30_884121.jpg\n",
      "2023-02-13_03-49-32_431881.jpg\n",
      "2023-02-13_03-49-43_434298.jpg\n",
      "2023-02-13_03-49-44_838329.jpg\n",
      "2023-02-13_03-49-45_800789.jpg\n",
      "2023-02-13_03-49-36_310328.jpg\n",
      "2023-02-13_03-49-38_166287.jpg\n",
      "2023-02-13_03-49-45_326267.jpg\n",
      "2023-02-13_03-49-39_098911.jpg\n",
      "2023-02-13_03-49-37_395239.jpg\n",
      "2023-02-13_03-49-42_775677.jpg\n",
      "2023-02-13_03-49-40_087725.jpg\n",
      "2023-02-13_03-49-41_509704.jpg\n",
      "2023-02-13_03-49-42_446908.jpg\n",
      "2023-02-13_03-49-32_276595.jpg\n",
      "2023-02-13_03-49-31_650265.jpg\n",
      "2023-02-13_03-49-38_942701.jpg\n",
      "2023-02-13_03-49-32_897172.jpg\n",
      "2023-02-13_03-49-32_589488.jpg\n",
      "2023-02-13_03-49-30_271039.jpg\n",
      "2023-02-13_03-49-41_813645.jpg\n",
      "2023-02-13_03-49-39_255930.jpg\n",
      "2023-02-13_03-49-34_291167.jpg\n",
      "2023-02-13_03-49-33_972461.jpg\n",
      "2023-02-13_03-49-36_464475.jpg\n",
      "2023-02-13_03-49-35_532654.jpg\n",
      "2023-02-13_03-49-45_952430.jpg\n",
      "2023-02-13_03-49-33_817111.jpg\n",
      "2023-02-13_03-49-34_750900.jpg\n",
      "2023-02-13_03-49-40_242449.jpg\n",
      "2023-02-13_03-49-40_575914.jpg\n",
      "2023-02-13_03-49-31_342593.jpg\n",
      "2023-02-13_03-49-44_523634.jpg\n",
      "2023-02-13_03-49-31_971715.jpg\n",
      "2023-02-13_03-49-33_048625.jpg\n",
      "2023-02-13_03-49-30_425422.jpg\n",
      "2023-02-13_03-49-40_878199.jpg\n",
      "2023-02-13_03-49-35_377573.jpg\n",
      "2023-02-13_03-49-37_555189.jpg\n",
      "2023-02-13_03-49-37_087195.jpg\n",
      "2023-02-13_03-49-46_104624.jpg\n",
      "2023-02-13_03-49-33_510015.jpg\n",
      "2023-02-13_03-49-35_844304.jpg\n",
      "2023-02-13_03-49-40_406577.jpg\n",
      "2023-02-13_03-49-35_223538.jpg\n",
      "2023-02-13_03-49-41_970883.jpg\n",
      "2023-02-13_03-49-33_200677.jpg\n",
      "2023-02-13_03-49-36_930331.jpg\n",
      "2023-02-13_03-49-31_809947.jpg\n",
      "2023-02-13_03-49-31_038573.jpg\n",
      "2023-02-13_03-49-33_355947.jpg\n",
      "2023-02-13_03-49-43_593522.jpg\n",
      "2023-02-13_03-49-44_680499.jpg\n",
      "2023-02-13_03-49-38_788165.jpg\n",
      "2023-02-13_03-49-30_731961.jpg\n",
      "2023-02-13_03-49-32_744541.jpg\n",
      "2023-02-13_03-49-36_772769.jpg\n",
      "2023-02-13_03-49-37_863173.jpg\n",
      "2023-02-13_03-49-36_617827.jpg\n",
      "2023-02-13_03-49-34_600011.jpg\n",
      "2023-02-13_03-49-44_368670.jpg\n",
      "2023-02-13_03-49-38_630745.jpg\n",
      "2023-02-13_03-49-44_066078.jpg\n",
      "2023-02-13_03-49-35_071867.jpg\n",
      "2023-02-13_03-49-38_318886.jpg\n",
      "2023-02-13_03-49-34_131680.jpg\n",
      "2023-02-13_03-49-39_596725.jpg\n",
      "2023-02-13_03-49-39_763441.jpg\n",
      "2023-02-13_03-49-43_753056.jpg\n",
      "2023-02-13_03-49-43_276228.jpg\n",
      "2023-02-13_03-49-36_157451.jpg\n",
      "2023-02-13_03-49-38_016793.jpg\n",
      "2023-02-13_03-49-43_910855.jpg\n",
      "2023-02-13_03-49-39_923307.jpg\n",
      "2023-02-13_03-49-40_727582.jpg\n",
      "2023-02-13_03-49-38_473269.jpg\n",
      "2023-02-13_03-49-36_002442.jpg\n",
      "2023-02-13_03-49-42_130018.jpg\n",
      "2023-02-13_03-49-45_485967.jpg\n",
      "2023-02-13_03-49-44_990975.jpg\n",
      "2023-02-13_03-49-33_662273.jpg\n",
      "2023-02-13_03-49-34_444179.jpg\n",
      "2023-02-13_03-49-37_708030.jpg\n"
     ]
    }
   ],
   "source": [
    "test_list = os.listdir('./test_video')\n",
    "\n",
    "\n",
    "for img in test_list:\n",
    "    print(img)\n",
    "    bee = cv2.imread('./test_video/'+img)\n",
    "    bee = crop_and_pad_image(bee)\n",
    "    bee = bee/255\n",
    "    bee = cv2.resize(bee, (image_size, image_size))\n",
    "    bee_save = bee\n",
    "\n",
    "#     bee = np.expand_dims(bee, axis=0)\n",
    "#     result = model.predict(bee)\n",
    "#     print(result.shape)\n",
    "    result_img = np.reshape(result[0,:,:,:], (image_size, image_size,4))\n",
    "# #     result_img = cv2.cvtColor(result_img, cv2.COLOR_GRAY2BGR)\n",
    "    \n",
    "#     bck = np.zeros((image_size,image_size*2+3,4))\n",
    "#     bck[:, :image_size,:]= bee_save\n",
    "#     bck[:,image_size:image_size+3,:] = 1\n",
    "#     bck[:, image_size+3:,:] = result_img\n",
    "\n",
    "    \n",
    "    \n",
    "    np.save('./test_video_result_fpn/'+os.path.splitext(img)[0]+'.npy', result_img) \n"
   ]
  },
  {
   "cell_type": "code",
   "execution_count": 20,
   "id": "c9cec070",
   "metadata": {},
   "outputs": [
    {
     "name": "stdout",
     "output_type": "stream",
     "text": [
      "(256, 256, 4)\n"
     ]
    },
    {
     "data": {
      "text/plain": [
       "<matplotlib.image.AxesImage at 0x7fadec868bd0>"
      ]
     },
     "execution_count": 20,
     "metadata": {},
     "output_type": "execute_result"
    },
    {
     "data": {
      "image/png": "[encoded data removed]",
      "text/plain": [
       "<Figure size 432x288 with 1 Axes>"
      ]
     },
     "metadata": {
      "needs_background": "light"
     },
     "output_type": "display_data"
    }
   ],
   "source": [
    "im = np.load('./test_video_result_fpn/2023-02-13_03-49-30_579094.npy')\n",
    "print(im.shape)\n",
    "plt.imshow(im[:,:,3])"
   ]
  },
  {
   "cell_type": "code",
   "execution_count": 52,
   "id": "30abcaac",
   "metadata": {},
   "outputs": [
    {
     "name": "stdout",
     "output_type": "stream",
     "text": [
      "(256, 256, 4)\n"
     ]
    },
    {
     "data": {
      "text/plain": [
       "Text(0.5, 1.0, 'Image 2')"
      ]
     },
     "execution_count": 52,
     "metadata": {},
     "output_type": "execute_result"
    },
    {
     "data": {
      "image/png": "[encoded data removed]",
      "text/plain": [
       "<Figure size 720x360 with 3 Axes>"
      ]
     },
     "metadata": {
      "needs_background": "light"
     },
     "output_type": "display_data"
    }
   ],
   "source": [
    "image_size =256\n",
    "# img = '2023-02-13_03-18-05_384810.jpg'\n",
    "bee = cv2.imread('./Test_data/2023-02-13_03-18-25_233091.jpg')\n",
    "bee = crop_and_pad_image(bee)\n",
    "bee = bee/255\n",
    "bee = cv2.resize(bee, (image_size, image_size))\n",
    "\n",
    "bee = np.expand_dims(bee, axis=0)\n",
    "result = model.predict(bee)\n",
    "# result.shape\n",
    "result_img = np.reshape(result[0,:,:,:], (image_size, image_size,4))\n",
    "print(result_img.shape)\n",
    "# result_img = cv2.cvtColor(result_img, cv2.COLOR_GRAY2BGR)\n",
    "\n",
    "\n",
    "fig, ax = plt.subplots(nrows=1, ncols=3, figsize=(10, 5))\n",
    "\n",
    "# plot the images on the subplots\n",
    "ax[0].imshow(bee[0], cmap='gray')\n",
    "ax[0].set_title('Image 1')\n",
    "ax[1].imshow(result_img[:,:,:3], cmap='gray')\n",
    "ax[1].set_title('Image 2')\n",
    "ax[2].imshow(result_img[:,:,3], cmap='gray')\n",
    "ax[2].set_title('Image 2')\n",
    "\n",
    "# bck = np.zeros((image_size,image_size*2+3,3))\n",
    "# bck[:, :image_size,:]= bee_save\n",
    "# bck[:,image_size:image_size+3,:] = 1\n",
    "# bck[:, image_size+3:,:] = result_img\n",
    "\n",
    "# cv2.imwrite('./Test_result/'+img, result_img*255) "
   ]
  },
  {
   "cell_type": "code",
   "execution_count": 136,
   "id": "c3f66c13",
   "metadata": {},
   "outputs": [
    {
     "data": {
      "text/plain": [
       "<matplotlib.image.AxesImage at 0x7f055ec8c590>"
      ]
     },
     "execution_count": 136,
     "metadata": {},
     "output_type": "execute_result"
    },
    {
     "data": {
      "image/png": "[encoded data removed]",
      "text/plain": [
       "<Figure size 432x288 with 1 Axes>"
      ]
     },
     "metadata": {
      "needs_background": "light"
     },
     "output_type": "display_data"
    }
   ],
   "source": [
    "plt.imshow(bee[0])"
   ]
  },
  {
   "cell_type": "markdown",
   "id": "8d1e6147",
   "metadata": {},
   "source": [
    "### Test Normalization"
   ]
  },
  {
   "cell_type": "code",
   "execution_count": 36,
   "id": "b01fd09c",
   "metadata": {},
   "outputs": [
    {
     "name": "stdout",
     "output_type": "stream",
     "text": [
      "(512, 512, 7)\n"
     ]
    }
   ],
   "source": [
    "mask = np.load('./synthetic_data/Masks/SYNBEE_100.npy')\n",
    "print(mask.shape)"
   ]
  },
  {
   "cell_type": "code",
   "execution_count": 49,
   "id": "a9dfd098",
   "metadata": {},
   "outputs": [
    {
     "name": "stdout",
     "output_type": "stream",
     "text": [
      "0.9994059701161088 -0.9874406358203264\n"
     ]
    },
    {
     "data": {
      "text/plain": [
       "<matplotlib.image.AxesImage at 0x7f6b21082710>"
      ]
     },
     "execution_count": 49,
     "metadata": {},
     "output_type": "execute_result"
    },
    {
     "data": {
      "image/png": "[encoded data removed]",
      "text/plain": [
       "<Figure size 432x288 with 1 Axes>"
      ]
     },
     "metadata": {
      "needs_background": "light"
     },
     "output_type": "display_data"
    }
   ],
   "source": [
    "band3 = mask[:,:,6]\n",
    "print(band3.max(), band3.min())\n",
    "plt.imshow(band3)"
   ]
  },
  {
   "cell_type": "code",
   "execution_count": 50,
   "id": "418e12c8",
   "metadata": {},
   "outputs": [
    {
     "name": "stdout",
     "output_type": "stream",
     "text": [
      "0.9997029850580543 0.0\n"
     ]
    },
    {
     "data": {
      "text/plain": [
       "<matplotlib.image.AxesImage at 0x7f6b210c7350>"
      ]
     },
     "execution_count": 50,
     "metadata": {},
     "output_type": "execute_result"
    },
    {
     "data": {
      "image/png": "[encoded data removed]",
      "text/plain": [
       "<Figure size 432x288 with 1 Axes>"
      ]
     },
     "metadata": {
      "needs_background": "light"
     },
     "output_type": "display_data"
    }
   ],
   "source": [
    "band3_norm = np.where(band3==0, band3, (band3+1)/2)\n",
    "print(band3_norm.max(), band3_norm.min())\n",
    "plt.imshow(band3_norm)"
   ]
  },
  {
   "cell_type": "code",
   "execution_count": 51,
   "id": "04ebb7c3",
   "metadata": {},
   "outputs": [
    {
     "name": "stdout",
     "output_type": "stream",
     "text": [
      "0.9994059701161087 -0.9874406358203264\n"
     ]
    },
    {
     "data": {
      "text/plain": [
       "<matplotlib.image.AxesImage at 0x7f6c0accdf50>"
      ]
     },
     "execution_count": 51,
     "metadata": {},
     "output_type": "execute_result"
    },
    {
     "data": {
      "image/png": "[encoded data removed]",
      "text/plain": [
       "<Figure size 432x288 with 1 Axes>"
      ]
     },
     "metadata": {
      "needs_background": "light"
     },
     "output_type": "display_data"
    }
   ],
   "source": [
    "band3_norm_back = np.where(band3_norm==0, band3_norm, (2*band3_norm-1))\n",
    "print(band3_norm_back.max(), band3_norm_back.min())\n",
    "plt.imshow(band3_norm_back)"
   ]
  },
  {
   "cell_type": "code",
   "execution_count": 239,
   "id": "0e9c8a1c",
   "metadata": {},
   "outputs": [],
   "source": [
    "def genDensity(dot_im, sigma=3):\n",
    "    '''\n",
    "    @brief: This function gets a dotted image and returns its density map.\n",
    "    @param: dots: annotated dot image.\n",
    "    @param: sigmadots: density radius.\n",
    "    @return: density map for the input dots image.\n",
    "    '''        \n",
    "\n",
    "    dot1 = gaussian_filter(dot_im[:,:,0], sigma)\n",
    "    dot2 = gaussian_filter(dot_im[:,:,1], sigma)\n",
    "    dot3 = gaussian_filter(dot_im[:,:,2], sigma)\n",
    "    dot = np.zeros_like(dot_im)\n",
    "    dot[:,:,0] = dot1\n",
    "    dot[:,:,1] = dot2\n",
    "    dot[:,:,2] = dot3                                      \n",
    "\n",
    "    return dot.astype(np.float32)"
   ]
  },
  {
   "cell_type": "code",
   "execution_count": 297,
   "id": "c89a2476",
   "metadata": {},
   "outputs": [
    {
     "name": "stdout",
     "output_type": "stream",
     "text": [
      "0.99999994\n"
     ]
    },
    {
     "data": {
      "text/plain": [
       "<matplotlib.image.AxesImage at 0x7f6cb4c87210>"
      ]
     },
     "execution_count": 297,
     "metadata": {},
     "output_type": "execute_result"
    },
    {
     "data": {
      "image/png": "[encoded data removed]",
      "text/plain": [
       "<Figure size 432x288 with 1 Axes>"
      ]
     },
     "metadata": {
      "needs_background": "light"
     },
     "output_type": "display_data"
    }
   ],
   "source": [
    "x = np.zeros((20,20,3))\n",
    "x[5,5,0] = 1\n",
    "xg = genDensity(x, 1)\n",
    "print(xg.sum())\n",
    "plt.imshow(xg[:,:,0])"
   ]
  },
  {
   "cell_type": "code",
   "execution_count": 261,
   "id": "cd99b2e4",
   "metadata": {},
   "outputs": [
    {
     "name": "stdout",
     "output_type": "stream",
     "text": [
      "0.25\n"
     ]
    },
    {
     "data": {
      "text/plain": [
       "<matplotlib.image.AxesImage at 0x7f6890ed9250>"
      ]
     },
     "execution_count": 261,
     "metadata": {},
     "output_type": "execute_result"
    },
    {
     "data": {
      "image/png": "[encoded data removed]",
      "text/plain": [
       "<Figure size 432x288 with 1 Axes>"
      ]
     },
     "metadata": {
      "needs_background": "light"
     },
     "output_type": "display_data"
    }
   ],
   "source": [
    "mask = cv2.resize(x, (10,10), interpolation = cv2.INTER_AREA)\n",
    "\n",
    "xg1 = genDensity(mask, 1)\n",
    "print(xg1.sum())\n",
    "plt.imshow(xg1[:,:,0])"
   ]
  },
  {
   "cell_type": "code",
   "execution_count": 255,
   "id": "8f434171",
   "metadata": {},
   "outputs": [
    {
     "data": {
      "text/plain": [
       "array([[1.2340980e-04, 1.5034392e-03, 6.7379470e-03, 1.1108996e-02,\n",
       "        6.7379470e-03],\n",
       "       [1.5034392e-03, 1.8315639e-02, 8.2084998e-02, 1.3533528e-01,\n",
       "        8.2084998e-02],\n",
       "       [6.7379470e-03, 8.2084998e-02, 3.6787942e-01, 6.0653067e-01,\n",
       "        3.6787942e-01],\n",
       "       [1.1108996e-02, 1.3533528e-01, 6.0653067e-01, 1.0000000e+00,\n",
       "        6.0653067e-01],\n",
       "       [6.7379470e-03, 8.2084998e-02, 3.6787942e-01, 6.0653067e-01,\n",
       "        3.6787942e-01]], dtype=float32)"
      ]
     },
     "execution_count": 255,
     "metadata": {},
     "output_type": "execute_result"
    }
   ],
   "source": [
    "xg[:,:,0] = xg[:,:,0]/xg[:,:,0].max()\n",
    "xg[2:7,2:7,0]"
   ]
  },
  {
   "cell_type": "code",
   "execution_count": 256,
   "id": "5e6a34fb",
   "metadata": {},
   "outputs": [
    {
     "data": {
      "text/plain": [
       "array([[0.02144593, 0.08887208, 0.14644429, 0.08882295],\n",
       "       [0.08887208, 0.3682865 , 0.6068661 , 0.3680829 ],\n",
       "       [0.14644429, 0.6068661 , 1.        , 0.60653067],\n",
       "       [0.08882295, 0.3680829 , 0.60653067, 0.36787942]], dtype=float32)"
      ]
     },
     "execution_count": 256,
     "metadata": {},
     "output_type": "execute_result"
    }
   ],
   "source": [
    "xg1[:,:,0] = xg1[:,:,0]/xg1[:,:,0].max()\n",
    "xg1[0:4,0:4,0]"
   ]
  },
  {
   "cell_type": "code",
   "execution_count": 264,
   "id": "526b7778",
   "metadata": {},
   "outputs": [
    {
     "name": "stdout",
     "output_type": "stream",
     "text": [
      "1.0\n",
      "0.25\n"
     ]
    }
   ],
   "source": [
    "x = np.zeros((20,20,3))\n",
    "x[5,5,0] = 1\n",
    "print(x.sum())\n",
    "\n",
    "x_ = cv2.resize(x, (10,10), interpolation = cv2.INTER_AREA)\n",
    "\n",
    "print(x_.sum())"
   ]
  },
  {
   "cell_type": "code",
   "execution_count": 266,
   "id": "ae667776",
   "metadata": {},
   "outputs": [
    {
     "name": "stdout",
     "output_type": "stream",
     "text": [
      "0.99999994\n"
     ]
    }
   ],
   "source": [
    "xg = genDensity(x, 1)\n",
    "print(xg.sum())"
   ]
  },
  {
   "cell_type": "code",
   "execution_count": 267,
   "id": "c71d1a12",
   "metadata": {},
   "outputs": [
    {
     "name": "stdout",
     "output_type": "stream",
     "text": [
      "0.25\n"
     ]
    }
   ],
   "source": [
    "xg1 = genDensity(x_, 1)\n",
    "print(xg1.sum())"
   ]
  },
  {
   "cell_type": "code",
   "execution_count": 298,
   "id": "58170f04",
   "metadata": {},
   "outputs": [
    {
     "name": "stdout",
     "output_type": "stream",
     "text": [
      "1.0\n"
     ]
    },
    {
     "data": {
      "text/plain": [
       "<matplotlib.image.AxesImage at 0x7f6b11f7d050>"
      ]
     },
     "execution_count": 298,
     "metadata": {},
     "output_type": "execute_result"
    },
    {
     "data": {
      "image/png": "[encoded data removed]",
      "text/plain": [
       "<Figure size 432x288 with 1 Axes>"
      ]
     },
     "metadata": {
      "needs_background": "light"
     },
     "output_type": "display_data"
    }
   ],
   "source": [
    "mask = cv2.resize(x, (10,10), interpolation = cv2.INTER_AREA)\n",
    "mask = mask/0.25\n",
    "\n",
    "xg1 = genDensity(mask, 1)\n",
    "print(xg1.sum())\n",
    "plt.imshow(xg1[:,:,0])"
   ]
  },
  {
   "cell_type": "code",
   "execution_count": 299,
   "id": "ad797162",
   "metadata": {},
   "outputs": [
    {
     "data": {
      "text/plain": [
       "array([[0.02144593, 0.08887208, 0.14644429, 0.08882295],\n",
       "       [0.08887208, 0.3682865 , 0.6068661 , 0.3680829 ],\n",
       "       [0.14644429, 0.6068661 , 1.        , 0.60653067],\n",
       "       [0.08882295, 0.3680829 , 0.60653067, 0.36787942]], dtype=float32)"
      ]
     },
     "execution_count": 299,
     "metadata": {},
     "output_type": "execute_result"
    }
   ],
   "source": [
    "xg1[:,:,0] = xg1[:,:,0]/xg1[:,:,0].max()\n",
    "xg1[0:4,0:4,0]"
   ]
  },
  {
   "cell_type": "code",
   "execution_count": null,
   "id": "61768cef",
   "metadata": {},
   "outputs": [],
   "source": []
  }
 ],
 "metadata": {
  "kernelspec": {
   "display_name": "Python 3 (ipykernel)",
   "language": "python",
   "name": "python3"
  },
  "language_info": {
   "codemirror_mode": {
    "name": "ipython",
    "version": 3
   },
   "file_extension": ".py",
   "mimetype": "text/x-python",
   "name": "python",
   "nbconvert_exporter": "python",
   "pygments_lexer": "ipython3",
   "version": "3.8.0"
  }
 },
 "nbformat": 4,
 "nbformat_minor": 5
}
